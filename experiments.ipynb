{
  "nbformat": 4,
  "nbformat_minor": 0,
  "metadata": {
    "colab": {
      "name": "experiments.ipynb",
      "provenance": [],
      "collapsed_sections": [],
      "mount_file_id": "1QdLo9cxIYtSWlnDsTYo6NccHxD_NbNt1",
      "authorship_tag": "ABX9TyNw7dje0Jp3Bt/oTSxClpk3"
    },
    "kernelspec": {
      "name": "python3",
      "display_name": "Python 3"
    },
    "language_info": {
      "name": "python"
    },
    "accelerator": "GPU"
  },
  "cells": [
    {
      "cell_type": "markdown",
      "source": [
        "# Out of distribution detection using a corpus of latent representation examples\n"
      ],
      "metadata": {
        "id": "1xrWxrSEPRPJ"
      }
    },
    {
      "cell_type": "markdown",
      "source": [
        "## Imports"
      ],
      "metadata": {
        "id": "6OkeTm8NPw1w"
      }
    },
    {
      "cell_type": "code",
      "execution_count": 1,
      "metadata": {
        "id": "DvBiYfvE6O1G"
      },
      "outputs": [],
      "source": [
        "! pip install -q transformers torch SciencePlots"
      ]
    },
    {
      "cell_type": "markdown",
      "source": [
        "## Load Data"
      ],
      "metadata": {
        "id": "-039T-ByP3Sa"
      }
    },
    {
      "cell_type": "markdown",
      "source": [
        "Load clinic150 dataset"
      ],
      "metadata": {
        "id": "ErSyFuU3QFJj"
      }
    },
    {
      "cell_type": "code",
      "source": [
        "import json\n",
        "with open('/content/data/clinc150_uci/data_full.json') as f:\n",
        "  data = json.load(f)"
      ],
      "metadata": {
        "id": "2KCl3NUu8Ovl"
      },
      "execution_count": 2,
      "outputs": []
    },
    {
      "cell_type": "code",
      "source": [
        "data.keys()"
      ],
      "metadata": {
        "colab": {
          "base_uri": "https://localhost:8080/"
        },
        "id": "fcxfnd8N9BSh",
        "outputId": "55721159-98f4-4a2e-d6aa-bcfe0c690800"
      },
      "execution_count": 3,
      "outputs": [
        {
          "output_type": "execute_result",
          "data": {
            "text/plain": [
              "dict_keys(['oos_val', 'val', 'train', 'oos_test', 'test', 'oos_train'])"
            ]
          },
          "metadata": {},
          "execution_count": 3
        }
      ]
    },
    {
      "cell_type": "markdown",
      "source": [
        "Peek at some examples"
      ],
      "metadata": {
        "id": "J3yr0VtxP8sy"
      }
    },
    {
      "cell_type": "code",
      "source": [
        "data['train'][:10]"
      ],
      "metadata": {
        "colab": {
          "base_uri": "https://localhost:8080/"
        },
        "id": "xmjNobSU967f",
        "outputId": "5ff6e75a-1db3-48b2-f867-fa37fdd224cb"
      },
      "execution_count": 4,
      "outputs": [
        {
          "output_type": "execute_result",
          "data": {
            "text/plain": [
              "[['what expression would i use to say i love you if i were an italian',\n",
              "  'translate'],\n",
              " [\"can you tell me how to say 'i do not speak much spanish', in spanish\",\n",
              "  'translate'],\n",
              " [\"what is the equivalent of, 'life is good' in french\", 'translate'],\n",
              " [\"tell me how to say, 'it is a beautiful morning' in italian\", 'translate'],\n",
              " ['if i were mongolian, how would i say that i am a tourist', 'translate'],\n",
              " [\"how do i say 'hotel' in finnish\", 'translate'],\n",
              " [\"i need you to translate the sentence, 'we will be there soon' into portuguese\",\n",
              "  'translate'],\n",
              " ['please tell me how to ask for a taxi in french', 'translate'],\n",
              " [\"can you tell me how i would say, 'more bread please' in french\",\n",
              "  'translate'],\n",
              " [\"what is the correct way to say 'i am a visitor' in french\", 'translate']]"
            ]
          },
          "metadata": {},
          "execution_count": 4
        }
      ]
    },
    {
      "cell_type": "code",
      "source": [
        "data['oos_train'][:10]"
      ],
      "metadata": {
        "colab": {
          "base_uri": "https://localhost:8080/"
        },
        "id": "VVgCH5yjPBGk",
        "outputId": "b16b555f-3ac8-4271-aa02-0445753982bf"
      },
      "execution_count": 5,
      "outputs": [
        {
          "output_type": "execute_result",
          "data": {
            "text/plain": [
              "[['how much is an overdraft fee for bank', 'oos'],\n",
              " ['why are exponents preformed before multiplication in the order of operations',\n",
              "  'oos'],\n",
              " ['what size wipers does this car take', 'oos'],\n",
              " ['where is the dipstick', 'oos'],\n",
              " ['how much is 1 share of aapl', 'oos'],\n",
              " ['how is glue made', 'oos'],\n",
              " ['any headlines from my area', 'oos'],\n",
              " ['what is the largest state in the us', 'oos'],\n",
              " ['what is the current market trend', 'oos'],\n",
              " ['what is the most popular airline', 'oos']]"
            ]
          },
          "metadata": {},
          "execution_count": 5
        }
      ]
    },
    {
      "cell_type": "markdown",
      "source": [
        "Combine all oos (out of scope) data as it is not used for training. Also change dict keys for more verbose naming"
      ],
      "metadata": {
        "id": "vcC2aWLLQNtx"
      }
    },
    {
      "cell_type": "code",
      "source": [
        "ood_keys = [key for key in data.keys() if 'oos' in key]\n",
        "data['OOD'] = []\n",
        "for key in ood_keys:\n",
        "  data['OOD'] += data.pop(key)"
      ],
      "metadata": {
        "id": "9QrzPiSzOOPv"
      },
      "execution_count": 6,
      "outputs": []
    },
    {
      "cell_type": "code",
      "source": [
        "data['validation'] = data.pop('val')\n",
        "data['in scope'] = data.pop('test')"
      ],
      "metadata": {
        "id": "2RX9HB8Bd2Ap"
      },
      "execution_count": 7,
      "outputs": []
    },
    {
      "cell_type": "markdown",
      "source": [
        "## Transformer Training"
      ],
      "metadata": {
        "id": "MgNOeKybQgFm"
      }
    },
    {
      "cell_type": "markdown",
      "source": [
        "We are going to finetune a pre-trained roberta-base huggingFace transformer to the task of classifying the clinic150 texts. In huggingFace terminology this is sequence classification."
      ],
      "metadata": {
        "id": "bUnFdtqKQod0"
      }
    },
    {
      "cell_type": "markdown",
      "source": [
        "### Create HuggingFace Datasets"
      ],
      "metadata": {
        "id": "TpAQHl_eQ7Zx"
      }
    },
    {
      "cell_type": "markdown",
      "source": [
        "First we need to tokenize the input texts and convert the string labels to ids. We will use dynamic padding to increase training effiency."
      ],
      "metadata": {
        "id": "UcQ730jPRDwm"
      }
    },
    {
      "cell_type": "code",
      "source": [
        "from transformers import AutoTokenizer, DataCollatorWithPadding\n",
        "\n",
        "checkpoint = \"roberta-base\"\n",
        "tokenizer = AutoTokenizer.from_pretrained(checkpoint)\n",
        "data_collator = DataCollatorWithPadding(tokenizer)"
      ],
      "metadata": {
        "id": "0HRmKobDILmH"
      },
      "execution_count": 8,
      "outputs": []
    },
    {
      "cell_type": "markdown",
      "source": [
        "Define dataset"
      ],
      "metadata": {
        "id": "xX-g33ZDRcwN"
      }
    },
    {
      "cell_type": "code",
      "source": [
        "from torch.utils.data import Dataset\n",
        "\n",
        "class HuggingFaceDataset(Dataset):\n",
        "  def __init__(self, label2id, tokenizer, texts, labels=None, subset=None):\n",
        "    self._dict = tokenizer(texts, truncation=True)\n",
        "    if labels is not None:\n",
        "      self._dict['labels'] = [label2id[label] for label in labels]\n",
        "\n",
        "  def __len__(self):\n",
        "        return len(self._dict[\"input_ids\"])\n",
        "\n",
        "  def __getitem__(self, idx):\n",
        "      return {k: v[idx] for k, v in self._dict.items()}"
      ],
      "metadata": {
        "id": "-lmnAdNNEjqi"
      },
      "execution_count": 9,
      "outputs": []
    },
    {
      "cell_type": "markdown",
      "source": [
        "Create huggingFace dataset for each clinic150 dataset (train, val, test, oos)"
      ],
      "metadata": {
        "id": "4uxy84DxRlqy"
      }
    },
    {
      "cell_type": "code",
      "source": [
        "label_names = sorted({label for _, label in data['train']})\n",
        "id2label = dict(enumerate(sorted(label_names)))\n",
        "label2id = {v: k for k, v in id2label.items()}\n",
        "\n",
        "datasets_hf = {}\n",
        "for key, dataset in data.items():\n",
        "  texts, labels = map(list,zip(*dataset))\n",
        "  if labels[0] == 'oos':\n",
        "    labels = None\n",
        "  datasets_hf[key] = HuggingFaceDataset(label2id, tokenizer, texts, labels) "
      ],
      "metadata": {
        "id": "2x5T-5SvRifL"
      },
      "execution_count": 10,
      "outputs": []
    },
    {
      "cell_type": "markdown",
      "source": [
        "Check lengths of dataset and tokens"
      ],
      "metadata": {
        "id": "_oh2lHzORhSy"
      }
    },
    {
      "cell_type": "code",
      "source": [
        "for key, dataset in datasets_hf.items():\n",
        "  print(key, len(dataset))"
      ],
      "metadata": {
        "colab": {
          "base_uri": "https://localhost:8080/"
        },
        "id": "TvZ2D0kpQVYk",
        "outputId": "c2bb154b-9614-40c0-b33a-783810f0a4a9"
      },
      "execution_count": 11,
      "outputs": [
        {
          "output_type": "stream",
          "name": "stdout",
          "text": [
            "train 15000\n",
            "OOD 1200\n",
            "validation 3000\n",
            "in scope 4500\n"
          ]
        }
      ]
    },
    {
      "cell_type": "code",
      "source": [
        "import matplotlib.pyplot as plt\n",
        "plt.style.use(['science', 'ieee', 'no-latex'])\n",
        "plt.rcParams[\"figure.figsize\"] = [6.4, 4.8]\n",
        "plt.rcParams[\"figure.dpi\"] = 100\n",
        "\n",
        "plt.hist([len(sample['input_ids']) for sample in datasets_hf['train']])\n",
        "plt.ylabel('Frequency')\n",
        "plt.xlabel('Token Length')"
      ],
      "metadata": {
        "colab": {
          "base_uri": "https://localhost:8080/",
          "height": 436
        },
        "id": "ueVQCkDht6Yk",
        "outputId": "80b862d8-2ba5-4d12-f2fa-17efc64a7ea4"
      },
      "execution_count": 12,
      "outputs": [
        {
          "output_type": "execute_result",
          "data": {
            "text/plain": [
              "Text(0.5, 0, 'Token Length')"
            ]
          },
          "metadata": {},
          "execution_count": 12
        },
        {
          "output_type": "stream",
          "name": "stderr",
          "text": [
            "findfont: Font family ['serif'] not found. Falling back to DejaVu Sans.\n"
          ]
        },
        {
          "output_type": "display_data",
          "data": {
            "image/png": "[encoded data removed]",
            "text/plain": [
              "<Figure size 640x480 with 1 Axes>"
            ]
          },
          "metadata": {
            "needs_background": "light"
          }
        }
      ]
    },
    {
      "cell_type": "markdown",
      "source": [
        "### Train Model"
      ],
      "metadata": {
        "id": "etoXdb7HR4eO"
      }
    },
    {
      "cell_type": "markdown",
      "source": [
        "Setup training objects: models, arguments and metrics"
      ],
      "metadata": {
        "id": "L3kMUkg6R_kV"
      }
    },
    {
      "cell_type": "code",
      "source": [
        "from transformers import AutoModelForSequenceClassification\n",
        "\n",
        "model = AutoModelForSequenceClassification.from_pretrained(\n",
        "    checkpoint,\n",
        "    num_labels=len(label_names),\n",
        ")"
      ],
      "metadata": {
        "colab": {
          "base_uri": "https://localhost:8080/"
        },
        "id": "no8WjPFcRsKd",
        "outputId": "0853518c-9896-431c-ff3a-e1ac702c46a5"
      },
      "execution_count": 13,
      "outputs": [
        {
          "output_type": "stream",
          "name": "stderr",
          "text": [
            "Some weights of the model checkpoint at roberta-base were not used when initializing RobertaForSequenceClassification: ['roberta.pooler.dense.weight', 'lm_head.decoder.weight', 'lm_head.layer_norm.weight', 'roberta.pooler.dense.bias', 'lm_head.bias', 'lm_head.layer_norm.bias', 'lm_head.dense.weight', 'lm_head.dense.bias']\n",
            "- This IS expected if you are initializing RobertaForSequenceClassification from the checkpoint of a model trained on another task or with another architecture (e.g. initializing a BertForSequenceClassification model from a BertForPreTraining model).\n",
            "- This IS NOT expected if you are initializing RobertaForSequenceClassification from the checkpoint of a model that you expect to be exactly identical (initializing a BertForSequenceClassification model from a BertForSequenceClassification model).\n",
            "Some weights of RobertaForSequenceClassification were not initialized from the model checkpoint at roberta-base and are newly initialized: ['classifier.dense.weight', 'classifier.out_proj.weight', 'classifier.out_proj.bias', 'classifier.dense.bias']\n",
            "You should probably TRAIN this model on a down-stream task to be able to use it for predictions and inference.\n"
          ]
        }
      ]
    },
    {
      "cell_type": "code",
      "source": [
        "from transformers import TrainingArguments\n",
        "\n",
        "batch_size=32\n",
        "args = TrainingArguments(\n",
        "    \"inscope_text_classification\",\n",
        "    per_device_train_batch_size=batch_size,\n",
        "    per_device_eval_batch_size=batch_size,\n",
        "    evaluation_strategy=\"epoch\",\n",
        "    save_strategy=\"epoch\",\n",
        "    logging_strategy=\"epoch\",\n",
        "    learning_rate=5e-5,\n",
        "    num_train_epochs=10,\n",
        "    weight_decay=0.01,\n",
        "    group_by_length=True,\n",
        "    warmup_ratio=0.1,\n",
        "    load_best_model_at_end=True\n",
        ")\n"
      ],
      "metadata": {
        "id": "w1tvUeaNR4eo"
      },
      "execution_count": 14,
      "outputs": []
    },
    {
      "cell_type": "code",
      "source": [
        "from sklearn.metrics import precision_recall_fscore_support\n",
        "import numpy as np\n",
        "\n",
        "def compute_metrics(eval_pred):\n",
        "  \"\"\"Called to compute validation metrics at each evaluation step of training.\"\"\"\n",
        "  logits, labels = eval_pred\n",
        "  labels = labels.flatten()\n",
        "  predictions = np.argmax(logits, axis=-1).flatten()\n",
        "\n",
        "  precision, recall, f1, _ = precision_recall_fscore_support(\n",
        "      labels, predictions, average='macro', zero_division=0\n",
        "  )\n",
        "  metrics = {\"f1\": f1, \"precision\": precision, \"recall\": recall}\n",
        "  return metrics"
      ],
      "metadata": {
        "id": "N37ouBZxS4hs"
      },
      "execution_count": 15,
      "outputs": []
    },
    {
      "cell_type": "code",
      "source": [
        "from transformers import Trainer, DataCollatorWithPadding, EarlyStoppingCallback\n",
        "\n",
        "trainer = Trainer(\n",
        "    model=model,\n",
        "    args=args,\n",
        "    train_dataset=datasets_hf['train'],\n",
        "    eval_dataset=datasets_hf['validation'],\n",
        "    data_collator=data_collator,\n",
        "    compute_metrics=compute_metrics,\n",
        "    callbacks=[EarlyStoppingCallback(early_stopping_patience=3)],\n",
        ")\n"
      ],
      "metadata": {
        "id": "IStnRUjESgUZ"
      },
      "execution_count": 16,
      "outputs": []
    },
    {
      "cell_type": "markdown",
      "source": [
        "Train or load one I did earlier! Training takes ~10mins with a basic GPU"
      ],
      "metadata": {
        "id": "gbpmXDRESG-a"
      }
    },
    {
      "cell_type": "code",
      "source": [
        "# trainer.train()\n",
        "model = AutoModelForSequenceClassification.from_pretrained('/content/models/inscope_text_classification/checkpoint-3283')"
      ],
      "metadata": {
        "colab": {
          "base_uri": "https://localhost:8080/"
        },
        "id": "G-kch_koQ5LW",
        "outputId": "b3149c9e-bb8d-4eeb-f5b2-7ab596b291bd"
      },
      "execution_count": 17,
      "outputs": [
        {
          "output_type": "stream",
          "name": "stderr",
          "text": [
            "loading configuration file /content/models/inscope_text_classification/checkpoint-3283/config.json\n",
            "Model config RobertaConfig {\n",
            "  \"_name_or_path\": \"/content/models/inscope_text_classification/checkpoint-3283\",\n",
            "  \"architectures\": [\n",
            "    \"RobertaForSequenceClassification\"\n",
            "  ],\n",
            "  \"attention_probs_dropout_prob\": 0.1,\n",
            "  \"bos_token_id\": 0,\n",
            "  \"classifier_dropout\": null,\n",
            "  \"eos_token_id\": 2,\n",
            "  \"hidden_act\": \"gelu\",\n",
            "  \"hidden_dropout_prob\": 0.1,\n",
            "  \"hidden_size\": 768,\n",
            "  \"id2label\": {\n",
            "    \"0\": \"accept_reservations\",\n",
            "    \"1\": \"account_blocked\",\n",
            "    \"2\": \"alarm\",\n",
            "    \"3\": \"application_status\",\n",
            "    \"4\": \"apr\",\n",
            "    \"5\": \"are_you_a_bot\",\n",
            "    \"6\": \"balance\",\n",
            "    \"7\": \"bill_balance\",\n",
            "    \"8\": \"bill_due\",\n",
            "    \"9\": \"book_flight\",\n",
            "    \"10\": \"book_hotel\",\n",
            "    \"11\": \"calculator\",\n",
            "    \"12\": \"calendar\",\n",
            "    \"13\": \"calendar_update\",\n",
            "    \"14\": \"calories\",\n",
            "    \"15\": \"cancel\",\n",
            "    \"16\": \"cancel_reservation\",\n",
            "    \"17\": \"car_rental\",\n",
            "    \"18\": \"card_declined\",\n",
            "    \"19\": \"carry_on\",\n",
            "    \"20\": \"change_accent\",\n",
            "    \"21\": \"change_ai_name\",\n",
            "    \"22\": \"change_language\",\n",
            "    \"23\": \"change_speed\",\n",
            "    \"24\": \"change_user_name\",\n",
            "    \"25\": \"change_volume\",\n",
            "    \"26\": \"confirm_reservation\",\n",
            "    \"27\": \"cook_time\",\n",
            "    \"28\": \"credit_limit\",\n",
            "    \"29\": \"credit_limit_change\",\n",
            "    \"30\": \"credit_score\",\n",
            "    \"31\": \"current_location\",\n",
            "    \"32\": \"damaged_card\",\n",
            "    \"33\": \"date\",\n",
            "    \"34\": \"definition\",\n",
            "    \"35\": \"direct_deposit\",\n",
            "    \"36\": \"directions\",\n",
            "    \"37\": \"distance\",\n",
            "    \"38\": \"do_you_have_pets\",\n",
            "    \"39\": \"exchange_rate\",\n",
            "    \"40\": \"expiration_date\",\n",
            "    \"41\": \"find_phone\",\n",
            "    \"42\": \"flight_status\",\n",
            "    \"43\": \"flip_coin\",\n",
            "    \"44\": \"food_last\",\n",
            "    \"45\": \"freeze_account\",\n",
            "    \"46\": \"fun_fact\",\n",
            "    \"47\": \"gas\",\n",
            "    \"48\": \"gas_type\",\n",
            "    \"49\": \"goodbye\",\n",
            "    \"50\": \"greeting\",\n",
            "    \"51\": \"how_busy\",\n",
            "    \"52\": \"how_old_are_you\",\n",
            "    \"53\": \"improve_credit_score\",\n",
            "    \"54\": \"income\",\n",
            "    \"55\": \"ingredient_substitution\",\n",
            "    \"56\": \"ingredients_list\",\n",
            "    \"57\": \"insurance\",\n",
            "    \"58\": \"insurance_change\",\n",
            "    \"59\": \"interest_rate\",\n",
            "    \"60\": \"international_fees\",\n",
            "    \"61\": \"international_visa\",\n",
            "    \"62\": \"jump_start\",\n",
            "    \"63\": \"last_maintenance\",\n",
            "    \"64\": \"lost_luggage\",\n",
            "    \"65\": \"make_call\",\n",
            "    \"66\": \"maybe\",\n",
            "    \"67\": \"meal_suggestion\",\n",
            "    \"68\": \"meaning_of_life\",\n",
            "    \"69\": \"measurement_conversion\",\n",
            "    \"70\": \"meeting_schedule\",\n",
            "    \"71\": \"min_payment\",\n",
            "    \"72\": \"mpg\",\n",
            "    \"73\": \"new_card\",\n",
            "    \"74\": \"next_holiday\",\n",
            "    \"75\": \"next_song\",\n",
            "    \"76\": \"no\",\n",
            "    \"77\": \"nutrition_info\",\n",
            "    \"78\": \"oil_change_how\",\n",
            "    \"79\": \"oil_change_when\",\n",
            "    \"80\": \"order\",\n",
            "    \"81\": \"order_checks\",\n",
            "    \"82\": \"order_status\",\n",
            "    \"83\": \"pay_bill\",\n",
            "    \"84\": \"payday\",\n",
            "    \"85\": \"pin_change\",\n",
            "    \"86\": \"play_music\",\n",
            "    \"87\": \"plug_type\",\n",
            "    \"88\": \"pto_balance\",\n",
            "    \"89\": \"pto_request\",\n",
            "    \"90\": \"pto_request_status\",\n",
            "    \"91\": \"pto_used\",\n",
            "    \"92\": \"recipe\",\n",
            "    \"93\": \"redeem_rewards\",\n",
            "    \"94\": \"reminder\",\n",
            "    \"95\": \"reminder_update\",\n",
            "    \"96\": \"repeat\",\n",
            "    \"97\": \"replacement_card_duration\",\n",
            "    \"98\": \"report_fraud\",\n",
            "    \"99\": \"report_lost_card\",\n",
            "    \"100\": \"reset_settings\",\n",
            "    \"101\": \"restaurant_reservation\",\n",
            "    \"102\": \"restaurant_reviews\",\n",
            "    \"103\": \"restaurant_suggestion\",\n",
            "    \"104\": \"rewards_balance\",\n",
            "    \"105\": \"roll_dice\",\n",
            "    \"106\": \"rollover_401k\",\n",
            "    \"107\": \"routing\",\n",
            "    \"108\": \"schedule_maintenance\",\n",
            "    \"109\": \"schedule_meeting\",\n",
            "    \"110\": \"share_location\",\n",
            "    \"111\": \"shopping_list\",\n",
            "    \"112\": \"shopping_list_update\",\n",
            "    \"113\": \"smart_home\",\n",
            "    \"114\": \"spelling\",\n",
            "    \"115\": \"spending_history\",\n",
            "    \"116\": \"sync_device\",\n",
            "    \"117\": \"taxes\",\n",
            "    \"118\": \"tell_joke\",\n",
            "    \"119\": \"text\",\n",
            "    \"120\": \"thank_you\",\n",
            "    \"121\": \"time\",\n",
            "    \"122\": \"timer\",\n",
            "    \"123\": \"timezone\",\n",
            "    \"124\": \"tire_change\",\n",
            "    \"125\": \"tire_pressure\",\n",
            "    \"126\": \"todo_list\",\n",
            "    \"127\": \"todo_list_update\",\n",
            "    \"128\": \"traffic\",\n",
            "    \"129\": \"transactions\",\n",
            "    \"130\": \"transfer\",\n",
            "    \"131\": \"translate\",\n",
            "    \"132\": \"travel_alert\",\n",
            "    \"133\": \"travel_notification\",\n",
            "    \"134\": \"travel_suggestion\",\n",
            "    \"135\": \"uber\",\n",
            "    \"136\": \"update_playlist\",\n",
            "    \"137\": \"user_name\",\n",
            "    \"138\": \"vaccines\",\n",
            "    \"139\": \"w2\",\n",
            "    \"140\": \"weather\",\n",
            "    \"141\": \"what_are_your_hobbies\",\n",
            "    \"142\": \"what_can_i_ask_you\",\n",
            "    \"143\": \"what_is_your_name\",\n",
            "    \"144\": \"what_song\",\n",
            "    \"145\": \"where_are_you_from\",\n",
            "    \"146\": \"whisper_mode\",\n",
            "    \"147\": \"who_do_you_work_for\",\n",
            "    \"148\": \"who_made_you\",\n",
            "    \"149\": \"yes\"\n",
            "  },\n",
            "  \"initializer_range\": 0.02,\n",
            "  \"intermediate_size\": 3072,\n",
            "  \"label2id\": {\n",
            "    \"accept_reservations\": 0,\n",
            "    \"account_blocked\": 1,\n",
            "    \"alarm\": 2,\n",
            "    \"application_status\": 3,\n",
            "    \"apr\": 4,\n",
            "    \"are_you_a_bot\": 5,\n",
            "    \"balance\": 6,\n",
            "    \"bill_balance\": 7,\n",
            "    \"bill_due\": 8,\n",
            "    \"book_flight\": 9,\n",
            "    \"book_hotel\": 10,\n",
            "    \"calculator\": 11,\n",
            "    \"calendar\": 12,\n",
            "    \"calendar_update\": 13,\n",
            "    \"calories\": 14,\n",
            "    \"cancel\": 15,\n",
            "    \"cancel_reservation\": 16,\n",
            "    \"car_rental\": 17,\n",
            "    \"card_declined\": 18,\n",
            "    \"carry_on\": 19,\n",
            "    \"change_accent\": 20,\n",
            "    \"change_ai_name\": 21,\n",
            "    \"change_language\": 22,\n",
            "    \"change_speed\": 23,\n",
            "    \"change_user_name\": 24,\n",
            "    \"change_volume\": 25,\n",
            "    \"confirm_reservation\": 26,\n",
            "    \"cook_time\": 27,\n",
            "    \"credit_limit\": 28,\n",
            "    \"credit_limit_change\": 29,\n",
            "    \"credit_score\": 30,\n",
            "    \"current_location\": 31,\n",
            "    \"damaged_card\": 32,\n",
            "    \"date\": 33,\n",
            "    \"definition\": 34,\n",
            "    \"direct_deposit\": 35,\n",
            "    \"directions\": 36,\n",
            "    \"distance\": 37,\n",
            "    \"do_you_have_pets\": 38,\n",
            "    \"exchange_rate\": 39,\n",
            "    \"expiration_date\": 40,\n",
            "    \"find_phone\": 41,\n",
            "    \"flight_status\": 42,\n",
            "    \"flip_coin\": 43,\n",
            "    \"food_last\": 44,\n",
            "    \"freeze_account\": 45,\n",
            "    \"fun_fact\": 46,\n",
            "    \"gas\": 47,\n",
            "    \"gas_type\": 48,\n",
            "    \"goodbye\": 49,\n",
            "    \"greeting\": 50,\n",
            "    \"how_busy\": 51,\n",
            "    \"how_old_are_you\": 52,\n",
            "    \"improve_credit_score\": 53,\n",
            "    \"income\": 54,\n",
            "    \"ingredient_substitution\": 55,\n",
            "    \"ingredients_list\": 56,\n",
            "    \"insurance\": 57,\n",
            "    \"insurance_change\": 58,\n",
            "    \"interest_rate\": 59,\n",
            "    \"international_fees\": 60,\n",
            "    \"international_visa\": 61,\n",
            "    \"jump_start\": 62,\n",
            "    \"last_maintenance\": 63,\n",
            "    \"lost_luggage\": 64,\n",
            "    \"make_call\": 65,\n",
            "    \"maybe\": 66,\n",
            "    \"meal_suggestion\": 67,\n",
            "    \"meaning_of_life\": 68,\n",
            "    \"measurement_conversion\": 69,\n",
            "    \"meeting_schedule\": 70,\n",
            "    \"min_payment\": 71,\n",
            "    \"mpg\": 72,\n",
            "    \"new_card\": 73,\n",
            "    \"next_holiday\": 74,\n",
            "    \"next_song\": 75,\n",
            "    \"no\": 76,\n",
            "    \"nutrition_info\": 77,\n",
            "    \"oil_change_how\": 78,\n",
            "    \"oil_change_when\": 79,\n",
            "    \"order\": 80,\n",
            "    \"order_checks\": 81,\n",
            "    \"order_status\": 82,\n",
            "    \"pay_bill\": 83,\n",
            "    \"payday\": 84,\n",
            "    \"pin_change\": 85,\n",
            "    \"play_music\": 86,\n",
            "    \"plug_type\": 87,\n",
            "    \"pto_balance\": 88,\n",
            "    \"pto_request\": 89,\n",
            "    \"pto_request_status\": 90,\n",
            "    \"pto_used\": 91,\n",
            "    \"recipe\": 92,\n",
            "    \"redeem_rewards\": 93,\n",
            "    \"reminder\": 94,\n",
            "    \"reminder_update\": 95,\n",
            "    \"repeat\": 96,\n",
            "    \"replacement_card_duration\": 97,\n",
            "    \"report_fraud\": 98,\n",
            "    \"report_lost_card\": 99,\n",
            "    \"reset_settings\": 100,\n",
            "    \"restaurant_reservation\": 101,\n",
            "    \"restaurant_reviews\": 102,\n",
            "    \"restaurant_suggestion\": 103,\n",
            "    \"rewards_balance\": 104,\n",
            "    \"roll_dice\": 105,\n",
            "    \"rollover_401k\": 106,\n",
            "    \"routing\": 107,\n",
            "    \"schedule_maintenance\": 108,\n",
            "    \"schedule_meeting\": 109,\n",
            "    \"share_location\": 110,\n",
            "    \"shopping_list\": 111,\n",
            "    \"shopping_list_update\": 112,\n",
            "    \"smart_home\": 113,\n",
            "    \"spelling\": 114,\n",
            "    \"spending_history\": 115,\n",
            "    \"sync_device\": 116,\n",
            "    \"taxes\": 117,\n",
            "    \"tell_joke\": 118,\n",
            "    \"text\": 119,\n",
            "    \"thank_you\": 120,\n",
            "    \"time\": 121,\n",
            "    \"timer\": 122,\n",
            "    \"timezone\": 123,\n",
            "    \"tire_change\": 124,\n",
            "    \"tire_pressure\": 125,\n",
            "    \"todo_list\": 126,\n",
            "    \"todo_list_update\": 127,\n",
            "    \"traffic\": 128,\n",
            "    \"transactions\": 129,\n",
            "    \"transfer\": 130,\n",
            "    \"translate\": 131,\n",
            "    \"travel_alert\": 132,\n",
            "    \"travel_notification\": 133,\n",
            "    \"travel_suggestion\": 134,\n",
            "    \"uber\": 135,\n",
            "    \"update_playlist\": 136,\n",
            "    \"user_name\": 137,\n",
            "    \"vaccines\": 138,\n",
            "    \"w2\": 139,\n",
            "    \"weather\": 140,\n",
            "    \"what_are_your_hobbies\": 141,\n",
            "    \"what_can_i_ask_you\": 142,\n",
            "    \"what_is_your_name\": 143,\n",
            "    \"what_song\": 144,\n",
            "    \"where_are_you_from\": 145,\n",
            "    \"whisper_mode\": 146,\n",
            "    \"who_do_you_work_for\": 147,\n",
            "    \"who_made_you\": 148,\n",
            "    \"yes\": 149\n",
            "  },\n",
            "  \"layer_norm_eps\": 1e-05,\n",
            "  \"max_position_embeddings\": 514,\n",
            "  \"model_type\": \"roberta\",\n",
            "  \"num_attention_heads\": 12,\n",
            "  \"num_hidden_layers\": 12,\n",
            "  \"pad_token_id\": 1,\n",
            "  \"position_embedding_type\": \"absolute\",\n",
            "  \"problem_type\": \"single_label_classification\",\n",
            "  \"torch_dtype\": \"float32\",\n",
            "  \"transformers_version\": \"4.16.2\",\n",
            "  \"type_vocab_size\": 1,\n",
            "  \"use_cache\": true,\n",
            "  \"vocab_size\": 50265\n",
            "}\n",
            "\n",
            "loading weights file /content/models/inscope_text_classification/checkpoint-3283/pytorch_model.bin\n",
            "All model checkpoint weights were used when initializing RobertaForSequenceClassification.\n",
            "\n",
            "All the weights of RobertaForSequenceClassification were initialized from the model checkpoint at /content/models/inscope_text_classification/checkpoint-3283.\n",
            "If your task is similar to the task the model of the checkpoint was trained on, you can already use RobertaForSequenceClassification for predictions without further training.\n"
          ]
        }
      ]
    },
    {
      "cell_type": "markdown",
      "source": [
        "## OOD detection"
      ],
      "metadata": {
        "id": "86xirqCrSgIt"
      }
    },
    {
      "cell_type": "markdown",
      "source": [
        "Now we have a model we can start looking at OOD detection.\n",
        "### Extract latent states\n",
        "Firstly we need to extract the final latent (hidden) state of the class token for each data sample. We also collect the logits as these will be helpful in later analysis"
      ],
      "metadata": {
        "id": "Wl48iquMSoJ_"
      }
    },
    {
      "cell_type": "code",
      "source": [
        "import torch\n",
        "\n",
        "def get_model_outputs(dataset_hf, model, batch_size, device):\n",
        "  model.to(device)\n",
        "  model.eval()\n",
        "  dataloader = torch.utils.data.DataLoader(\n",
        "      dataset_hf, batch_size=batch_size, collate_fn=data_collator\n",
        "  )\n",
        "\n",
        "  latent_states = torch.zeros(len(dataset_hf), model.config.hidden_size)\n",
        "  logits = torch.zeros(len(dataset_hf), model.config.num_labels)\n",
        "  with torch.set_grad_enabled(False):\n",
        "      for idx, batch in zip(range(0, len(dataset_hf), batch_size), dataloader):\n",
        "          batch.pop(\"labels\", default=None)\n",
        "          batch = {k: v.to(device) for k, v in batch.items()}\n",
        "          output = model(**batch, output_hidden_states=True)\n",
        "          latent_states[idx:idx+batch_size] = output['hidden_states'][-1][:,0].detach()\n",
        "          logits[idx:idx+batch_size] = output['logits'].detach()\n",
        "  return logits, latent_states\n",
        "       "
      ],
      "metadata": {
        "id": "bqe12pbVRGIB"
      },
      "execution_count": 18,
      "outputs": []
    },
    {
      "cell_type": "markdown",
      "source": [
        "In line with previous work we randomly subsample the training corpus size to 1000 examples"
      ],
      "metadata": {
        "id": "jVUl4fulTCZB"
      }
    },
    {
      "cell_type": "code",
      "source": [
        "import random\n",
        "RANDOM_SEED = 23\n",
        "SUB_SAMPLE_SIZE=1000\n",
        "\n",
        "random.seed(RANDOM_SEED)\n",
        "sub_sample_data_train = random.sample(data['train'], SUB_SAMPLE_SIZE)\n",
        "texts, labels = map(list,zip(*sub_sample_data_train))\n",
        "datasets_hf['train'] = HuggingFaceDataset(label2id, tokenizer, texts)"
      ],
      "metadata": {
        "id": "gXJrD7ktePkE"
      },
      "execution_count": 19,
      "outputs": []
    },
    {
      "cell_type": "code",
      "source": [
        "device = 'cuda:0' if torch.cuda.is_available() else 'cpu'\n",
        "latent_states = {}\n",
        "logits = {}\n",
        "for key, dataset in datasets_hf.items():\n",
        "  logits[key], latent_states[key] = get_model_outputs(dataset, model, batch_size, device)"
      ],
      "metadata": {
        "id": "jrD34CXKTnAk"
      },
      "execution_count": 20,
      "outputs": []
    },
    {
      "cell_type": "code",
      "source": [
        "for k, (latent_state) in latent_states.items():\n",
        "  print(k, latent_state.size())"
      ],
      "metadata": {
        "colab": {
          "base_uri": "https://localhost:8080/"
        },
        "id": "CSeyyBeWZ5cL",
        "outputId": "a704c6a5-b902-46a4-8057-fb48ce39c6d1"
      },
      "execution_count": 21,
      "outputs": [
        {
          "output_type": "stream",
          "name": "stdout",
          "text": [
            "train torch.Size([1000, 768])\n",
            "OOD torch.Size([1200, 768])\n",
            "validation torch.Size([3000, 768])\n",
            "in scope torch.Size([4500, 768])\n"
          ]
        }
      ]
    },
    {
      "cell_type": "markdown",
      "source": [
        "### Fit models to latent states\n",
        "\n",
        "Now we can fit the simplex and distance weighted neural nets to approximate the oos and test sets latent states from the corpus of examples.\n",
        "\n",
        "All parameters are taken from the original paper's experiments"
      ],
      "metadata": {
        "id": "7CpNUfdOTTg0"
      }
    },
    {
      "cell_type": "code",
      "source": [
        "from explainers.simplex import Simplex\n",
        "from utils.schedulers import ExponentialScheduler\n",
        "\n",
        "fit_keys=['validation', 'in scope', 'OOD']\n",
        "explainers = {}\n",
        "N_KEEP = 10\n",
        "\n",
        "model_name = 'Simplex'\n",
        "model_names={model_name}\n",
        "\n",
        "for key in fit_keys:\n",
        "  simplex = Simplex(latent_states['train'].to(device).detach())\n",
        "  latent_state = latent_states[key]\n",
        "  reg_factor_scheduler = ExponentialScheduler(0.1, 100, 10000)\n",
        "  simplex.fit(\n",
        "        latent_state.to(device).detach(), \n",
        "        n_epoch=10000,\n",
        "        reg_factor=0.1, \n",
        "        n_keep=N_KEEP,\n",
        "        reg_factor_scheduler=reg_factor_scheduler,\n",
        "      )\n",
        "  simplex.plot_hist()\n",
        "  explainers[f\"{model_name} {key}\"] = simplex\n",
        "  "
      ],
      "metadata": {
        "colab": {
          "base_uri": "https://localhost:8080/",
          "height": 1000
        },
        "id": "KdJCgnWTjG-a",
        "outputId": "aa421df7-1a63-4e8e-9e1f-fbf27609ae39"
      },
      "execution_count": 22,
      "outputs": [
        {
          "output_type": "stream",
          "name": "stdout",
          "text": [
            "Weight Fitting Epoch: 2000/10000 ; Error: 5.77e+05 ; Regulator: 1.76e+03 ; Reg Factor: 0.398\n",
            "Weight Fitting Epoch: 4000/10000 ; Error: 6.89e+04 ; Regulator: 414 ; Reg Factor: 1.58\n",
            "Weight Fitting Epoch: 6000/10000 ; Error: 4.8e+04 ; Regulator: 197 ; Reg Factor: 6.31\n",
            "Weight Fitting Epoch: 8000/10000 ; Error: 4.17e+04 ; Regulator: 85 ; Reg Factor: 25.1\n",
            "Weight Fitting Epoch: 10000/10000 ; Error: 3.97e+04 ; Regulator: 24.5 ; Reg Factor: 99.9\n"
          ]
        },
        {
          "output_type": "display_data",
          "data": {
            "image/png": "[encoded data removed]",
            "text/plain": [
              "<Figure size 640x480 with 2 Axes>"
            ]
          },
          "metadata": {}
        },
        {
          "output_type": "stream",
          "name": "stdout",
          "text": [
            "Weight Fitting Epoch: 2000/10000 ; Error: 8.67e+05 ; Regulator: 2.64e+03 ; Reg Factor: 0.398\n",
            "Weight Fitting Epoch: 4000/10000 ; Error: 1.03e+05 ; Regulator: 621 ; Reg Factor: 1.58\n",
            "Weight Fitting Epoch: 6000/10000 ; Error: 7.19e+04 ; Regulator: 296 ; Reg Factor: 6.31\n",
            "Weight Fitting Epoch: 8000/10000 ; Error: 6.25e+04 ; Regulator: 127 ; Reg Factor: 25.1\n",
            "Weight Fitting Epoch: 10000/10000 ; Error: 5.95e+04 ; Regulator: 36.7 ; Reg Factor: 99.9\n"
          ]
        },
        {
          "output_type": "display_data",
          "data": {
            "image/png": "[encoded data removed]",
            "text/plain": [
              "<Figure size 640x480 with 2 Axes>"
            ]
          },
          "metadata": {}
        },
        {
          "output_type": "stream",
          "name": "stdout",
          "text": [
            "Weight Fitting Epoch: 2000/10000 ; Error: 3.55e+05 ; Regulator: 869 ; Reg Factor: 0.398\n",
            "Weight Fitting Epoch: 4000/10000 ; Error: 2.58e+05 ; Regulator: 438 ; Reg Factor: 1.58\n",
            "Weight Fitting Epoch: 6000/10000 ; Error: 2.48e+05 ; Regulator: 212 ; Reg Factor: 6.31\n",
            "Weight Fitting Epoch: 8000/10000 ; Error: 2.44e+05 ; Regulator: 57.5 ; Reg Factor: 25.1\n",
            "Weight Fitting Epoch: 10000/10000 ; Error: 2.44e+05 ; Regulator: 7.71 ; Reg Factor: 99.9\n"
          ]
        },
        {
          "output_type": "display_data",
          "data": {
            "image/png": "[encoded data removed]",
            "text/plain": [
              "<Figure size 640x480 with 2 Axes>"
            ]
          },
          "metadata": {}
        }
      ]
    },
    {
      "cell_type": "code",
      "source": [
        "from explainers.nearest_neighbours import NearNeighLatent\n",
        "\n",
        "model_name = \"kNN\"\n",
        "model_names.add(model_name)\n",
        "\n",
        "for key in fit_keys:\n",
        "  nn_dist = NearNeighLatent(\n",
        "      corpus_latent_reps=latent_states['train'].cpu(), \n",
        "      weights_type='distance'\n",
        "    )\n",
        "  latent_state = latent_states[key].cpu()\n",
        "  nn_dist.fit(test_latent_reps=latent_state,\n",
        "              n_keep=N_KEEP)\n",
        "  explainers[f\"{model_name} {key}\"] = nn_dist"
      ],
      "metadata": {
        "id": "ABeITUZKrZk7"
      },
      "execution_count": 23,
      "outputs": []
    },
    {
      "cell_type": "markdown",
      "source": [
        "### Evaluate quality of approximation\n",
        "\n",
        "This is done through the calculation of R^2 scores and the euclidean distance betweeen the real and approximated latent states"
      ],
      "metadata": {
        "id": "E1tmYIIvT1v7"
      }
    },
    {
      "cell_type": "code",
      "source": [
        "from torch.nn.functional import pairwise_distance\n",
        "from sklearn.metrics import r2_score\n",
        "\n",
        "distances={}\n",
        "r2_scores={}\n",
        "\n",
        "for name, explainer in explainers.items():\n",
        "  latent_rep=explainer.test_latent_reps.cpu()\n",
        "  latent_approx=explainer.latent_approx().cpu()\n",
        "  distances[name]=pairwise_distance(latent_rep, latent_approx)\n",
        "  r2_scores[name]=r2_score(latent_rep, latent_approx)"
      ],
      "metadata": {
        "id": "3ualRLwlqiug"
      },
      "execution_count": 24,
      "outputs": []
    },
    {
      "cell_type": "code",
      "source": [
        "r2_scores"
      ],
      "metadata": {
        "colab": {
          "base_uri": "https://localhost:8080/"
        },
        "id": "w405RIMRj2r1",
        "outputId": "1214625a-fd3a-4f3f-b5f3-5ea329b5f2f2"
      },
      "execution_count": 25,
      "outputs": [
        {
          "output_type": "execute_result",
          "data": {
            "text/plain": [
              "{'Simplex OOD': 0.570337151756094,\n",
              " 'Simplex in scope': 0.9723829977429203,\n",
              " 'Simplex validation': 0.9724334439267731,\n",
              " 'kNN OOD': 0.37565389178854,\n",
              " 'kNN in scope': 0.9491254850903695,\n",
              " 'kNN validation': 0.9497541783320425}"
            ]
          },
          "metadata": {},
          "execution_count": 25
        }
      ]
    },
    {
      "cell_type": "markdown",
      "source": [
        "Test if there is a statistically significant difference between distribution using the two-sample Kolmogorov-Smirnov test"
      ],
      "metadata": {
        "id": "VAZ95LHeU1Vf"
      }
    },
    {
      "cell_type": "code",
      "source": [
        "from scipy.stats import ks_2samp\n",
        "\n",
        "ks_2_samp_metrics = {}\n",
        "for model_name in model_names:\n",
        "  for fit_key in ['OOD', 'in scope']:\n",
        "    key=f\"{model_name} {fit_key}\"\n",
        "    ks_2_samp_metrics[key] = ks_2samp(distances[f\"{model_name} validation\"], distances[key])\n",
        "\n",
        "ks_2_samp_metrics"
      ],
      "metadata": {
        "colab": {
          "base_uri": "https://localhost:8080/"
        },
        "id": "ssCmS1HkuTZc",
        "outputId": "5b18ab89-fd22-4d63-ebc9-450ed6d4e724"
      },
      "execution_count": 26,
      "outputs": [
        {
          "output_type": "execute_result",
          "data": {
            "text/plain": [
              "{'Simplex OOD': Ks_2sampResult(statistic=0.8545, pvalue=0.0),\n",
              " 'Simplex in scope': Ks_2sampResult(statistic=0.013111111111111112, pvalue=1.0),\n",
              " 'kNN OOD': Ks_2sampResult(statistic=0.8271666666666667, pvalue=0.0),\n",
              " 'kNN in scope': Ks_2sampResult(statistic=0.017888888888888888, pvalue=1.0)}"
            ]
          },
          "metadata": {},
          "execution_count": 26
        }
      ]
    },
    {
      "cell_type": "markdown",
      "source": [
        "### Visualise distance distribution\n",
        "\n",
        "Visualise distribution of distances per dataset and method\n",
        "- Box plot"
      ],
      "metadata": {
        "id": "pDUI7l-8UWlU"
      }
    },
    {
      "cell_type": "code",
      "source": [
        "fig, ax = plt.subplots()\n",
        "sorted_keys= sorted(distances.keys())\n",
        "ax.boxplot([distances[key] for key in sorted_keys])\n",
        "ax.set_xticklabels(sorted_keys, rotation=90)\n",
        "# TODO: Set ylabel to notation used in report\n",
        "ax.set_ylabel('Distance')\n",
        "plt.show()"
      ],
      "metadata": {
        "colab": {
          "base_uri": "https://localhost:8080/",
          "height": 633
        },
        "id": "4GvzJQKOnV1S",
        "outputId": "4da605e0-cb3d-47f0-e429-54856cbfa40f"
      },
      "execution_count": 27,
      "outputs": [
        {
          "output_type": "stream",
          "name": "stderr",
          "text": [
            "/usr/local/lib/python3.7/dist-packages/matplotlib/cbook/__init__.py:1376: FutureWarning: The input object of type 'Tensor' is an array-like implementing one of the corresponding protocols (`__array__`, `__array_interface__` or `__array_struct__`); but not a sequence (or 0-D). In the future, this object will be coerced as if it was first converted using `np.array(obj)`. To retain the old behaviour, you have to either modify the type 'Tensor', or assign to an empty array created with `np.empty(correct_shape, dtype=object)`.\n",
            "  X = np.atleast_1d(X.T if isinstance(X, np.ndarray) else np.asarray(X))\n",
            "/usr/local/lib/python3.7/dist-packages/matplotlib/cbook/__init__.py:1376: VisibleDeprecationWarning: Creating an ndarray from ragged nested sequences (which is a list-or-tuple of lists-or-tuples-or ndarrays with different lengths or shapes) is deprecated. If you meant to do this, you must specify 'dtype=object' when creating the ndarray.\n",
            "  X = np.atleast_1d(X.T if isinstance(X, np.ndarray) else np.asarray(X))\n"
          ]
        },
        {
          "output_type": "display_data",
          "data": {
            "image/png": "[encoded data removed]",
            "text/plain": [
              "<Figure size 640x480 with 1 Axes>"
            ]
          },
          "metadata": {}
        }
      ]
    },
    {
      "cell_type": "markdown",
      "source": [
        "- Histogram"
      ],
      "metadata": {
        "id": "nE6ZxAHUVJIE"
      }
    },
    {
      "cell_type": "code",
      "source": [
        "fig, ax = plt.subplots()\n",
        "for key, dataset_distances in distances.items():\n",
        "  if 'Simplex' in key:\n",
        "    pdf = np.sort(dataset_distances.numpy())\n",
        "    ax.hist(pdf, density=True)\n",
        "ax.set_ylabel('Probability denisty')\n",
        "# TODO: Set ylabel to notation used in report\n",
        "ax.set_xlabel('Distance')"
      ],
      "metadata": {
        "colab": {
          "base_uri": "https://localhost:8080/",
          "height": 458
        },
        "id": "qsJu-hX_2d9L",
        "outputId": "28005c2f-a62b-439c-a894-4765d533b72a"
      },
      "execution_count": 28,
      "outputs": [
        {
          "output_type": "execute_result",
          "data": {
            "text/plain": [
              "Text(0.5, 0, 'Distance')"
            ]
          },
          "metadata": {},
          "execution_count": 28
        },
        {
          "output_type": "display_data",
          "data": {
            "image/png": "[encoded data removed]",
            "text/plain": [
              "<Figure size 640x480 with 1 Axes>"
            ]
          },
          "metadata": {}
        }
      ]
    },
    {
      "cell_type": "markdown",
      "source": [
        "- Cumulative probability density function"
      ],
      "metadata": {
        "id": "wrKS1Cu6VL16"
      }
    },
    {
      "cell_type": "code",
      "source": [
        "fig, ax = plt.subplots()\n",
        "for key, dataset_distances in distances.items():\n",
        "  if 'Simplex' in key:\n",
        "    pdf = np.sort(dataset_distances.numpy())\n",
        "    ax.plot(pdf, np.linspace(0, 1, num=len(pdf)))\n",
        "ax.set_ylabel('Cumulative probability denisty')\n",
        "# TODO: Set ylabel to notation used in report\n",
        "ax.set_xlabel('Distance')"
      ],
      "metadata": {
        "colab": {
          "base_uri": "https://localhost:8080/",
          "height": 458
        },
        "id": "1Mndp0de2nRp",
        "outputId": "988ab6cc-2f98-4832-ef22-2f9792ef0d1d"
      },
      "execution_count": 29,
      "outputs": [
        {
          "output_type": "execute_result",
          "data": {
            "text/plain": [
              "Text(0.5, 0, 'Distance')"
            ]
          },
          "metadata": {},
          "execution_count": 29
        },
        {
          "output_type": "display_data",
          "data": {
            "image/png": "[encoded data removed]",
            "text/plain": [
              "<Figure size 640x480 with 1 Axes>"
            ]
          },
          "metadata": {}
        }
      ]
    },
    {
      "cell_type": "markdown",
      "source": [
        "### Calc distance percentiles\n",
        "We are going to use thresholding to classify a sample as in or out of scope. This threshold will be found as the 95 percentile distance between the real and approximate latent states in the validation set. All samples with a distance greater than this threshold will be labelled OOD.\n",
        "\n",
        "To explore this more rigoursly we are going to calculate the percentile of each sample individaully. However, note in practice this could be done rapidly by simply thresholding a whole tensor of latent distances."
      ],
      "metadata": {
        "id": "aTrdjn-VVSrh"
      }
    },
    {
      "cell_type": "code",
      "source": [
        "def get_prob_pdf_has_greater_equal(value, pdf):\n",
        "  # TODO: Improve naive implementation with suboptimal time complexity\n",
        "  try:\n",
        "    idx = next(idx for idx, value_lookup in enumerate(pdf) if value_lookup >= value)\n",
        "  except StopIteration:\n",
        "    idx = len(pdf)\n",
        "  return 1-(idx/len(pdf))"
      ],
      "metadata": {
        "id": "S1g1cS6x5I75"
      },
      "execution_count": 30,
      "outputs": []
    },
    {
      "cell_type": "markdown",
      "source": [
        "Calc percentile for each sample in each dataset and model. Sorry this is slow ~3mins and should be speed up by future me..."
      ],
      "metadata": {
        "id": "Ey46vX2yWYgr"
      }
    },
    {
      "cell_type": "code",
      "source": [
        "prob_dist_from_val_distr = {}\n",
        "\n",
        "for model_name in model_names:\n",
        "  pdf = np.sort(distances[f\"{model_name} validation\"].numpy())\n",
        "  for data_key in ['in scope', 'OOD']:\n",
        "    prob_dist_from_val_distr[f\"{model_name} {data_key}\"] = np.array([get_prob_pdf_has_greater_equal(dist, pdf) for dist in distances[f\"{model_name} {data_key}\"]])"
      ],
      "metadata": {
        "id": "HS6VHLjd6-bS"
      },
      "execution_count": 31,
      "outputs": []
    },
    {
      "cell_type": "markdown",
      "source": [
        "Also adding comparison to thresholding the probability outputted by the model for the most likely class. To be consistent with distances (where smaller is better) the inverse (1-prob) is taken"
      ],
      "metadata": {
        "id": "QxDj4ksdWpD3"
      }
    },
    {
      "cell_type": "code",
      "source": [
        "def get_max_probs_from_logits(logits):\n",
        "  probs = torch.nn.Softmax(dim=-1)(logits)\n",
        "  max_probs = torch.max(probs, dim=-1)[0]\n",
        "  return max_probs"
      ],
      "metadata": {
        "id": "Fl2P-gzm7h_C"
      },
      "execution_count": 32,
      "outputs": []
    },
    {
      "cell_type": "code",
      "source": [
        "model_name = 'Logits'\n",
        "model_names.add(model_name)\n",
        "pdf = np.sort(1-get_max_probs_from_logits(logits['validation']))\n",
        "for data_key in ['in scope', 'OOD']:\n",
        "  max_probs = 1-get_max_probs_from_logits(logits[data_key])\n",
        "  prob_dist_from_val_distr[f\"{model_name} {data_key}\"] = np.array([get_prob_pdf_has_greater_equal(max_prob, pdf) for max_prob in max_probs])"
      ],
      "metadata": {
        "id": "eTfNlt-J1EPy"
      },
      "execution_count": 33,
      "outputs": []
    },
    {
      "cell_type": "markdown",
      "source": [
        "Visualise percentiles by dataset and model"
      ],
      "metadata": {
        "id": "vesH_rpHXEkb"
      }
    },
    {
      "cell_type": "code",
      "source": [
        "fig, ax = plt.subplots()\n",
        "sorted_keys= sorted(prob_dist_from_val_distr.keys())\n",
        "ax.boxplot([prob_dist_from_val_distr[key] for key in sorted_keys])\n",
        "ax.set_xticklabels(sorted_keys, rotation=90)\n",
        "# TODO: Set ylabel to notation used in report\n",
        "ax.set_ylabel('Probability')\n",
        "plt.show()"
      ],
      "metadata": {
        "colab": {
          "base_uri": "https://localhost:8080/",
          "height": 587
        },
        "id": "jjS1ALMZ8_1r",
        "outputId": "cc2e3be1-cf79-4878-ae49-812c961a4de5"
      },
      "execution_count": 34,
      "outputs": [
        {
          "output_type": "stream",
          "name": "stderr",
          "text": [
            "/usr/local/lib/python3.7/dist-packages/matplotlib/cbook/__init__.py:1376: VisibleDeprecationWarning: Creating an ndarray from ragged nested sequences (which is a list-or-tuple of lists-or-tuples-or ndarrays with different lengths or shapes) is deprecated. If you meant to do this, you must specify 'dtype=object' when creating the ndarray.\n",
            "  X = np.atleast_1d(X.T if isinstance(X, np.ndarray) else np.asarray(X))\n"
          ]
        },
        {
          "output_type": "display_data",
          "data": {
            "image/png": "[encoded data removed]",
            "text/plain": [
              "<Figure size 640x480 with 1 Axes>"
            ]
          },
          "metadata": {}
        }
      ]
    },
    {
      "cell_type": "markdown",
      "source": [
        "### Threshold on 95% percentile"
      ],
      "metadata": {
        "id": "kdh7vcRxXSjZ"
      }
    },
    {
      "cell_type": "code",
      "source": [
        "THRESHOLD = 0.05\n",
        "OOS_VALUE = 1\n",
        "INSCOPE_VALUE = 0\n",
        "threshold_OOD = {key: np.where(probs<=THRESHOLD,OOS_VALUE,INSCOPE_VALUE) for key, probs in prob_dist_from_val_distr.items()}"
      ],
      "metadata": {
        "id": "acTaeaUg9dvT"
      },
      "execution_count": 35,
      "outputs": []
    },
    {
      "cell_type": "markdown",
      "source": [
        "Get metrics"
      ],
      "metadata": {
        "id": "-zZuhvw1XdXC"
      }
    },
    {
      "cell_type": "code",
      "source": [
        "from sklearn.metrics import classification_report, confusion_matrix\n",
        "\n",
        "for name in model_names:\n",
        "  ood = threshold_OOD[f'{name} OOD']\n",
        "  inscope = threshold_OOD[f'{name} in scope']\n",
        "  y_pred = np.append(ood, inscope)\n",
        "  y_true = np.append(np.ones(len(ood)), np.zeros(len(inscope)))\n",
        "  print(name)\n",
        "  print(confusion_matrix(y_true, y_pred))\n",
        "  print(precision_recall_fscore_support(y_true, y_pred, average='binary'))"
      ],
      "metadata": {
        "colab": {
          "base_uri": "https://localhost:8080/"
        },
        "id": "rCMwIoeK-VFy",
        "outputId": "7d2014f3-b7bb-4706-8050-538857d8db93"
      },
      "execution_count": 36,
      "outputs": [
        {
          "output_type": "stream",
          "name": "stdout",
          "text": [
            "kNN\n",
            "[[4267  233]\n",
            " [ 163 1037]]\n",
            "(0.8165354330708662, 0.8641666666666666, 0.8396761133603239, None)\n",
            "Simplex\n",
            "[[4271  229]\n",
            " [ 122 1078]]\n",
            "(0.8247895944912013, 0.8983333333333333, 0.8599920223374551, None)\n",
            "Logits\n",
            "[[4278  222]\n",
            " [ 234  966]]\n",
            "(0.8131313131313131, 0.805, 0.8090452261306532, None)\n"
          ]
        }
      ]
    },
    {
      "cell_type": "markdown",
      "source": [
        "### OOD or incorrect label analysis"
      ],
      "metadata": {
        "id": "pXhGwpDtXiH3"
      }
    },
    {
      "cell_type": "markdown",
      "source": [
        "Collect OOD predictions for when the model is incorrect. Also create new label set for test data where true is OOD or the model predicted the incorrect label."
      ],
      "metadata": {
        "id": "GT95sk1-Xu9D"
      }
    },
    {
      "cell_type": "code",
      "source": [
        "predictions_test = logits['in scope'].argmax(dim=-1)\n",
        "incorrect_OOD_preds = []\n",
        "incorrect_or_OOD_labels = np.zeros(len(threshold_OOD['Simplex in scope']))\n",
        "for idx, (sample, label_prediction, OOD_prediction) in enumerate(zip(datasets_hf['in scope'], predictions_test, threshold_OOD['Simplex in scope'])):\n",
        "  if sample['labels'] != label_prediction:\n",
        "    incorrect_OOD_preds.append(OOD_prediction)\n",
        "    incorrect_or_OOD_labels[idx] = OOS_VALUE\n"
      ],
      "metadata": {
        "id": "YCPTcLuRquyU"
      },
      "execution_count": 37,
      "outputs": []
    },
    {
      "cell_type": "markdown",
      "source": [
        "Test null hypothesis using Chi squared that the model labelling a sample from the test set incorrectly is independent of the latent representation being labelled out of scope"
      ],
      "metadata": {
        "id": "unipy8aSYCFa"
      }
    },
    {
      "cell_type": "code",
      "source": [
        "num_incorrect_labels = len(incorrect_OOD_preds)\n",
        "num_correct_labels = len(threshold_OOD['Simplex in scope']) - num_incorrect_labels\n",
        "num_OOD_predictions = sum(threshold_OOD['Simplex in scope'])"
      ],
      "metadata": {
        "id": "7E6dfvceyTW7"
      },
      "execution_count": 38,
      "outputs": []
    },
    {
      "cell_type": "code",
      "source": [
        "from scipy.stats import chi2_contingency\n",
        "\n",
        "pred_OOD_and_incorrect_label = sum(incorrect_OOD_preds)\n",
        "pred_OOD_and_correct_label = num_OOD_predictions - pred_OOD_and_incorrect_label\n",
        "not_pred_OOD_and_incorrect_label = num_incorrect_labels - pred_OOD_and_incorrect_label\n",
        "not_pred_OOD_and_correct_label = num_correct_labels - pred_OOD_and_correct_label\n",
        "\n",
        "chi2_contingency([[pred_OOD_and_incorrect_label, pred_OOD_and_correct_label], \n",
        "                  [not_pred_OOD_and_incorrect_label, not_pred_OOD_and_correct_label]])"
      ],
      "metadata": {
        "colab": {
          "base_uri": "https://localhost:8080/"
        },
        "id": "tGCrOv3Ws9N1",
        "outputId": "421b6c4b-532d-42a0-8fdc-5a0dad8b84bc"
      },
      "execution_count": 39,
      "outputs": [
        {
          "output_type": "execute_result",
          "data": {
            "text/plain": [
              "(1299.2277189049287,\n",
              " 1.6636013499880794e-284,\n",
              " 1,\n",
              " array([[   7.98955556,  221.01044444],\n",
              "        [ 149.01044444, 4121.98955556]]))"
            ]
          },
          "metadata": {},
          "execution_count": 39
        }
      ]
    },
    {
      "cell_type": "markdown",
      "source": [
        "Metrics for detecting incorrect labels"
      ],
      "metadata": {
        "id": "kmwAKF13YYbk"
      }
    },
    {
      "cell_type": "code",
      "source": [
        "for name in model_names:\n",
        "  y_pred = threshold_OOD[f'{name} in scope']\n",
        "  y_true = incorrect_or_OOD_labels\n",
        "  print(name)\n",
        "  print(confusion_matrix(y_true, y_pred))\n",
        "  print(precision_recall_fscore_support(y_true, y_pred, average='binary'))"
      ],
      "metadata": {
        "colab": {
          "base_uri": "https://localhost:8080/"
        },
        "id": "rb06ub4b267E",
        "outputId": "33041e55-02d8-4f24-d14c-c3852b8c4928"
      },
      "execution_count": 40,
      "outputs": [
        {
          "output_type": "stream",
          "name": "stdout",
          "text": [
            "kNN\n",
            "[[4205  138]\n",
            " [  62   95]]\n",
            "(0.40772532188841204, 0.6050955414012739, 0.4871794871794871, None)\n",
            "Simplex\n",
            "[[4220  123]\n",
            " [  51  106]]\n",
            "(0.462882096069869, 0.6751592356687898, 0.5492227979274612, None)\n",
            "Logits\n",
            "[[4218  125]\n",
            " [  60   97]]\n",
            "(0.4369369369369369, 0.6178343949044586, 0.5118733509234829, None)\n"
          ]
        }
      ]
    },
    {
      "cell_type": "markdown",
      "source": [
        "Model metrics with OOD or incorrect labels removed"
      ],
      "metadata": {
        "id": "7JdDC9PSZjzn"
      }
    },
    {
      "cell_type": "code",
      "source": [
        "labels = [sample['labels'] for sample in datasets_hf['in scope']]\n",
        "for name in model_names:\n",
        "  inscope_labels = []\n",
        "  inscope_predictions=[]\n",
        "  for label, label_prediction, OOD_prediction in zip(labels, predictions_test, threshold_OOD[f'{name} in scope']):\n",
        "    if OOD_prediction == INSCOPE_VALUE:\n",
        "      inscope_labels.append(label)\n",
        "      inscope_predictions.append(label_prediction)\n",
        "  print(name)\n",
        "  print(precision_recall_fscore_support(inscope_labels, inscope_predictions, average='macro'))\n",
        "  print((len(labels)-len(inscope_labels))/len(labels))"
      ],
      "metadata": {
        "colab": {
          "base_uri": "https://localhost:8080/"
        },
        "id": "TgCgOsrkYi5u",
        "outputId": "3a00b6d2-a2d1-44a9-cb34-961efa4a4ef9"
      },
      "execution_count": 41,
      "outputs": [
        {
          "output_type": "stream",
          "name": "stdout",
          "text": [
            "kNN\n",
            "(0.9863802556427129, 0.9850593008949331, 0.9851864100040594, None)\n",
            "0.05177777777777778\n",
            "Simplex\n",
            "(0.9887643712434919, 0.987739919905737, 0.9877373682601939, None)\n",
            "0.050888888888888886\n",
            "Logits\n",
            "(0.9800809929800781, 0.9795820615740157, 0.9793251939221527, None)\n",
            "0.04933333333333333\n"
          ]
        },
        {
          "output_type": "stream",
          "name": "stderr",
          "text": [
            "/usr/local/lib/python3.7/dist-packages/sklearn/metrics/_classification.py:1318: UndefinedMetricWarning: Precision and F-score are ill-defined and being set to 0.0 in labels with no predicted samples. Use `zero_division` parameter to control this behavior.\n",
            "  _warn_prf(average, modifier, msg_start, len(result))\n"
          ]
        }
      ]
    }
  ]
}