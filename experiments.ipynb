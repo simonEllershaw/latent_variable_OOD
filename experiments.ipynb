{
  "nbformat": 4,
  "nbformat_minor": 0,
  "metadata": {
    "colab": {
      "name": "experiments.ipynb",
      "provenance": [],
      "collapsed_sections": [],
      "mount_file_id": "1QdLo9cxIYtSWlnDsTYo6NccHxD_NbNt1",
      "authorship_tag": "ABX9TyOxAVgvHvyJvPjQyTXcOEVH",
      "include_colab_link": true
    },
    "kernelspec": {
      "name": "python3",
      "display_name": "Python 3"
    },
    "language_info": {
      "name": "python"
    },
    "accelerator": "GPU"
  },
  "cells": [
    {
      "cell_type": "markdown",
      "metadata": {
        "id": "view-in-github",
        "colab_type": "text"
      },
      "source": [
        "<a href=\"https://colab.research.google.com/github/simonEllershaw/latent_variable_OOD/blob/main/experiments.ipynb\" target=\"_parent\"><img src=\"https://colab.research.google.com/assets/colab-badge.svg\" alt=\"Open In Colab\"/></a>"
      ]
    },
    {
      "cell_type": "markdown",
      "source": [
        "# Out of distribution detection using a corpus of latent representation examples\n"
      ],
      "metadata": {
        "id": "1xrWxrSEPRPJ"
      }
    },
    {
      "cell_type": "markdown",
      "source": [
        "## Imports"
      ],
      "metadata": {
        "id": "6OkeTm8NPw1w"
      }
    },
    {
      "cell_type": "code",
      "execution_count": 1,
      "metadata": {
        "id": "DvBiYfvE6O1G",
        "colab": {
          "base_uri": "https://localhost:8080/"
        },
        "outputId": "ee59ead4-5443-4aac-d6ec-c60dc2b7eb8f"
      },
      "outputs": [
        {
          "output_type": "stream",
          "name": "stdout",
          "text": [
            "Requirement already satisfied: pip in /usr/local/lib/python3.7/dist-packages (22.0.3)\n",
            "\u001b[33mWARNING: Running pip as the 'root' user can result in broken permissions and conflicting behaviour with the system package manager. It is recommended to use a virtual environment instead: https://pip.pypa.io/warnings/venv\u001b[0m\u001b[33m\n",
            "\u001b[0m"
          ]
        }
      ],
      "source": [
        "! pip install pip -U"
      ]
    },
    {
      "cell_type": "code",
      "source": [
        "! pip install -r requirements.txt"
      ],
      "metadata": {
        "colab": {
          "base_uri": "https://localhost:8080/"
        },
        "id": "m4lLvioGv8wn",
        "outputId": "4008af7c-7e6c-4680-feb7-04d4ffae5210"
      },
      "execution_count": 2,
      "outputs": [
        {
          "output_type": "stream",
          "name": "stdout",
          "text": [
            "Processing /dlib-19.18.0-cp37-cp37m-linux_x86_64.whl\n",
            "\u001b[31mERROR: Could not install packages due to an OSError: [Errno 2] No such file or directory: '/dlib-19.18.0-cp37-cp37m-linux_x86_64.whl'\n",
            "\u001b[0m\u001b[31m\n",
            "\u001b[0m"
          ]
        }
      ]
    },
    {
      "cell_type": "markdown",
      "source": [
        "## Load Data"
      ],
      "metadata": {
        "id": "-039T-ByP3Sa"
      }
    },
    {
      "cell_type": "markdown",
      "source": [
        "Load clinic150 dataset"
      ],
      "metadata": {
        "id": "ErSyFuU3QFJj"
      }
    },
    {
      "cell_type": "code",
      "source": [
        "! unzip /content/data/clinc150_uci.zip -d /content/data/"
      ],
      "metadata": {
        "colab": {
          "base_uri": "https://localhost:8080/"
        },
        "id": "fm7PvnZUDLd4",
        "outputId": "a1ce732e-1449-434f-b949-d5df0386455a"
      },
      "execution_count": 3,
      "outputs": [
        {
          "output_type": "stream",
          "name": "stdout",
          "text": [
            "Archive:  /content/data/clinc150_uci.zip\n",
            "replace /content/data/clinc150_uci/data_small.json? [y]es, [n]o, [A]ll, [N]one, [r]ename: A\n",
            "  inflating: /content/data/clinc150_uci/data_small.json  \n",
            "  inflating: /content/data/__MACOSX/clinc150_uci/._data_small.json  \n",
            "  inflating: /content/data/clinc150_uci/meta.txt  \n",
            "  inflating: /content/data/__MACOSX/clinc150_uci/._meta.txt  \n",
            "  inflating: /content/data/clinc150_uci/LICENSE  \n",
            "  inflating: /content/data/clinc150_uci/data_oos_plus.json  \n",
            "  inflating: /content/data/__MACOSX/clinc150_uci/._data_oos_plus.json  \n",
            "  inflating: /content/data/clinc150_uci/data_imbalanced.json  \n",
            "  inflating: /content/data/__MACOSX/clinc150_uci/._data_imbalanced.json  \n",
            "  inflating: /content/data/clinc150_uci/data_full.json  \n",
            "  inflating: /content/data/__MACOSX/clinc150_uci/._data_full.json  \n"
          ]
        }
      ]
    },
    {
      "cell_type": "code",
      "source": [
        "import json\n",
        "with open('/content/data/clinc150_uci/data_full.json') as f:\n",
        "  data = json.load(f)"
      ],
      "metadata": {
        "id": "2KCl3NUu8Ovl"
      },
      "execution_count": 4,
      "outputs": []
    },
    {
      "cell_type": "code",
      "source": [
        "data.keys()"
      ],
      "metadata": {
        "colab": {
          "base_uri": "https://localhost:8080/"
        },
        "id": "fcxfnd8N9BSh",
        "outputId": "55992a62-64ba-406a-f0b2-de2c3ee19759"
      },
      "execution_count": 5,
      "outputs": [
        {
          "output_type": "execute_result",
          "data": {
            "text/plain": [
              "dict_keys(['oos_val', 'val', 'train', 'oos_test', 'test', 'oos_train'])"
            ]
          },
          "metadata": {},
          "execution_count": 5
        }
      ]
    },
    {
      "cell_type": "markdown",
      "source": [
        "Peek at some examples"
      ],
      "metadata": {
        "id": "J3yr0VtxP8sy"
      }
    },
    {
      "cell_type": "code",
      "source": [
        "data['train'][:10]"
      ],
      "metadata": {
        "colab": {
          "base_uri": "https://localhost:8080/"
        },
        "id": "xmjNobSU967f",
        "outputId": "e3ac8904-5a20-4eb0-aab9-2245f3ddae98"
      },
      "execution_count": 6,
      "outputs": [
        {
          "output_type": "execute_result",
          "data": {
            "text/plain": [
              "[['what expression would i use to say i love you if i were an italian',\n",
              "  'translate'],\n",
              " [\"can you tell me how to say 'i do not speak much spanish', in spanish\",\n",
              "  'translate'],\n",
              " [\"what is the equivalent of, 'life is good' in french\", 'translate'],\n",
              " [\"tell me how to say, 'it is a beautiful morning' in italian\", 'translate'],\n",
              " ['if i were mongolian, how would i say that i am a tourist', 'translate'],\n",
              " [\"how do i say 'hotel' in finnish\", 'translate'],\n",
              " [\"i need you to translate the sentence, 'we will be there soon' into portuguese\",\n",
              "  'translate'],\n",
              " ['please tell me how to ask for a taxi in french', 'translate'],\n",
              " [\"can you tell me how i would say, 'more bread please' in french\",\n",
              "  'translate'],\n",
              " [\"what is the correct way to say 'i am a visitor' in french\", 'translate']]"
            ]
          },
          "metadata": {},
          "execution_count": 6
        }
      ]
    },
    {
      "cell_type": "code",
      "source": [
        "data['oos_train'][:10]"
      ],
      "metadata": {
        "colab": {
          "base_uri": "https://localhost:8080/"
        },
        "id": "VVgCH5yjPBGk",
        "outputId": "f0dcc397-8f76-4166-a4f7-d7a300cead61"
      },
      "execution_count": 7,
      "outputs": [
        {
          "output_type": "execute_result",
          "data": {
            "text/plain": [
              "[['how much is an overdraft fee for bank', 'oos'],\n",
              " ['why are exponents preformed before multiplication in the order of operations',\n",
              "  'oos'],\n",
              " ['what size wipers does this car take', 'oos'],\n",
              " ['where is the dipstick', 'oos'],\n",
              " ['how much is 1 share of aapl', 'oos'],\n",
              " ['how is glue made', 'oos'],\n",
              " ['any headlines from my area', 'oos'],\n",
              " ['what is the largest state in the us', 'oos'],\n",
              " ['what is the current market trend', 'oos'],\n",
              " ['what is the most popular airline', 'oos']]"
            ]
          },
          "metadata": {},
          "execution_count": 7
        }
      ]
    },
    {
      "cell_type": "markdown",
      "source": [
        "Combine all oos (out of scope) data as it is not used for training. Also change dict keys for more verbose naming"
      ],
      "metadata": {
        "id": "vcC2aWLLQNtx"
      }
    },
    {
      "cell_type": "code",
      "source": [
        "oos_keys = [key for key in data.keys() if 'oos' in key]\n",
        "data['OOS'] = []\n",
        "for key in oos_keys:\n",
        "  data['OOS'] += data.pop(key)"
      ],
      "metadata": {
        "id": "9QrzPiSzOOPv"
      },
      "execution_count": 8,
      "outputs": []
    },
    {
      "cell_type": "code",
      "source": [
        "data['validation'] = data.pop('val')\n",
        "data['in scope'] = data.pop('test')"
      ],
      "metadata": {
        "id": "2RX9HB8Bd2Ap"
      },
      "execution_count": 9,
      "outputs": []
    },
    {
      "cell_type": "markdown",
      "source": [
        "## Transformer Training"
      ],
      "metadata": {
        "id": "MgNOeKybQgFm"
      }
    },
    {
      "cell_type": "markdown",
      "source": [
        "We are going to finetune a pre-trained roberta-base huggingFace transformer to the task of classifying the clinic150 texts. In huggingFace terminology this is sequence classification."
      ],
      "metadata": {
        "id": "bUnFdtqKQod0"
      }
    },
    {
      "cell_type": "markdown",
      "source": [
        "### Create HuggingFace Datasets"
      ],
      "metadata": {
        "id": "TpAQHl_eQ7Zx"
      }
    },
    {
      "cell_type": "markdown",
      "source": [
        "First we need to tokenize the input texts and convert the string labels to ids. We will use dynamic padding to increase training effiency."
      ],
      "metadata": {
        "id": "UcQ730jPRDwm"
      }
    },
    {
      "cell_type": "code",
      "source": [
        "from transformers import AutoTokenizer, DataCollatorWithPadding\n",
        "\n",
        "checkpoint = \"roberta-base\"\n",
        "tokenizer = AutoTokenizer.from_pretrained(checkpoint)\n",
        "data_collator = DataCollatorWithPadding(tokenizer)"
      ],
      "metadata": {
        "id": "0HRmKobDILmH"
      },
      "execution_count": 10,
      "outputs": []
    },
    {
      "cell_type": "markdown",
      "source": [
        "Define dataset"
      ],
      "metadata": {
        "id": "xX-g33ZDRcwN"
      }
    },
    {
      "cell_type": "code",
      "source": [
        "from torch.utils.data import Dataset\n",
        "\n",
        "class HuggingFaceDataset(Dataset):\n",
        "  def __init__(self, label2id, tokenizer, texts, labels=None, subset=None):\n",
        "    self._dict = tokenizer(texts, truncation=True)\n",
        "    if labels is not None:\n",
        "      self._dict['labels'] = [label2id[label] for label in labels]\n",
        "\n",
        "  def __len__(self):\n",
        "        return len(self._dict[\"input_ids\"])\n",
        "\n",
        "  def __getitem__(self, idx):\n",
        "      return {k: v[idx] for k, v in self._dict.items()}\n",
        "\n",
        "  def get_labels(self):\n",
        "    return self._dict['labels']"
      ],
      "metadata": {
        "id": "-lmnAdNNEjqi"
      },
      "execution_count": 11,
      "outputs": []
    },
    {
      "cell_type": "markdown",
      "source": [
        "Create huggingFace dataset for each clinic150 dataset (train, val, test, oos)"
      ],
      "metadata": {
        "id": "4uxy84DxRlqy"
      }
    },
    {
      "cell_type": "code",
      "source": [
        "label_names = sorted({label for _, label in data['train']})\n",
        "id2label = dict(enumerate(sorted(label_names)))\n",
        "label2id = {v: k for k, v in id2label.items()}\n",
        "\n",
        "datasets_hf = {}\n",
        "for key, dataset in data.items():\n",
        "  texts, labels = map(list,zip(*dataset))\n",
        "  if labels[0] == 'oos':\n",
        "    labels = None\n",
        "  datasets_hf[key] = HuggingFaceDataset(label2id, tokenizer, texts, labels) "
      ],
      "metadata": {
        "id": "2x5T-5SvRifL"
      },
      "execution_count": 12,
      "outputs": []
    },
    {
      "cell_type": "markdown",
      "source": [
        "Check lengths of dataset and tokens"
      ],
      "metadata": {
        "id": "_oh2lHzORhSy"
      }
    },
    {
      "cell_type": "code",
      "source": [
        "for key, dataset in datasets_hf.items():\n",
        "  print(key, len(dataset))"
      ],
      "metadata": {
        "colab": {
          "base_uri": "https://localhost:8080/"
        },
        "id": "TvZ2D0kpQVYk",
        "outputId": "8d689843-23a1-4cf4-e8ce-4f864f0bbfd6"
      },
      "execution_count": 13,
      "outputs": [
        {
          "output_type": "stream",
          "name": "stdout",
          "text": [
            "train 15000\n",
            "OOS 1200\n",
            "validation 3000\n",
            "in scope 4500\n"
          ]
        }
      ]
    },
    {
      "cell_type": "code",
      "source": [
        "import matplotlib.pyplot as plt\n",
        "plt.style.use(['science', 'ieee', 'no-latex'])\n",
        "plt.rcParams[\"figure.figsize\"] = [6.4, 4.8]\n",
        "plt.rcParams[\"figure.dpi\"] = 100\n",
        "\n",
        "plt.hist([len(sample['input_ids']) for sample in datasets_hf['train']])\n",
        "plt.ylabel('Frequency')\n",
        "plt.xlabel('Token Length')"
      ],
      "metadata": {
        "colab": {
          "base_uri": "https://localhost:8080/",
          "height": 436
        },
        "id": "ueVQCkDht6Yk",
        "outputId": "beb023bc-40cb-454f-c9f2-1822550641ce"
      },
      "execution_count": 14,
      "outputs": [
        {
          "output_type": "execute_result",
          "data": {
            "text/plain": [
              "Text(0.5, 0, 'Token Length')"
            ]
          },
          "metadata": {},
          "execution_count": 14
        },
        {
          "output_type": "stream",
          "name": "stderr",
          "text": [
            "findfont: Font family ['serif'] not found. Falling back to DejaVu Sans.\n"
          ]
        },
        {
          "output_type": "display_data",
          "data": {
            "image/png": "[encoded data removed]",
            "text/plain": [
              "<Figure size 640x480 with 1 Axes>"
            ]
          },
          "metadata": {
            "needs_background": "light"
          }
        }
      ]
    },
    {
      "cell_type": "markdown",
      "source": [
        "### Train Model"
      ],
      "metadata": {
        "id": "etoXdb7HR4eO"
      }
    },
    {
      "cell_type": "markdown",
      "source": [
        "Setup training objects: models, arguments and metrics"
      ],
      "metadata": {
        "id": "L3kMUkg6R_kV"
      }
    },
    {
      "cell_type": "code",
      "source": [
        "from transformers import AutoModelForSequenceClassification\n",
        "\n",
        "model = AutoModelForSequenceClassification.from_pretrained(\n",
        "    checkpoint,\n",
        "    num_labels=len(label_names),\n",
        ")"
      ],
      "metadata": {
        "colab": {
          "base_uri": "https://localhost:8080/"
        },
        "id": "no8WjPFcRsKd",
        "outputId": "0d79eec7-8e0e-4e08-eac5-0d344f9d7adb"
      },
      "execution_count": 15,
      "outputs": [
        {
          "output_type": "stream",
          "name": "stderr",
          "text": [
            "Some weights of the model checkpoint at roberta-base were not used when initializing RobertaForSequenceClassification: ['lm_head.decoder.weight', 'lm_head.dense.bias', 'lm_head.layer_norm.bias', 'lm_head.layer_norm.weight', 'lm_head.bias', 'roberta.pooler.dense.weight', 'roberta.pooler.dense.bias', 'lm_head.dense.weight']\n",
            "- This IS expected if you are initializing RobertaForSequenceClassification from the checkpoint of a model trained on another task or with another architecture (e.g. initializing a BertForSequenceClassification model from a BertForPreTraining model).\n",
            "- This IS NOT expected if you are initializing RobertaForSequenceClassification from the checkpoint of a model that you expect to be exactly identical (initializing a BertForSequenceClassification model from a BertForSequenceClassification model).\n",
            "Some weights of RobertaForSequenceClassification were not initialized from the model checkpoint at roberta-base and are newly initialized: ['classifier.dense.bias', 'classifier.dense.weight', 'classifier.out_proj.bias', 'classifier.out_proj.weight']\n",
            "You should probably TRAIN this model on a down-stream task to be able to use it for predictions and inference.\n"
          ]
        }
      ]
    },
    {
      "cell_type": "code",
      "source": [
        "from transformers import TrainingArguments\n",
        "\n",
        "batch_size=32\n",
        "args = TrainingArguments(\n",
        "    \"models/CLINIC150\",\n",
        "    per_device_train_batch_size=batch_size,\n",
        "    per_device_eval_batch_size=batch_size,\n",
        "    evaluation_strategy=\"epoch\",\n",
        "    save_strategy=\"epoch\",\n",
        "    logging_strategy=\"epoch\",\n",
        "    learning_rate=5e-5,\n",
        "    num_train_epochs=10,\n",
        "    weight_decay=0.01,\n",
        "    group_by_length=True,\n",
        "    warmup_ratio=0.1,\n",
        "    load_best_model_at_end=True\n",
        ")\n"
      ],
      "metadata": {
        "id": "w1tvUeaNR4eo"
      },
      "execution_count": 16,
      "outputs": []
    },
    {
      "cell_type": "code",
      "source": [
        "from sklearn.metrics import precision_recall_fscore_support\n",
        "import numpy as np\n",
        "\n",
        "def compute_metrics(eval_pred):\n",
        "  \"\"\"Called to compute validation metrics at each evaluation step of training.\"\"\"\n",
        "  logits, labels = eval_pred\n",
        "  labels = labels.flatten()\n",
        "  predictions = np.argmax(logits, axis=-1).flatten()\n",
        "\n",
        "  precision, recall, f1, _ = precision_recall_fscore_support(\n",
        "      labels, predictions, average='macro', zero_division=0\n",
        "  )\n",
        "  metrics = {\"f1\": f1, \"precision\": precision, \"recall\": recall}\n",
        "  return metrics"
      ],
      "metadata": {
        "id": "N37ouBZxS4hs"
      },
      "execution_count": 17,
      "outputs": []
    },
    {
      "cell_type": "code",
      "source": [
        "from transformers import Trainer, DataCollatorWithPadding, EarlyStoppingCallback\n",
        "\n",
        "trainer = Trainer(\n",
        "    model=model,\n",
        "    args=args,\n",
        "    train_dataset=datasets_hf['train'],\n",
        "    eval_dataset=datasets_hf['validation'],\n",
        "    data_collator=data_collator,\n",
        "    compute_metrics=compute_metrics,\n",
        "    callbacks=[EarlyStoppingCallback(early_stopping_patience=3)],\n",
        ")\n"
      ],
      "metadata": {
        "id": "IStnRUjESgUZ"
      },
      "execution_count": 18,
      "outputs": []
    },
    {
      "cell_type": "markdown",
      "source": [
        "Train or load one I did earlier! Training takes ~10mins with a basic GPU"
      ],
      "metadata": {
        "id": "gbpmXDRESG-a"
      }
    },
    {
      "cell_type": "code",
      "source": [
        "trainer.train()\n",
        "# model = AutoModelForSequenceClassification.from_pretrained('/content/models/CLINIC150/checkpoint-2814')"
      ],
      "metadata": {
        "colab": {
          "base_uri": "https://localhost:8080/",
          "height": 1000
        },
        "id": "G-kch_koQ5LW",
        "outputId": "6fba3659-8ac3-4584-a6d4-36303f5f7b99"
      },
      "execution_count": 19,
      "outputs": [
        {
          "output_type": "stream",
          "name": "stderr",
          "text": [
            "/usr/local/lib/python3.7/dist-packages/transformers/optimization.py:309: FutureWarning: This implementation of AdamW is deprecated and will be removed in a future version. Use thePyTorch implementation torch.optim.AdamW instead, or set `no_deprecation_warning=True` to disable this warning\n",
            "  FutureWarning,\n",
            "***** Running training *****\n",
            "  Num examples = 15000\n",
            "  Num Epochs = 10\n",
            "  Instantaneous batch size per device = 32\n",
            "  Total train batch size (w. parallel, distributed & accumulation) = 32\n",
            "  Gradient Accumulation steps = 1\n",
            "  Total optimization steps = 4690\n"
          ]
        },
        {
          "output_type": "display_data",
          "data": {
            "text/html": [
              "\n",
              "    <div>\n",
              "      \n",
              "      <progress value='4221' max='4690' style='width:300px; height:20px; vertical-align: middle;'></progress>\n",
              "      [4221/4690 06:40 < 00:44, 10.54 it/s, Epoch 9/10]\n",
              "    </div>\n",
              "    <table border=\"1\" class=\"dataframe\">\n",
              "  <thead>\n",
              " <tr style=\"text-align: left;\">\n",
              "      <th>Epoch</th>\n",
              "      <th>Training Loss</th>\n",
              "      <th>Validation Loss</th>\n",
              "      <th>F1</th>\n",
              "      <th>Precision</th>\n",
              "      <th>Recall</th>\n",
              "    </tr>\n",
              "  </thead>\n",
              "  <tbody>\n",
              "    <tr>\n",
              "      <td>1</td>\n",
              "      <td>3.570600</td>\n",
              "      <td>1.017555</td>\n",
              "      <td>0.897310</td>\n",
              "      <td>0.913480</td>\n",
              "      <td>0.906000</td>\n",
              "    </tr>\n",
              "    <tr>\n",
              "      <td>2</td>\n",
              "      <td>0.484200</td>\n",
              "      <td>0.222884</td>\n",
              "      <td>0.962013</td>\n",
              "      <td>0.965498</td>\n",
              "      <td>0.962333</td>\n",
              "    </tr>\n",
              "    <tr>\n",
              "      <td>3</td>\n",
              "      <td>0.114700</td>\n",
              "      <td>0.224671</td>\n",
              "      <td>0.958318</td>\n",
              "      <td>0.960665</td>\n",
              "      <td>0.960667</td>\n",
              "    </tr>\n",
              "    <tr>\n",
              "      <td>4</td>\n",
              "      <td>0.052900</td>\n",
              "      <td>0.169376</td>\n",
              "      <td>0.966602</td>\n",
              "      <td>0.969449</td>\n",
              "      <td>0.966667</td>\n",
              "    </tr>\n",
              "    <tr>\n",
              "      <td>5</td>\n",
              "      <td>0.027400</td>\n",
              "      <td>0.183431</td>\n",
              "      <td>0.970069</td>\n",
              "      <td>0.972845</td>\n",
              "      <td>0.970333</td>\n",
              "    </tr>\n",
              "    <tr>\n",
              "      <td>6</td>\n",
              "      <td>0.020800</td>\n",
              "      <td>0.157110</td>\n",
              "      <td>0.971738</td>\n",
              "      <td>0.973598</td>\n",
              "      <td>0.972000</td>\n",
              "    </tr>\n",
              "    <tr>\n",
              "      <td>7</td>\n",
              "      <td>0.013200</td>\n",
              "      <td>0.179217</td>\n",
              "      <td>0.970072</td>\n",
              "      <td>0.972271</td>\n",
              "      <td>0.970333</td>\n",
              "    </tr>\n",
              "    <tr>\n",
              "      <td>8</td>\n",
              "      <td>0.008600</td>\n",
              "      <td>0.170751</td>\n",
              "      <td>0.974513</td>\n",
              "      <td>0.976337</td>\n",
              "      <td>0.974667</td>\n",
              "    </tr>\n",
              "    <tr>\n",
              "      <td>9</td>\n",
              "      <td>0.005800</td>\n",
              "      <td>0.182668</td>\n",
              "      <td>0.972237</td>\n",
              "      <td>0.974364</td>\n",
              "      <td>0.972333</td>\n",
              "    </tr>\n",
              "  </tbody>\n",
              "</table><p>"
            ],
            "text/plain": [
              "<IPython.core.display.HTML object>"
            ]
          },
          "metadata": {}
        },
        {
          "output_type": "stream",
          "name": "stderr",
          "text": [
            "***** Running Evaluation *****\n",
            "  Num examples = 3000\n",
            "  Batch size = 32\n",
            "Saving model checkpoint to models/CLINIC150/checkpoint-469\n",
            "Configuration saved in models/CLINIC150/checkpoint-469/config.json\n",
            "Model weights saved in models/CLINIC150/checkpoint-469/pytorch_model.bin\n",
            "***** Running Evaluation *****\n",
            "  Num examples = 3000\n",
            "  Batch size = 32\n",
            "Saving model checkpoint to models/CLINIC150/checkpoint-938\n",
            "Configuration saved in models/CLINIC150/checkpoint-938/config.json\n",
            "Model weights saved in models/CLINIC150/checkpoint-938/pytorch_model.bin\n",
            "***** Running Evaluation *****\n",
            "  Num examples = 3000\n",
            "  Batch size = 32\n",
            "Saving model checkpoint to models/CLINIC150/checkpoint-1407\n",
            "Configuration saved in models/CLINIC150/checkpoint-1407/config.json\n",
            "Model weights saved in models/CLINIC150/checkpoint-1407/pytorch_model.bin\n",
            "***** Running Evaluation *****\n",
            "  Num examples = 3000\n",
            "  Batch size = 32\n",
            "Saving model checkpoint to models/CLINIC150/checkpoint-1876\n",
            "Configuration saved in models/CLINIC150/checkpoint-1876/config.json\n",
            "Model weights saved in models/CLINIC150/checkpoint-1876/pytorch_model.bin\n",
            "***** Running Evaluation *****\n",
            "  Num examples = 3000\n",
            "  Batch size = 32\n",
            "Saving model checkpoint to models/CLINIC150/checkpoint-2345\n",
            "Configuration saved in models/CLINIC150/checkpoint-2345/config.json\n",
            "Model weights saved in models/CLINIC150/checkpoint-2345/pytorch_model.bin\n",
            "***** Running Evaluation *****\n",
            "  Num examples = 3000\n",
            "  Batch size = 32\n",
            "Saving model checkpoint to models/CLINIC150/checkpoint-2814\n",
            "Configuration saved in models/CLINIC150/checkpoint-2814/config.json\n",
            "Model weights saved in models/CLINIC150/checkpoint-2814/pytorch_model.bin\n",
            "***** Running Evaluation *****\n",
            "  Num examples = 3000\n",
            "  Batch size = 32\n",
            "Saving model checkpoint to models/CLINIC150/checkpoint-3283\n",
            "Configuration saved in models/CLINIC150/checkpoint-3283/config.json\n",
            "Model weights saved in models/CLINIC150/checkpoint-3283/pytorch_model.bin\n",
            "***** Running Evaluation *****\n",
            "  Num examples = 3000\n",
            "  Batch size = 32\n",
            "Saving model checkpoint to models/CLINIC150/checkpoint-3752\n",
            "Configuration saved in models/CLINIC150/checkpoint-3752/config.json\n",
            "Model weights saved in models/CLINIC150/checkpoint-3752/pytorch_model.bin\n",
            "***** Running Evaluation *****\n",
            "  Num examples = 3000\n",
            "  Batch size = 32\n",
            "Saving model checkpoint to models/CLINIC150/checkpoint-4221\n",
            "Configuration saved in models/CLINIC150/checkpoint-4221/config.json\n",
            "Model weights saved in models/CLINIC150/checkpoint-4221/pytorch_model.bin\n",
            "\n",
            "\n",
            "Training completed. Do not forget to share your model on huggingface.co/models =)\n",
            "\n",
            "\n",
            "Loading best model from models/CLINIC150/checkpoint-2814 (score: 0.15710996091365814).\n"
          ]
        },
        {
          "output_type": "execute_result",
          "data": {
            "text/plain": [
              "TrainOutput(global_step=4221, training_loss=0.47757381230444457, metrics={'train_runtime': 400.308, 'train_samples_per_second': 374.711, 'train_steps_per_second': 11.716, 'total_flos': 794918521156032.0, 'train_loss': 0.47757381230444457, 'epoch': 9.0})"
            ]
          },
          "metadata": {},
          "execution_count": 19
        }
      ]
    },
    {
      "cell_type": "markdown",
      "source": [
        "Get test set metrics"
      ],
      "metadata": {
        "id": "ysBpSzQyJRaD"
      }
    },
    {
      "cell_type": "code",
      "source": [
        "import torch\n",
        "\n",
        "def get_model_outputs(dataset_hf, model, batch_size, device):\n",
        "  model.to(device)\n",
        "  model.eval()\n",
        "  dataloader = torch.utils.data.DataLoader(\n",
        "      dataset_hf, batch_size=batch_size, collate_fn=data_collator\n",
        "  )\n",
        "\n",
        "  latent_states = torch.zeros(len(dataset_hf), model.config.hidden_size)\n",
        "  logits = torch.zeros(len(dataset_hf), model.config.num_labels)\n",
        "  with torch.set_grad_enabled(False):\n",
        "      for idx, batch in zip(range(0, len(dataset_hf), batch_size), dataloader):\n",
        "          batch.pop(\"labels\", default=None)\n",
        "          batch = {k: v.to(device) for k, v in batch.items()}\n",
        "          output = model(**batch, output_hidden_states=True)\n",
        "          latent_states[idx:idx+batch_size] = output['hidden_states'][-1][:,0].detach()\n",
        "          logits[idx:idx+batch_size] = output['logits'].detach()\n",
        "  return logits, latent_states\n",
        "       "
      ],
      "metadata": {
        "id": "bqe12pbVRGIB"
      },
      "execution_count": 20,
      "outputs": []
    },
    {
      "cell_type": "code",
      "source": [
        "device = 'cuda:0' if torch.cuda.is_available() else 'cpu'\n",
        "test_set_predictions, _ = get_model_outputs(datasets_hf['in scope'], model, batch_size, device)\n",
        "test_set_predictions = test_set_predictions.cpu().numpy()\n",
        "test_set_labels = np.array(datasets_hf['in scope'].get_labels())\n",
        "print(compute_metrics((test_set_predictions, test_set_labels)))"
      ],
      "metadata": {
        "colab": {
          "base_uri": "https://localhost:8080/"
        },
        "id": "uAbpiucYJQs6",
        "outputId": "bb6c927a-7f15-4c72-acfc-858ae201f65a"
      },
      "execution_count": 21,
      "outputs": [
        {
          "output_type": "stream",
          "name": "stdout",
          "text": [
            "{'f1': 0.9652545883887976, 'precision': 0.9673401585187013, 'recall': 0.9653333333333334}\n"
          ]
        }
      ]
    },
    {
      "cell_type": "markdown",
      "source": [
        "## OOS detection"
      ],
      "metadata": {
        "id": "86xirqCrSgIt"
      }
    },
    {
      "cell_type": "markdown",
      "source": [
        "Now we have a model we can start looking at OOS detection.\n",
        "### Extract latent states\n",
        "Firstly we need to extract the final latent (hidden) state of the class token for each data sample. We also collect the logits as these will be helpful in later analysis"
      ],
      "metadata": {
        "id": "Wl48iquMSoJ_"
      }
    },
    {
      "cell_type": "markdown",
      "source": [
        "In line with previous work we randomly subsample the training corpus size to 1000 examples"
      ],
      "metadata": {
        "id": "jVUl4fulTCZB"
      }
    },
    {
      "cell_type": "code",
      "source": [
        "import random\n",
        "RANDOM_SEED = 23\n",
        "SUB_SAMPLE_SIZE=1000\n",
        "\n",
        "random.seed(RANDOM_SEED)\n",
        "sub_sample_data_train = random.sample(data['train'], SUB_SAMPLE_SIZE)\n",
        "texts, labels = map(list,zip(*sub_sample_data_train))\n",
        "datasets_hf['train'] = HuggingFaceDataset(label2id, tokenizer, texts)"
      ],
      "metadata": {
        "id": "gXJrD7ktePkE"
      },
      "execution_count": 22,
      "outputs": []
    },
    {
      "cell_type": "code",
      "source": [
        "latent_states = {}\n",
        "logits = {}\n",
        "for key, dataset in datasets_hf.items():\n",
        "  logits[key], latent_states[key] = get_model_outputs(dataset, model, batch_size, device)"
      ],
      "metadata": {
        "id": "jrD34CXKTnAk"
      },
      "execution_count": 23,
      "outputs": []
    },
    {
      "cell_type": "code",
      "source": [
        "for k, (latent_state) in latent_states.items():\n",
        "  print(k, latent_state.size())"
      ],
      "metadata": {
        "colab": {
          "base_uri": "https://localhost:8080/"
        },
        "id": "CSeyyBeWZ5cL",
        "outputId": "d0e47729-748f-4113-bf7c-43709f0c725f"
      },
      "execution_count": 24,
      "outputs": [
        {
          "output_type": "stream",
          "name": "stdout",
          "text": [
            "train torch.Size([1000, 768])\n",
            "OOS torch.Size([1200, 768])\n",
            "validation torch.Size([3000, 768])\n",
            "in scope torch.Size([4500, 768])\n"
          ]
        }
      ]
    },
    {
      "cell_type": "markdown",
      "source": [
        "### Fit models to latent states\n",
        "\n",
        "Now we can fit the simplex and distance weighted neural nets to approximate the oos and test sets latent states from the corpus of examples.\n",
        "\n",
        "All parameters are taken from the original paper's experiments"
      ],
      "metadata": {
        "id": "7CpNUfdOTTg0"
      }
    },
    {
      "cell_type": "code",
      "source": [
        "from explainers.simplex import Simplex\n",
        "from utils.schedulers import ExponentialScheduler\n",
        "\n",
        "fit_keys=['validation', 'in scope', 'OOS']\n",
        "explainers = {}\n",
        "N_KEEP = 10\n",
        "\n",
        "model_name = 'Simplex'\n",
        "model_names=[model_name]\n",
        "\n",
        "for key in fit_keys:\n",
        "  simplex = Simplex(latent_states['train'].to(device).detach())\n",
        "  latent_state = latent_states[key]\n",
        "  reg_factor_scheduler = ExponentialScheduler(0.1, 100, 10000)\n",
        "  simplex.fit(\n",
        "        latent_state.to(device).detach(), \n",
        "        n_epoch=10000,\n",
        "        reg_factor=0.1, \n",
        "        n_keep=N_KEEP,\n",
        "        reg_factor_scheduler=reg_factor_scheduler,\n",
        "      )\n",
        "  simplex.plot_hist()\n",
        "  explainers[f\"{model_name} {key}\"] = simplex\n",
        "  "
      ],
      "metadata": {
        "colab": {
          "base_uri": "https://localhost:8080/",
          "height": 1000
        },
        "id": "KdJCgnWTjG-a",
        "outputId": "d50d43bb-3b27-4730-cae3-1fa1724adf66"
      },
      "execution_count": 25,
      "outputs": [
        {
          "output_type": "stream",
          "name": "stdout",
          "text": [
            "Weight Fitting Epoch: 2000/10000 ; Error: 5.82e+05 ; Regulator: 1.77e+03 ; Reg Factor: 0.398\n",
            "Weight Fitting Epoch: 4000/10000 ; Error: 7.17e+04 ; Regulator: 415 ; Reg Factor: 1.58\n",
            "Weight Fitting Epoch: 6000/10000 ; Error: 5.05e+04 ; Regulator: 196 ; Reg Factor: 6.31\n",
            "Weight Fitting Epoch: 8000/10000 ; Error: 4.42e+04 ; Regulator: 84.6 ; Reg Factor: 25.1\n",
            "Weight Fitting Epoch: 10000/10000 ; Error: 4.23e+04 ; Regulator: 24.5 ; Reg Factor: 99.9\n"
          ]
        },
        {
          "output_type": "display_data",
          "data": {
            "image/png": "[encoded data removed]",
            "text/plain": [
              "<Figure size 640x480 with 2 Axes>"
            ]
          },
          "metadata": {}
        },
        {
          "output_type": "stream",
          "name": "stdout",
          "text": [
            "Weight Fitting Epoch: 2000/10000 ; Error: 8.73e+05 ; Regulator: 2.65e+03 ; Reg Factor: 0.398\n",
            "Weight Fitting Epoch: 4000/10000 ; Error: 1.08e+05 ; Regulator: 620 ; Reg Factor: 1.58\n",
            "Weight Fitting Epoch: 6000/10000 ; Error: 7.62e+04 ; Regulator: 292 ; Reg Factor: 6.31\n",
            "Weight Fitting Epoch: 8000/10000 ; Error: 6.67e+04 ; Regulator: 126 ; Reg Factor: 25.1\n",
            "Weight Fitting Epoch: 10000/10000 ; Error: 6.37e+04 ; Regulator: 36.6 ; Reg Factor: 99.9\n"
          ]
        },
        {
          "output_type": "display_data",
          "data": {
            "image/png": "[encoded data removed]",
            "text/plain": [
              "<Figure size 640x480 with 2 Axes>"
            ]
          },
          "metadata": {}
        },
        {
          "output_type": "stream",
          "name": "stdout",
          "text": [
            "Weight Fitting Epoch: 2000/10000 ; Error: 3.62e+05 ; Regulator: 880 ; Reg Factor: 0.398\n",
            "Weight Fitting Epoch: 4000/10000 ; Error: 2.65e+05 ; Regulator: 446 ; Reg Factor: 1.58\n",
            "Weight Fitting Epoch: 6000/10000 ; Error: 2.54e+05 ; Regulator: 213 ; Reg Factor: 6.31\n",
            "Weight Fitting Epoch: 8000/10000 ; Error: 2.51e+05 ; Regulator: 58.2 ; Reg Factor: 25.1\n",
            "Weight Fitting Epoch: 10000/10000 ; Error: 2.51e+05 ; Regulator: 7.7 ; Reg Factor: 99.9\n"
          ]
        },
        {
          "output_type": "display_data",
          "data": {
            "image/png": "[encoded data removed]",
            "text/plain": [
              "<Figure size 640x480 with 2 Axes>"
            ]
          },
          "metadata": {}
        }
      ]
    },
    {
      "cell_type": "code",
      "source": [
        "from explainers.nearest_neighbours import NearNeighLatent\n",
        "\n",
        "model_name = \"kNN\"\n",
        "model_names.append(model_name)\n",
        "for key in fit_keys:\n",
        "  nn_dist = NearNeighLatent(\n",
        "      corpus_latent_reps=latent_states['train'].cpu(), \n",
        "      weights_type='distance'\n",
        "    )\n",
        "  latent_state = latent_states[key].cpu()\n",
        "  nn_dist.fit(test_latent_reps=latent_state,\n",
        "              n_keep=N_KEEP)\n",
        "  explainers[f\"{model_name} {key}\"] = nn_dist"
      ],
      "metadata": {
        "id": "ABeITUZKrZk7"
      },
      "execution_count": 26,
      "outputs": []
    },
    {
      "cell_type": "markdown",
      "source": [
        "### Evaluate quality of approximation\n",
        "\n",
        "This is done through the calculation of R^2 scores and the euclidean distance betweeen the real and approximated latent states"
      ],
      "metadata": {
        "id": "E1tmYIIvT1v7"
      }
    },
    {
      "cell_type": "code",
      "source": [
        "from torch.nn.functional import pairwise_distance\n",
        "from sklearn.metrics import r2_score\n",
        "\n",
        "distances={}\n",
        "r2_scores={}\n",
        "\n",
        "for name, explainer in explainers.items():\n",
        "  latent_rep=explainer.test_latent_reps.cpu()\n",
        "  latent_approx=explainer.latent_approx().cpu()\n",
        "  distances[name]=pairwise_distance(latent_rep, latent_approx)\n",
        "  r2_scores[name]=r2_score(latent_rep, latent_approx)"
      ],
      "metadata": {
        "id": "3ualRLwlqiug"
      },
      "execution_count": 27,
      "outputs": []
    },
    {
      "cell_type": "code",
      "source": [
        "r2_scores"
      ],
      "metadata": {
        "colab": {
          "base_uri": "https://localhost:8080/"
        },
        "id": "w405RIMRj2r1",
        "outputId": "4ea7417e-adce-4313-cec3-63710da7b0b7"
      },
      "execution_count": 28,
      "outputs": [
        {
          "output_type": "execute_result",
          "data": {
            "text/plain": [
              "{'Simplex OOS': 0.5609351574748827,\n",
              " 'Simplex in scope': 0.970603075976018,\n",
              " 'Simplex validation': 0.9706511008329771,\n",
              " 'kNN OOS': 0.37036751307786103,\n",
              " 'kNN in scope': 0.9468831253345321,\n",
              " 'kNN validation': 0.9463058200256779}"
            ]
          },
          "metadata": {},
          "execution_count": 28
        }
      ]
    },
    {
      "cell_type": "markdown",
      "source": [
        "Test if there is a statistically significant difference between distribution using the two-sample Kolmogorov-Smirnov test"
      ],
      "metadata": {
        "id": "VAZ95LHeU1Vf"
      }
    },
    {
      "cell_type": "code",
      "source": [
        "from scipy.stats import ks_2samp\n",
        "\n",
        "ks_2_samp_metrics = {}\n",
        "for model_name in model_names:\n",
        "  for fit_key in ['OOS', 'in scope']:\n",
        "    key=f\"{model_name} {fit_key}\"\n",
        "    ks_2_samp_metrics[key] = ks_2samp(distances[f\"{model_name} validation\"], distances[key])\n",
        "\n",
        "ks_2_samp_metrics"
      ],
      "metadata": {
        "colab": {
          "base_uri": "https://localhost:8080/"
        },
        "id": "ssCmS1HkuTZc",
        "outputId": "ddaff77a-fd62-44f3-f130-333c5a15d8ad"
      },
      "execution_count": 29,
      "outputs": [
        {
          "output_type": "execute_result",
          "data": {
            "text/plain": [
              "{'Simplex OOS': Ks_2sampResult(statistic=0.8536666666666667, pvalue=0.0),\n",
              " 'Simplex in scope': Ks_2sampResult(statistic=0.013, pvalue=1.0),\n",
              " 'kNN OOS': Ks_2sampResult(statistic=0.8248333333333333, pvalue=0.0),\n",
              " 'kNN in scope': Ks_2sampResult(statistic=0.01633333333333333, pvalue=1.0)}"
            ]
          },
          "metadata": {},
          "execution_count": 29
        }
      ]
    },
    {
      "cell_type": "markdown",
      "source": [
        "### Visualise distance distribution\n",
        "\n",
        "Visualise distribution of distances per dataset and method\n",
        "- Box plot"
      ],
      "metadata": {
        "id": "pDUI7l-8UWlU"
      }
    },
    {
      "cell_type": "code",
      "source": [
        "import matplotlib.pyplot as plt\n",
        "plt.style.use(['science', 'ieee', 'no-latex'])\n",
        "plt.rcParams[\"figure.figsize\"] = [6.4, 4.8]\n",
        "plt.rcParams[\"figure.dpi\"] = 100\n",
        "\n",
        "fig, ax = plt.subplots()\n",
        "key_names = []\n",
        "sorted_keys = [f\"{model_name} {dataset}\" for model_name in model_names for dataset in ['validation', 'in scope', 'OOS']]\n",
        "ax.boxplot([distances[key] for key in sorted_keys])\n",
        "sorted_keys = [f\"{model_name}\\n{dataset}\" for model_name in model_names for dataset in ['validation', 'in scope', 'OOS']]\n",
        "ax.set_xticklabels(sorted_keys)\n",
        "# TODO: Set ylabel to notation used in report\n",
        "ax.set_ylabel('Corpus Residuals')\n",
        "plt.show()"
      ],
      "metadata": {
        "colab": {
          "base_uri": "https://localhost:8080/",
          "height": 550
        },
        "id": "4GvzJQKOnV1S",
        "outputId": "c0dcb914-d6cd-485b-e972-71dbd742f2ef"
      },
      "execution_count": 30,
      "outputs": [
        {
          "output_type": "stream",
          "name": "stderr",
          "text": [
            "/usr/local/lib/python3.7/dist-packages/matplotlib/cbook/__init__.py:1376: FutureWarning: The input object of type 'Tensor' is an array-like implementing one of the corresponding protocols (`__array__`, `__array_interface__` or `__array_struct__`); but not a sequence (or 0-D). In the future, this object will be coerced as if it was first converted using `np.array(obj)`. To retain the old behaviour, you have to either modify the type 'Tensor', or assign to an empty array created with `np.empty(correct_shape, dtype=object)`.\n",
            "  X = np.atleast_1d(X.T if isinstance(X, np.ndarray) else np.asarray(X))\n",
            "/usr/local/lib/python3.7/dist-packages/matplotlib/cbook/__init__.py:1376: VisibleDeprecationWarning: Creating an ndarray from ragged nested sequences (which is a list-or-tuple of lists-or-tuples-or ndarrays with different lengths or shapes) is deprecated. If you meant to do this, you must specify 'dtype=object' when creating the ndarray.\n",
            "  X = np.atleast_1d(X.T if isinstance(X, np.ndarray) else np.asarray(X))\n",
            "findfont: Font family ['serif'] not found. Falling back to DejaVu Sans.\n",
            "findfont: Font family ['serif'] not found. Falling back to DejaVu Sans.\n"
          ]
        },
        {
          "output_type": "display_data",
          "data": {
            "image/png": "[encoded data removed]",
            "text/plain": [
              "<Figure size 640x480 with 1 Axes>"
            ]
          },
          "metadata": {}
        }
      ]
    },
    {
      "cell_type": "markdown",
      "source": [
        "- Histogram"
      ],
      "metadata": {
        "id": "nE6ZxAHUVJIE"
      }
    },
    {
      "cell_type": "code",
      "source": [
        "fig, ax = plt.subplots()\n",
        "for key, dataset_distances in distances.items():\n",
        "  if 'Simplex' in key:\n",
        "    pdf = np.sort(dataset_distances.numpy())\n",
        "    ax.hist(pdf, density=True)\n",
        "ax.set_ylabel('Probability denisty')\n",
        "# TODO: Set ylabel to notation used in report\n",
        "ax.set_xlabel('Corpus Residual')"
      ],
      "metadata": {
        "colab": {
          "base_uri": "https://localhost:8080/",
          "height": 449
        },
        "id": "qsJu-hX_2d9L",
        "outputId": "449f4736-7f09-48a8-b242-97b323c6db57"
      },
      "execution_count": 31,
      "outputs": [
        {
          "output_type": "execute_result",
          "data": {
            "text/plain": [
              "Text(0.5, 0, 'Corpus Residual')"
            ]
          },
          "metadata": {},
          "execution_count": 31
        },
        {
          "output_type": "display_data",
          "data": {
            "image/png": "[encoded data removed]",
            "text/plain": [
              "<Figure size 640x480 with 1 Axes>"
            ]
          },
          "metadata": {}
        }
      ]
    },
    {
      "cell_type": "markdown",
      "source": [
        "- Cumulative probability density function"
      ],
      "metadata": {
        "id": "wrKS1Cu6VL16"
      }
    },
    {
      "cell_type": "code",
      "source": [
        "fig, ax = plt.subplots()\n",
        "for key, dataset_distances in distances.items():\n",
        "  if 'Simplex' in key:\n",
        "    pdf = np.sort(dataset_distances.numpy())\n",
        "    ax.plot(pdf, np.linspace(0, 1, num=len(pdf)), label=key)\n",
        "ax.set_ylabel('Cumulative probability denisty')\n",
        "# TODO: Set ylabel to notation used in report\n",
        "ax.set_xlabel('Corpus Residual')\n",
        "plt.legend()"
      ],
      "metadata": {
        "colab": {
          "base_uri": "https://localhost:8080/",
          "height": 449
        },
        "id": "1Mndp0de2nRp",
        "outputId": "07a99d50-fb57-4706-9738-e2175a195acb"
      },
      "execution_count": 32,
      "outputs": [
        {
          "output_type": "execute_result",
          "data": {
            "text/plain": [
              "<matplotlib.legend.Legend at 0x7f63e17289d0>"
            ]
          },
          "metadata": {},
          "execution_count": 32
        },
        {
          "output_type": "display_data",
          "data": {
            "image/png": "[encoded data removed]",
            "text/plain": [
              "<Figure size 640x480 with 1 Axes>"
            ]
          },
          "metadata": {}
        }
      ]
    },
    {
      "cell_type": "markdown",
      "source": [
        "### Calc distance percentiles\n",
        "We are going to use thresholding to classify a sample as in or out of scope. This threshold will be found as the 95 percentile distance between the real and approximate latent states in the validation set. All samples with a distance greater than this threshold will be labelled OOS.\n",
        "\n",
        "To explore this more rigoursly we are going to calculate the percentile of each sample individaully. However, note in practice this could be done rapidly by simply thresholding a whole tensor of latent distances."
      ],
      "metadata": {
        "id": "aTrdjn-VVSrh"
      }
    },
    {
      "cell_type": "code",
      "source": [
        "def get_prob_pdf_has_greater_equal(value, pdf):\n",
        "  # TODO: Improve naive implementation with suboptimal time complexity\n",
        "  try:\n",
        "    idx = next(idx for idx, value_lookup in enumerate(pdf) if value_lookup >= value)\n",
        "  except StopIteration:\n",
        "    idx = len(pdf)\n",
        "  return 1-(idx/len(pdf))"
      ],
      "metadata": {
        "id": "S1g1cS6x5I75"
      },
      "execution_count": 33,
      "outputs": []
    },
    {
      "cell_type": "markdown",
      "source": [
        "Calc percentile for each sample in each dataset and model. Sorry this is slow ~3mins and should be speed up by future me..."
      ],
      "metadata": {
        "id": "Ey46vX2yWYgr"
      }
    },
    {
      "cell_type": "code",
      "source": [
        "prob_dist_from_val_distr = {}\n",
        "\n",
        "for model_name in model_names:\n",
        "  pdf = np.sort(distances[f\"{model_name} validation\"].numpy())\n",
        "  for data_key in ['in scope', 'OOS']:\n",
        "    prob_dist_from_val_distr[f\"{model_name} {data_key}\"] = np.array([get_prob_pdf_has_greater_equal(dist, pdf) for dist in distances[f\"{model_name} {data_key}\"]])"
      ],
      "metadata": {
        "id": "HS6VHLjd6-bS"
      },
      "execution_count": 34,
      "outputs": []
    },
    {
      "cell_type": "markdown",
      "source": [
        "#### Maxium probability"
      ],
      "metadata": {
        "id": "cl3qjaGhsLuX"
      }
    },
    {
      "cell_type": "markdown",
      "source": [
        "Also adding comparison to thresholding the probability outputted by the model for the most likely class. To be consistent with distances (where smaller is better) the inverse (1-prob) is taken"
      ],
      "metadata": {
        "id": "QxDj4ksdWpD3"
      }
    },
    {
      "cell_type": "code",
      "source": [
        "def get_max_probs_from_logits(logits):\n",
        "  probs = torch.nn.Softmax(dim=-1)(logits)\n",
        "  max_probs = torch.max(probs, dim=-1)[0]\n",
        "  return max_probs"
      ],
      "metadata": {
        "id": "Fl2P-gzm7h_C"
      },
      "execution_count": 35,
      "outputs": []
    },
    {
      "cell_type": "code",
      "source": [
        "model_name = 'Max\\nprobability'\n",
        "model_names.append(model_name)\n",
        "pdf = np.sort(1-get_max_probs_from_logits(logits['validation']))\n",
        "for data_key in ['in scope', 'OOS']:\n",
        "  max_probs = 1-get_max_probs_from_logits(logits[data_key])\n",
        "  prob_dist_from_val_distr[f\"{model_name} {data_key}\"] = np.array([get_prob_pdf_has_greater_equal(max_prob, pdf) for max_prob in max_probs])"
      ],
      "metadata": {
        "id": "eTfNlt-J1EPy"
      },
      "execution_count": 36,
      "outputs": []
    },
    {
      "cell_type": "markdown",
      "source": [
        "Visualise percentiles by dataset and model"
      ],
      "metadata": {
        "id": "vesH_rpHXEkb"
      }
    },
    {
      "cell_type": "code",
      "source": [
        "fig, ax = plt.subplots()\n",
        "sorted_keys = [f\"{model_name} {dataset}\" for model_name in model_names for dataset in ['in scope', 'OOS']]\n",
        "ax.boxplot([prob_dist_from_val_distr[key] for key in sorted_keys])\n",
        "sorted_keys = [f\"{model_name}\\n{dataset}\" for model_name in model_names for dataset in ['in scope', 'OOS']]\n",
        "ax.set_xticklabels(sorted_keys)\n",
        "# TODO: Set ylabel to notation used in report\n",
        "ax.set_ylabel('Probability')\n",
        "plt.show()"
      ],
      "metadata": {
        "colab": {
          "base_uri": "https://localhost:8080/",
          "height": 499
        },
        "id": "jjS1ALMZ8_1r",
        "outputId": "a0226159-78d0-49d9-b121-480c581d7928"
      },
      "execution_count": 37,
      "outputs": [
        {
          "output_type": "stream",
          "name": "stderr",
          "text": [
            "/usr/local/lib/python3.7/dist-packages/matplotlib/cbook/__init__.py:1376: VisibleDeprecationWarning: Creating an ndarray from ragged nested sequences (which is a list-or-tuple of lists-or-tuples-or ndarrays with different lengths or shapes) is deprecated. If you meant to do this, you must specify 'dtype=object' when creating the ndarray.\n",
            "  X = np.atleast_1d(X.T if isinstance(X, np.ndarray) else np.asarray(X))\n"
          ]
        },
        {
          "output_type": "display_data",
          "data": {
            "image/png": "[encoded data removed]",
            "text/plain": [
              "<Figure size 640x480 with 1 Axes>"
            ]
          },
          "metadata": {}
        }
      ]
    },
    {
      "cell_type": "markdown",
      "source": [
        "### Threshold on 95% percentile"
      ],
      "metadata": {
        "id": "kdh7vcRxXSjZ"
      }
    },
    {
      "cell_type": "code",
      "source": [
        "THRESHOLD = 0.05\n",
        "OOS_VALUE = 1\n",
        "INSCOPE_VALUE = 0\n",
        "threshold_OOS = {key: np.where(probs<=THRESHOLD,OOS_VALUE,INSCOPE_VALUE) for key, probs in prob_dist_from_val_distr.items()}"
      ],
      "metadata": {
        "id": "acTaeaUg9dvT"
      },
      "execution_count": 38,
      "outputs": []
    },
    {
      "cell_type": "markdown",
      "source": [
        "Get metrics"
      ],
      "metadata": {
        "id": "-zZuhvw1XdXC"
      }
    },
    {
      "cell_type": "code",
      "source": [
        "from sklearn.metrics import classification_report, confusion_matrix, roc_auc_score\n",
        "\n",
        "for name in model_names:\n",
        "  oos = threshold_OOS[f'{name} OOS']\n",
        "  inscope = threshold_OOS[f'{name} in scope']\n",
        "  y_pred = np.append(oos, inscope)\n",
        "  y_true = np.append(np.ones(len(oos)), np.zeros(len(inscope)))\n",
        "  print(name)\n",
        "  print(confusion_matrix(y_true, y_pred))\n",
        "  print(precision_recall_fscore_support(y_true, y_pred, average='binary'))\n",
        "  print(roc_auc_score(y_true, y_pred))"
      ],
      "metadata": {
        "colab": {
          "base_uri": "https://localhost:8080/"
        },
        "id": "rCMwIoeK-VFy",
        "outputId": "50996cd0-9f7d-4f89-8820-cbf365f918ad"
      },
      "execution_count": 39,
      "outputs": [
        {
          "output_type": "stream",
          "name": "stdout",
          "text": [
            "Simplex\n",
            "[[4256  244]\n",
            " [ 130 1070]]\n",
            "(0.8143074581430746, 0.8916666666666667, 0.851233094669849, None)\n",
            "0.9187222222222223\n",
            "kNN\n",
            "[[4270  230]\n",
            " [ 174 1026]]\n",
            "(0.8168789808917197, 0.855, 0.8355048859934853, None)\n",
            "0.9019444444444444\n",
            "Max\n",
            "probability\n",
            "[[4257  243]\n",
            " [ 209  991]]\n",
            "(0.8030794165316045, 0.8258333333333333, 0.8142974527526705, None)\n",
            "0.8859166666666666\n"
          ]
        }
      ]
    },
    {
      "cell_type": "markdown",
      "source": [
        "### OOS or incorrect label analysis"
      ],
      "metadata": {
        "id": "pXhGwpDtXiH3"
      }
    },
    {
      "cell_type": "markdown",
      "source": [
        "Collect OOS predictions for when the model is incorrect. Also create new label set for test data where true is OOS or the model predicted the incorrect label."
      ],
      "metadata": {
        "id": "GT95sk1-Xu9D"
      }
    },
    {
      "cell_type": "code",
      "source": [
        "predictions_test = logits['in scope'].argmax(dim=-1)\n",
        "incorrect_OOS_preds = []\n",
        "incorrect_or_OOS_labels = np.zeros(len(threshold_OOS['Simplex in scope']))\n",
        "for idx, (sample, label_prediction, OOS_prediction) in enumerate(zip(datasets_hf['in scope'], predictions_test, threshold_OOS['Simplex in scope'])):\n",
        "  if sample['labels'] != label_prediction:\n",
        "    incorrect_OOS_preds.append(OOS_prediction)\n",
        "    incorrect_or_OOS_labels[idx] = OOS_VALUE\n"
      ],
      "metadata": {
        "id": "YCPTcLuRquyU"
      },
      "execution_count": 40,
      "outputs": []
    },
    {
      "cell_type": "markdown",
      "source": [
        "Test null hypothesis using Chi squared that the model labelling a sample from the test set incorrectly is independent of the latent representation being labelled out of scope"
      ],
      "metadata": {
        "id": "unipy8aSYCFa"
      }
    },
    {
      "cell_type": "code",
      "source": [
        "num_incorrect_labels = len(incorrect_OOS_preds)\n",
        "num_correct_labels = len(threshold_OOS['Simplex in scope']) - num_incorrect_labels\n",
        "num_OOS_predictions = sum(threshold_OOS['Simplex in scope'])"
      ],
      "metadata": {
        "id": "7E6dfvceyTW7"
      },
      "execution_count": 41,
      "outputs": []
    },
    {
      "cell_type": "code",
      "source": [
        ""
      ],
      "metadata": {
        "id": "CqXvUQQSS2MP"
      },
      "execution_count": 41,
      "outputs": []
    },
    {
      "cell_type": "code",
      "source": [
        "from scipy.stats import chi2_contingency\n",
        "\n",
        "pred_OOS_and_incorrect_label = sum(incorrect_OOS_preds)\n",
        "pred_OOS_and_correct_label = num_OOS_predictions - pred_OOS_and_incorrect_label\n",
        "not_pred_OOS_and_incorrect_label = num_incorrect_labels - pred_OOS_and_incorrect_label\n",
        "not_pred_OOS_and_correct_label = num_correct_labels - pred_OOS_and_correct_label\n",
        "\n",
        "chi2_contingency([[pred_OOS_and_incorrect_label, pred_OOS_and_correct_label], \n",
        "                  [not_pred_OOS_and_incorrect_label, not_pred_OOS_and_correct_label]])"
      ],
      "metadata": {
        "colab": {
          "base_uri": "https://localhost:8080/"
        },
        "id": "tGCrOv3Ws9N1",
        "outputId": "d929bc8a-9afd-4104-b761-f22e76564f23"
      },
      "execution_count": 42,
      "outputs": [
        {
          "output_type": "execute_result",
          "data": {
            "text/plain": [
              "(1049.8216277862216,\n",
              " 2.6613355483918453e-230,\n",
              " 1,\n",
              " array([[   8.45866667,  235.54133333],\n",
              "        [ 147.54133333, 4108.45866667]]))"
            ]
          },
          "metadata": {},
          "execution_count": 42
        }
      ]
    },
    {
      "cell_type": "code",
      "source": [
        "pred_OOS_and_incorrect_label/num_incorrect_labels"
      ],
      "metadata": {
        "colab": {
          "base_uri": "https://localhost:8080/"
        },
        "id": "AlE5b2A7S4m1",
        "outputId": "47649b07-e062-41ca-b231-f3e6eec09204"
      },
      "execution_count": 43,
      "outputs": [
        {
          "output_type": "execute_result",
          "data": {
            "text/plain": [
              "0.6346153846153846"
            ]
          },
          "metadata": {},
          "execution_count": 43
        }
      ]
    },
    {
      "cell_type": "code",
      "source": [
        "num_incorrect_labels/len(threshold_OOS['Simplex in scope'])"
      ],
      "metadata": {
        "colab": {
          "base_uri": "https://localhost:8080/"
        },
        "id": "JzHa-e3fS8Ec",
        "outputId": "0ff96215-6b32-4206-c567-9725a60a2f73"
      },
      "execution_count": 44,
      "outputs": [
        {
          "output_type": "execute_result",
          "data": {
            "text/plain": [
              "0.034666666666666665"
            ]
          },
          "metadata": {},
          "execution_count": 44
        }
      ]
    },
    {
      "cell_type": "markdown",
      "source": [
        "Metrics for detecting incorrect labels"
      ],
      "metadata": {
        "id": "kmwAKF13YYbk"
      }
    },
    {
      "cell_type": "code",
      "source": [
        "for name in model_names:\n",
        "  y_pred = threshold_OOS[f'{name} in scope']\n",
        "  y_true = incorrect_or_OOS_labels\n",
        "  print(name)\n",
        "  print(confusion_matrix(y_true, y_pred))\n",
        "  print(precision_recall_fscore_support(y_true, y_pred, average='binary'))"
      ],
      "metadata": {
        "colab": {
          "base_uri": "https://localhost:8080/"
        },
        "id": "rb06ub4b267E",
        "outputId": "4d8cc039-1fa0-4f2c-b754-37defd26489f"
      },
      "execution_count": 45,
      "outputs": [
        {
          "output_type": "stream",
          "name": "stdout",
          "text": [
            "Simplex\n",
            "[[4199  145]\n",
            " [  57   99]]\n",
            "(0.4057377049180328, 0.6346153846153846, 0.49499999999999994, None)\n",
            "kNN\n",
            "[[4197  147]\n",
            " [  73   83]]\n",
            "(0.36086956521739133, 0.532051282051282, 0.4300518134715026, None)\n",
            "Max\n",
            "probability\n",
            "[[4200  144]\n",
            " [  57   99]]\n",
            "(0.4074074074074074, 0.6346153846153846, 0.4962406015037593, None)\n"
          ]
        }
      ]
    },
    {
      "cell_type": "markdown",
      "source": [
        "Model metrics with OOS or incorrect labels removed"
      ],
      "metadata": {
        "id": "7JdDC9PSZjzn"
      }
    },
    {
      "cell_type": "code",
      "source": [
        "labels = [sample['labels'] for sample in datasets_hf['in scope']]\n",
        "for name in model_names:\n",
        "  inscope_labels = []\n",
        "  inscope_predictions=[]\n",
        "  for label, label_prediction, OOS_prediction in zip(labels, predictions_test, threshold_OOS[f'{name} in scope']):\n",
        "    if OOS_prediction == INSCOPE_VALUE:\n",
        "      inscope_labels.append(label)\n",
        "      inscope_predictions.append(label_prediction)\n",
        "  print(name)\n",
        "  print(precision_recall_fscore_support(inscope_labels, inscope_predictions, average='macro'))\n",
        "  print((len(labels)-len(inscope_labels))/len(labels))"
      ],
      "metadata": {
        "colab": {
          "base_uri": "https://localhost:8080/"
        },
        "id": "TgCgOsrkYi5u",
        "outputId": "23dbcaa8-e1e8-427c-a5de-a3da43c59d44"
      },
      "execution_count": 46,
      "outputs": [
        {
          "output_type": "stream",
          "name": "stdout",
          "text": [
            "Simplex\n",
            "(0.9869612619277617, 0.9862792848275607, 0.9863068319106223, None)\n",
            "0.05422222222222222\n",
            "kNN\n",
            "(0.9838601784683821, 0.9820249834681882, 0.9824313120784416, None)\n",
            "0.051111111111111114\n",
            "Max\n",
            "probability\n",
            "(0.9870510021607739, 0.9853030894605608, 0.9857466906354139, None)\n",
            "0.054\n"
          ]
        }
      ]
    }
  ]
}