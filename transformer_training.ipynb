{
  "nbformat": 4,
  "nbformat_minor": 0,
  "metadata": {
    "colab": {
      "name": "transformer_training.ipynb",
      "provenance": [],
      "collapsed_sections": [],
      "authorship_tag": "ABX9TyPaDApKdvUjnd8MuC4NiCfR",
      "include_colab_link": true
    },
    "kernelspec": {
      "name": "python3",
      "display_name": "Python 3"
    },
    "language_info": {
      "name": "python"
    },
    "accelerator": "GPU"
  },
  "cells": [
    {
      "cell_type": "markdown",
      "metadata": {
        "id": "view-in-github",
        "colab_type": "text"
      },
      "source": [
        "<a href=\"https://colab.research.google.com/github/simonEllershaw/latent_variable_OOD/blob/main/transformer_training.ipynb\" target=\"_parent\"><img src=\"https://colab.research.google.com/assets/colab-badge.svg\" alt=\"Open In Colab\"/></a>"
      ]
    },
    {
      "cell_type": "code",
      "execution_count": 1,
      "metadata": {
        "colab": {
          "base_uri": "https://localhost:8080/"
        },
        "id": "DvBiYfvE6O1G",
        "outputId": "6878206b-73b4-4e4e-c834-a182d7b776f7"
      },
      "outputs": [
        {
          "output_type": "stream",
          "name": "stdout",
          "text": [
            "Requirement already satisfied: pip in /usr/local/lib/python3.7/dist-packages (21.1.3)\n",
            "Requirement already satisfied: transformers in /usr/local/lib/python3.7/dist-packages (4.16.2)\n",
            "Requirement already satisfied: torch in /usr/local/lib/python3.7/dist-packages (1.10.0+cu111)\n",
            "Requirement already satisfied: requests in /usr/local/lib/python3.7/dist-packages (from transformers) (2.23.0)\n",
            "Requirement already satisfied: regex!=2019.12.17 in /usr/local/lib/python3.7/dist-packages (from transformers) (2019.12.20)\n",
            "Requirement already satisfied: sacremoses in /usr/local/lib/python3.7/dist-packages (from transformers) (0.0.47)\n",
            "Requirement already satisfied: importlib-metadata in /usr/local/lib/python3.7/dist-packages (from transformers) (4.11.0)\n",
            "Requirement already satisfied: filelock in /usr/local/lib/python3.7/dist-packages (from transformers) (3.4.2)\n",
            "Requirement already satisfied: tokenizers!=0.11.3,>=0.10.1 in /usr/local/lib/python3.7/dist-packages (from transformers) (0.11.5)\n",
            "Requirement already satisfied: pyyaml>=5.1 in /usr/local/lib/python3.7/dist-packages (from transformers) (6.0)\n",
            "Requirement already satisfied: numpy>=1.17 in /usr/local/lib/python3.7/dist-packages (from transformers) (1.21.5)\n",
            "Requirement already satisfied: packaging>=20.0 in /usr/local/lib/python3.7/dist-packages (from transformers) (21.3)\n",
            "Requirement already satisfied: huggingface-hub<1.0,>=0.1.0 in /usr/local/lib/python3.7/dist-packages (from transformers) (0.4.0)\n",
            "Requirement already satisfied: tqdm>=4.27 in /usr/local/lib/python3.7/dist-packages (from transformers) (4.62.3)\n",
            "Requirement already satisfied: typing-extensions>=3.7.4.3 in /usr/local/lib/python3.7/dist-packages (from huggingface-hub<1.0,>=0.1.0->transformers) (3.10.0.2)\n",
            "Requirement already satisfied: pyparsing!=3.0.5,>=2.0.2 in /usr/local/lib/python3.7/dist-packages (from packaging>=20.0->transformers) (3.0.7)\n",
            "Requirement already satisfied: zipp>=0.5 in /usr/local/lib/python3.7/dist-packages (from importlib-metadata->transformers) (3.7.0)\n",
            "Requirement already satisfied: idna<3,>=2.5 in /usr/local/lib/python3.7/dist-packages (from requests->transformers) (2.10)\n",
            "Requirement already satisfied: certifi>=2017.4.17 in /usr/local/lib/python3.7/dist-packages (from requests->transformers) (2021.10.8)\n",
            "Requirement already satisfied: chardet<4,>=3.0.2 in /usr/local/lib/python3.7/dist-packages (from requests->transformers) (3.0.4)\n",
            "Requirement already satisfied: urllib3!=1.25.0,!=1.25.1,<1.26,>=1.21.1 in /usr/local/lib/python3.7/dist-packages (from requests->transformers) (1.24.3)\n",
            "Requirement already satisfied: joblib in /usr/local/lib/python3.7/dist-packages (from sacremoses->transformers) (1.1.0)\n",
            "Requirement already satisfied: six in /usr/local/lib/python3.7/dist-packages (from sacremoses->transformers) (1.15.0)\n",
            "Requirement already satisfied: click in /usr/local/lib/python3.7/dist-packages (from sacremoses->transformers) (7.1.2)\n"
          ]
        }
      ],
      "source": [
        "! pip install pip transformers torch\n",
        "# ! pip install -q kaggle"
      ]
    },
    {
      "cell_type": "code",
      "source": [
        "# ! mkdir ~/.kaggle\n",
        "# ! cp kaggle.json ~/.kaggle/\n",
        "# ! chmod 600 ~/.kaggle/kaggle.json"
      ],
      "metadata": {
        "id": "v1HaE2L98QYs"
      },
      "execution_count": 2,
      "outputs": []
    },
    {
      "cell_type": "code",
      "source": [
        "# ! kaggle datasets download tboyle10/medicaltranscriptions -p data/\n",
        "# ! unzip data/clinc150_uci.zip -d data"
      ],
      "metadata": {
        "id": "L_m6ZPt-9ZD1"
      },
      "execution_count": 3,
      "outputs": []
    },
    {
      "cell_type": "code",
      "source": [
        "import json\n",
        "with open('/content/data/clinc150_uci/data_full.json') as f:\n",
        "  data = json.load(f)"
      ],
      "metadata": {
        "id": "2KCl3NUu8Ovl"
      },
      "execution_count": 4,
      "outputs": []
    },
    {
      "cell_type": "code",
      "source": [
        "data.keys()"
      ],
      "metadata": {
        "colab": {
          "base_uri": "https://localhost:8080/"
        },
        "id": "fcxfnd8N9BSh",
        "outputId": "dc19aa17-3946-451e-d928-4f0cb2e3ffec"
      },
      "execution_count": 5,
      "outputs": [
        {
          "output_type": "execute_result",
          "data": {
            "text/plain": [
              "dict_keys(['oos_val', 'val', 'train', 'oos_test', 'test', 'oos_train'])"
            ]
          },
          "metadata": {},
          "execution_count": 5
        }
      ]
    },
    {
      "cell_type": "code",
      "source": [
        "in_scope_data = {k: v for k,v in data.items() if 'oos' not in k}"
      ],
      "metadata": {
        "id": "GpR-QDSC9dnl"
      },
      "execution_count": 6,
      "outputs": []
    },
    {
      "cell_type": "markdown",
      "source": [
        ""
      ],
      "metadata": {
        "id": "AQK4sFJG9cxl"
      }
    },
    {
      "cell_type": "code",
      "source": [
        "from transformers import AutoTokenizer\n",
        "\n",
        "checkpoint = \"roberta-base\"\n",
        "tokenizer = AutoTokenizer.from_pretrained(checkpoint)"
      ],
      "metadata": {
        "id": "0HRmKobDILmH"
      },
      "execution_count": 7,
      "outputs": []
    },
    {
      "cell_type": "code",
      "source": [
        "in_scope_data['train'][:10]"
      ],
      "metadata": {
        "colab": {
          "base_uri": "https://localhost:8080/"
        },
        "id": "xmjNobSU967f",
        "outputId": "33a09a7d-b09b-4a77-ec6c-77c9ded67786"
      },
      "execution_count": 8,
      "outputs": [
        {
          "output_type": "execute_result",
          "data": {
            "text/plain": [
              "[['what expression would i use to say i love you if i were an italian',\n",
              "  'translate'],\n",
              " [\"can you tell me how to say 'i do not speak much spanish', in spanish\",\n",
              "  'translate'],\n",
              " [\"what is the equivalent of, 'life is good' in french\", 'translate'],\n",
              " [\"tell me how to say, 'it is a beautiful morning' in italian\", 'translate'],\n",
              " ['if i were mongolian, how would i say that i am a tourist', 'translate'],\n",
              " [\"how do i say 'hotel' in finnish\", 'translate'],\n",
              " [\"i need you to translate the sentence, 'we will be there soon' into portuguese\",\n",
              "  'translate'],\n",
              " ['please tell me how to ask for a taxi in french', 'translate'],\n",
              " [\"can you tell me how i would say, 'more bread please' in french\",\n",
              "  'translate'],\n",
              " [\"what is the correct way to say 'i am a visitor' in french\", 'translate']]"
            ]
          },
          "metadata": {},
          "execution_count": 8
        }
      ]
    },
    {
      "cell_type": "code",
      "source": [
        "from torch.utils.data import Dataset\n",
        "\n",
        "class HuggingFaceDataset(Dataset):\n",
        "  def __init__(self, texts, labels, label2id, tokenizer):\n",
        "    self._dict = tokenizer(texts, truncation=True)\n",
        "    self._dict['labels'] = [label2id[label] for label in labels]\n",
        "\n",
        "  def __len__(self):\n",
        "        return len(self._dict[\"input_ids\"])\n",
        "\n",
        "  def __getitem__(self, idx):\n",
        "      return {k: v[idx] for k, v in self._dict.items()}\n",
        "\n",
        "label_names = sorted({label for _, label in in_scope_data['train']})\n",
        "id2label = dict(enumerate(sorted(label_names)))\n",
        "label2id = {v: k for k, v in id2label.items()}\n",
        "\n",
        "datasets_hf = {}\n",
        "for key, dataset in in_scope_data.items():\n",
        "  texts, labels = map(list,zip(*dataset))\n",
        "  datasets_hf[key] = HuggingFaceDataset(texts, labels, label2id, tokenizer) "
      ],
      "metadata": {
        "id": "-lmnAdNNEjqi"
      },
      "execution_count": 9,
      "outputs": []
    },
    {
      "cell_type": "code",
      "source": [
        "import matplotlib.pyplot as plt\n",
        "plt.hist([len(sample['input_ids']) for sample in datasets_hf['train']])"
      ],
      "metadata": {
        "colab": {
          "base_uri": "https://localhost:8080/",
          "height": 334
        },
        "id": "ueVQCkDht6Yk",
        "outputId": "86605712-3742-4c47-f866-3cdd1126ff7d"
      },
      "execution_count": 10,
      "outputs": [
        {
          "output_type": "execute_result",
          "data": {
            "text/plain": [
              "(array([1.013e+03, 4.410e+03, 6.366e+03, 2.022e+03, 7.220e+02, 3.610e+02,\n",
              "        6.800e+01, 3.200e+01, 4.000e+00, 2.000e+00]),\n",
              " array([ 3. ,  6.4,  9.8, 13.2, 16.6, 20. , 23.4, 26.8, 30.2, 33.6, 37. ]),\n",
              " <a list of 10 Patch objects>)"
            ]
          },
          "metadata": {},
          "execution_count": 10
        },
        {
          "output_type": "display_data",
          "data": {
            "image/png": "[encoded data removed]",
            "text/plain": [
              "<Figure size 432x288 with 1 Axes>"
            ]
          },
          "metadata": {
            "needs_background": "light"
          }
        }
      ]
    },
    {
      "cell_type": "code",
      "source": [
        "from transformers import AutoModelForSequenceClassification\n",
        "\n",
        "model = AutoModelForSequenceClassification.from_pretrained(\n",
        "    checkpoint,\n",
        "    id2label=id2label,\n",
        "    label2id=label2id,\n",
        ")"
      ],
      "metadata": {
        "colab": {
          "base_uri": "https://localhost:8080/"
        },
        "id": "no8WjPFcRsKd",
        "outputId": "98a13505-3597-4f33-c590-082f62b15604"
      },
      "execution_count": 11,
      "outputs": [
        {
          "output_type": "stream",
          "name": "stderr",
          "text": [
            "Some weights of the model checkpoint at roberta-base were not used when initializing RobertaForSequenceClassification: ['lm_head.layer_norm.weight', 'lm_head.bias', 'lm_head.dense.bias', 'lm_head.decoder.weight', 'roberta.pooler.dense.bias', 'roberta.pooler.dense.weight', 'lm_head.layer_norm.bias', 'lm_head.dense.weight']\n",
            "- This IS expected if you are initializing RobertaForSequenceClassification from the checkpoint of a model trained on another task or with another architecture (e.g. initializing a BertForSequenceClassification model from a BertForPreTraining model).\n",
            "- This IS NOT expected if you are initializing RobertaForSequenceClassification from the checkpoint of a model that you expect to be exactly identical (initializing a BertForSequenceClassification model from a BertForSequenceClassification model).\n",
            "Some weights of RobertaForSequenceClassification were not initialized from the model checkpoint at roberta-base and are newly initialized: ['classifier.out_proj.bias', 'classifier.dense.bias', 'classifier.out_proj.weight', 'classifier.dense.weight']\n",
            "You should probably TRAIN this model on a down-stream task to be able to use it for predictions and inference.\n"
          ]
        }
      ]
    },
    {
      "cell_type": "code",
      "source": [
        "from transformers import TrainingArguments\n",
        "\n",
        "args = TrainingArguments(\n",
        "    \"inscope_text_classification\",\n",
        "    per_device_train_batch_size=32,\n",
        "    per_device_eval_batch_size=32,\n",
        "    evaluation_strategy=\"epoch\",\n",
        "    save_strategy=\"epoch\",\n",
        "    logging_strategy=\"epoch\",\n",
        "    learning_rate=5e-5,\n",
        "    num_train_epochs=10,\n",
        "    weight_decay=0.01,\n",
        "    group_by_length=True,\n",
        "    warmup_ratio=0.1,\n",
        "    load_best_model_at_end=True\n",
        ")\n"
      ],
      "metadata": {
        "id": "w1tvUeaNR4eo"
      },
      "execution_count": 12,
      "outputs": []
    },
    {
      "cell_type": "code",
      "source": [
        "from sklearn.metrics import precision_recall_fscore_support\n",
        "import numpy as np\n",
        "\n",
        "def compute_metrics(eval_pred):\n",
        "  \"\"\"Called to compute validation metrics at each evaluation step of training.\"\"\"\n",
        "  logits, labels = eval_pred\n",
        "  labels = labels.flatten()\n",
        "  predictions = np.argmax(logits, axis=-1).flatten()\n",
        "\n",
        "  precision, recall, f1, _ = precision_recall_fscore_support(\n",
        "      labels, predictions, average='macro', zero_division=0\n",
        "  )\n",
        "  metrics = {\"f1\": f1, \"precision\": precision, \"recall\": recall}\n",
        "  return metrics"
      ],
      "metadata": {
        "id": "N37ouBZxS4hs"
      },
      "execution_count": 13,
      "outputs": []
    },
    {
      "cell_type": "code",
      "source": [
        "from transformers import Trainer, DataCollatorWithPadding, EarlyStoppingCallback\n",
        "\n",
        "trainer = Trainer(\n",
        "    model=model,\n",
        "    args=args,\n",
        "    train_dataset=datasets_hf['train'],\n",
        "    eval_dataset=datasets_hf['val'],\n",
        "    data_collator=DataCollatorWithPadding(tokenizer),\n",
        "    compute_metrics=compute_metrics,\n",
        "    callbacks=[EarlyStoppingCallback(early_stopping_patience=3)],\n",
        ")\n",
        "trainer.train()"
      ],
      "metadata": {
        "colab": {
          "base_uri": "https://localhost:8080/",
          "height": 1000
        },
        "id": "IStnRUjESgUZ",
        "outputId": "6d3c98b4-dcc0-415d-a2af-6bdda3cb9ccf"
      },
      "execution_count": 14,
      "outputs": [
        {
          "output_type": "stream",
          "name": "stderr",
          "text": [
            "/usr/local/lib/python3.7/dist-packages/transformers/optimization.py:309: FutureWarning: This implementation of AdamW is deprecated and will be removed in a future version. Use thePyTorch implementation torch.optim.AdamW instead, or set `no_deprecation_warning=True` to disable this warning\n",
            "  FutureWarning,\n",
            "***** Running training *****\n",
            "  Num examples = 15000\n",
            "  Num Epochs = 10\n",
            "  Instantaneous batch size per device = 32\n",
            "  Total train batch size (w. parallel, distributed & accumulation) = 32\n",
            "  Gradient Accumulation steps = 1\n",
            "  Total optimization steps = 4690\n",
            "Automatic Weights & Biases logging enabled, to disable set os.environ[\"WANDB_DISABLED\"] = \"true\"\n",
            "\u001b[34m\u001b[1mwandb\u001b[0m: Currently logged in as: \u001b[33msimon_ellershaw\u001b[0m (use `wandb login --relogin` to force relogin)\n"
          ]
        },
        {
          "output_type": "display_data",
          "data": {
            "text/html": [
              "\n",
              "                    Syncing run <strong><a href=\"https://wandb.ai/simon_ellershaw/huggingface/runs/17kveljx\" target=\"_blank\">inscope_text_classification</a></strong> to <a href=\"https://wandb.ai/simon_ellershaw/huggingface\" target=\"_blank\">Weights & Biases</a> (<a href=\"https://docs.wandb.com/integrations/jupyter.html\" target=\"_blank\">docs</a>).<br/>\n",
              "\n",
              "                "
            ],
            "text/plain": [
              "<IPython.core.display.HTML object>"
            ]
          },
          "metadata": {}
        },
        {
          "output_type": "display_data",
          "data": {
            "text/html": [
              "\n",
              "    <div>\n",
              "      \n",
              "      <progress value='4690' max='4690' style='width:300px; height:20px; vertical-align: middle;'></progress>\n",
              "      [4690/4690 10:59, Epoch 10/10]\n",
              "    </div>\n",
              "    <table border=\"1\" class=\"dataframe\">\n",
              "  <thead>\n",
              " <tr style=\"text-align: left;\">\n",
              "      <th>Epoch</th>\n",
              "      <th>Training Loss</th>\n",
              "      <th>Validation Loss</th>\n",
              "      <th>F1</th>\n",
              "      <th>Precision</th>\n",
              "      <th>Recall</th>\n",
              "    </tr>\n",
              "  </thead>\n",
              "  <tbody>\n",
              "    <tr>\n",
              "      <td>1</td>\n",
              "      <td>3.507900</td>\n",
              "      <td>1.038306</td>\n",
              "      <td>0.903988</td>\n",
              "      <td>0.915600</td>\n",
              "      <td>0.907333</td>\n",
              "    </tr>\n",
              "    <tr>\n",
              "      <td>2</td>\n",
              "      <td>0.469100</td>\n",
              "      <td>0.221534</td>\n",
              "      <td>0.962404</td>\n",
              "      <td>0.965474</td>\n",
              "      <td>0.962667</td>\n",
              "    </tr>\n",
              "    <tr>\n",
              "      <td>3</td>\n",
              "      <td>0.108800</td>\n",
              "      <td>0.170812</td>\n",
              "      <td>0.965189</td>\n",
              "      <td>0.967871</td>\n",
              "      <td>0.965333</td>\n",
              "    </tr>\n",
              "    <tr>\n",
              "      <td>4</td>\n",
              "      <td>0.050000</td>\n",
              "      <td>0.182443</td>\n",
              "      <td>0.966577</td>\n",
              "      <td>0.969988</td>\n",
              "      <td>0.966333</td>\n",
              "    </tr>\n",
              "    <tr>\n",
              "      <td>5</td>\n",
              "      <td>0.033600</td>\n",
              "      <td>0.170132</td>\n",
              "      <td>0.971933</td>\n",
              "      <td>0.973894</td>\n",
              "      <td>0.972000</td>\n",
              "    </tr>\n",
              "    <tr>\n",
              "      <td>6</td>\n",
              "      <td>0.020400</td>\n",
              "      <td>0.163326</td>\n",
              "      <td>0.972200</td>\n",
              "      <td>0.974271</td>\n",
              "      <td>0.972333</td>\n",
              "    </tr>\n",
              "    <tr>\n",
              "      <td>7</td>\n",
              "      <td>0.014200</td>\n",
              "      <td>0.160175</td>\n",
              "      <td>0.973853</td>\n",
              "      <td>0.975546</td>\n",
              "      <td>0.974000</td>\n",
              "    </tr>\n",
              "    <tr>\n",
              "      <td>8</td>\n",
              "      <td>0.008700</td>\n",
              "      <td>0.167610</td>\n",
              "      <td>0.975209</td>\n",
              "      <td>0.977163</td>\n",
              "      <td>0.975333</td>\n",
              "    </tr>\n",
              "    <tr>\n",
              "      <td>9</td>\n",
              "      <td>0.006900</td>\n",
              "      <td>0.166190</td>\n",
              "      <td>0.975937</td>\n",
              "      <td>0.977739</td>\n",
              "      <td>0.976000</td>\n",
              "    </tr>\n",
              "    <tr>\n",
              "      <td>10</td>\n",
              "      <td>0.005000</td>\n",
              "      <td>0.167297</td>\n",
              "      <td>0.975598</td>\n",
              "      <td>0.977366</td>\n",
              "      <td>0.975667</td>\n",
              "    </tr>\n",
              "  </tbody>\n",
              "</table><p>"
            ],
            "text/plain": [
              "<IPython.core.display.HTML object>"
            ]
          },
          "metadata": {}
        },
        {
          "output_type": "stream",
          "name": "stderr",
          "text": [
            "***** Running Evaluation *****\n",
            "  Num examples = 3000\n",
            "  Batch size = 32\n",
            "Saving model checkpoint to inscope_text_classification/checkpoint-469\n",
            "Configuration saved in inscope_text_classification/checkpoint-469/config.json\n",
            "Model weights saved in inscope_text_classification/checkpoint-469/pytorch_model.bin\n",
            "***** Running Evaluation *****\n",
            "  Num examples = 3000\n",
            "  Batch size = 32\n",
            "Saving model checkpoint to inscope_text_classification/checkpoint-938\n",
            "Configuration saved in inscope_text_classification/checkpoint-938/config.json\n",
            "Model weights saved in inscope_text_classification/checkpoint-938/pytorch_model.bin\n",
            "***** Running Evaluation *****\n",
            "  Num examples = 3000\n",
            "  Batch size = 32\n",
            "Saving model checkpoint to inscope_text_classification/checkpoint-1407\n",
            "Configuration saved in inscope_text_classification/checkpoint-1407/config.json\n",
            "Model weights saved in inscope_text_classification/checkpoint-1407/pytorch_model.bin\n",
            "***** Running Evaluation *****\n",
            "  Num examples = 3000\n",
            "  Batch size = 32\n",
            "Saving model checkpoint to inscope_text_classification/checkpoint-1876\n",
            "Configuration saved in inscope_text_classification/checkpoint-1876/config.json\n",
            "Model weights saved in inscope_text_classification/checkpoint-1876/pytorch_model.bin\n",
            "***** Running Evaluation *****\n",
            "  Num examples = 3000\n",
            "  Batch size = 32\n",
            "Saving model checkpoint to inscope_text_classification/checkpoint-2345\n",
            "Configuration saved in inscope_text_classification/checkpoint-2345/config.json\n",
            "Model weights saved in inscope_text_classification/checkpoint-2345/pytorch_model.bin\n",
            "***** Running Evaluation *****\n",
            "  Num examples = 3000\n",
            "  Batch size = 32\n",
            "Saving model checkpoint to inscope_text_classification/checkpoint-2814\n",
            "Configuration saved in inscope_text_classification/checkpoint-2814/config.json\n",
            "Model weights saved in inscope_text_classification/checkpoint-2814/pytorch_model.bin\n",
            "***** Running Evaluation *****\n",
            "  Num examples = 3000\n",
            "  Batch size = 32\n",
            "Saving model checkpoint to inscope_text_classification/checkpoint-3283\n",
            "Configuration saved in inscope_text_classification/checkpoint-3283/config.json\n",
            "Model weights saved in inscope_text_classification/checkpoint-3283/pytorch_model.bin\n",
            "***** Running Evaluation *****\n",
            "  Num examples = 3000\n",
            "  Batch size = 32\n",
            "Saving model checkpoint to inscope_text_classification/checkpoint-3752\n",
            "Configuration saved in inscope_text_classification/checkpoint-3752/config.json\n",
            "Model weights saved in inscope_text_classification/checkpoint-3752/pytorch_model.bin\n",
            "***** Running Evaluation *****\n",
            "  Num examples = 3000\n",
            "  Batch size = 32\n",
            "Saving model checkpoint to inscope_text_classification/checkpoint-4221\n",
            "Configuration saved in inscope_text_classification/checkpoint-4221/config.json\n",
            "Model weights saved in inscope_text_classification/checkpoint-4221/pytorch_model.bin\n",
            "***** Running Evaluation *****\n",
            "  Num examples = 3000\n",
            "  Batch size = 32\n",
            "Saving model checkpoint to inscope_text_classification/checkpoint-4690\n",
            "Configuration saved in inscope_text_classification/checkpoint-4690/config.json\n",
            "Model weights saved in inscope_text_classification/checkpoint-4690/pytorch_model.bin\n",
            "\n",
            "\n",
            "Training completed. Do not forget to share your model on huggingface.co/models =)\n",
            "\n",
            "\n",
            "Loading best model from inscope_text_classification/checkpoint-3283 (score: 0.16017483174800873).\n"
          ]
        },
        {
          "output_type": "execute_result",
          "data": {
            "text/plain": [
              "TrainOutput(global_step=4690, training_loss=0.42247336266645746, metrics={'train_runtime': 664.0677, 'train_samples_per_second': 225.881, 'train_steps_per_second': 7.063, 'total_flos': 883268415517824.0, 'train_loss': 0.42247336266645746, 'epoch': 10.0})"
            ]
          },
          "metadata": {},
          "execution_count": 14
        }
      ]
    }
  ]
}