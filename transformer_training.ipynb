{
  "nbformat": 4,
  "nbformat_minor": 0,
  "metadata": {
    "colab": {
      "name": "transformer_training.ipynb",
      "provenance": [],
      "collapsed_sections": [],
      "mount_file_id": "1QdLo9cxIYtSWlnDsTYo6NccHxD_NbNt1",
      "authorship_tag": "ABX9TyNNBxCVG8gd9wQBPZksyFRG"
    },
    "kernelspec": {
      "name": "python3",
      "display_name": "Python 3"
    },
    "language_info": {
      "name": "python"
    },
    "accelerator": "GPU"
  },
  "cells": [
    {
      "cell_type": "code",
      "execution_count": 1,
      "metadata": {
        "colab": {
          "base_uri": "https://localhost:8080/"
        },
        "id": "DvBiYfvE6O1G",
        "outputId": "eb828f35-ea2e-412d-948c-c56e753e4d5a"
      },
      "outputs": [
        {
          "output_type": "stream",
          "name": "stdout",
          "text": [
            "Requirement already satisfied: pip in /usr/local/lib/python3.7/dist-packages (21.1.3)\n",
            "Requirement already satisfied: transformers in /usr/local/lib/python3.7/dist-packages (4.16.2)\n",
            "Requirement already satisfied: torch in /usr/local/lib/python3.7/dist-packages (1.10.0+cu111)\n",
            "Requirement already satisfied: tokenizers!=0.11.3,>=0.10.1 in /usr/local/lib/python3.7/dist-packages (from transformers) (0.11.5)\n",
            "Requirement already satisfied: packaging>=20.0 in /usr/local/lib/python3.7/dist-packages (from transformers) (21.3)\n",
            "Requirement already satisfied: huggingface-hub<1.0,>=0.1.0 in /usr/local/lib/python3.7/dist-packages (from transformers) (0.4.0)\n",
            "Requirement already satisfied: tqdm>=4.27 in /usr/local/lib/python3.7/dist-packages (from transformers) (4.62.3)\n",
            "Requirement already satisfied: requests in /usr/local/lib/python3.7/dist-packages (from transformers) (2.23.0)\n",
            "Requirement already satisfied: regex!=2019.12.17 in /usr/local/lib/python3.7/dist-packages (from transformers) (2019.12.20)\n",
            "Requirement already satisfied: sacremoses in /usr/local/lib/python3.7/dist-packages (from transformers) (0.0.47)\n",
            "Requirement already satisfied: filelock in /usr/local/lib/python3.7/dist-packages (from transformers) (3.4.2)\n",
            "Requirement already satisfied: numpy>=1.17 in /usr/local/lib/python3.7/dist-packages (from transformers) (1.21.5)\n",
            "Requirement already satisfied: importlib-metadata in /usr/local/lib/python3.7/dist-packages (from transformers) (4.11.0)\n",
            "Requirement already satisfied: pyyaml>=5.1 in /usr/local/lib/python3.7/dist-packages (from transformers) (6.0)\n",
            "Requirement already satisfied: typing-extensions>=3.7.4.3 in /usr/local/lib/python3.7/dist-packages (from huggingface-hub<1.0,>=0.1.0->transformers) (3.10.0.2)\n",
            "Requirement already satisfied: pyparsing!=3.0.5,>=2.0.2 in /usr/local/lib/python3.7/dist-packages (from packaging>=20.0->transformers) (3.0.7)\n",
            "Requirement already satisfied: zipp>=0.5 in /usr/local/lib/python3.7/dist-packages (from importlib-metadata->transformers) (3.7.0)\n",
            "Requirement already satisfied: certifi>=2017.4.17 in /usr/local/lib/python3.7/dist-packages (from requests->transformers) (2021.10.8)\n",
            "Requirement already satisfied: chardet<4,>=3.0.2 in /usr/local/lib/python3.7/dist-packages (from requests->transformers) (3.0.4)\n",
            "Requirement already satisfied: idna<3,>=2.5 in /usr/local/lib/python3.7/dist-packages (from requests->transformers) (2.10)\n",
            "Requirement already satisfied: urllib3!=1.25.0,!=1.25.1,<1.26,>=1.21.1 in /usr/local/lib/python3.7/dist-packages (from requests->transformers) (1.24.3)\n",
            "Requirement already satisfied: joblib in /usr/local/lib/python3.7/dist-packages (from sacremoses->transformers) (1.1.0)\n",
            "Requirement already satisfied: six in /usr/local/lib/python3.7/dist-packages (from sacremoses->transformers) (1.15.0)\n",
            "Requirement already satisfied: click in /usr/local/lib/python3.7/dist-packages (from sacremoses->transformers) (7.1.2)\n"
          ]
        }
      ],
      "source": [
        "! pip install pip transformers torch"
      ]
    },
    {
      "cell_type": "code",
      "source": [
        "import json\n",
        "with open('/content/data/clinc150_uci/data_full.json') as f:\n",
        "  data = json.load(f)"
      ],
      "metadata": {
        "id": "2KCl3NUu8Ovl"
      },
      "execution_count": 4,
      "outputs": []
    },
    {
      "cell_type": "code",
      "source": [
        "data.keys()"
      ],
      "metadata": {
        "colab": {
          "base_uri": "https://localhost:8080/"
        },
        "id": "fcxfnd8N9BSh",
        "outputId": "32d524b7-6484-4f6b-f70a-80684e63849b"
      },
      "execution_count": 5,
      "outputs": [
        {
          "output_type": "execute_result",
          "data": {
            "text/plain": [
              "dict_keys(['oos_val', 'val', 'train', 'oos_test', 'test', 'oos_train'])"
            ]
          },
          "metadata": {},
          "execution_count": 5
        }
      ]
    },
    {
      "cell_type": "code",
      "source": [
        "data['oos_train'][:10]"
      ],
      "metadata": {
        "colab": {
          "base_uri": "https://localhost:8080/"
        },
        "id": "VVgCH5yjPBGk",
        "outputId": "908db249-6731-45bd-b438-ba9061009a61"
      },
      "execution_count": 6,
      "outputs": [
        {
          "output_type": "execute_result",
          "data": {
            "text/plain": [
              "[['how much is an overdraft fee for bank', 'oos'],\n",
              " ['why are exponents preformed before multiplication in the order of operations',\n",
              "  'oos'],\n",
              " ['what size wipers does this car take', 'oos'],\n",
              " ['where is the dipstick', 'oos'],\n",
              " ['how much is 1 share of aapl', 'oos'],\n",
              " ['how is glue made', 'oos'],\n",
              " ['any headlines from my area', 'oos'],\n",
              " ['what is the largest state in the us', 'oos'],\n",
              " ['what is the current market trend', 'oos'],\n",
              " ['what is the most popular airline', 'oos']]"
            ]
          },
          "metadata": {},
          "execution_count": 6
        }
      ]
    },
    {
      "cell_type": "code",
      "source": [
        "ood_keys = [key for key in data.keys() if 'oos' in key]\n",
        "data['oos'] = []\n",
        "for key in ood_keys:\n",
        "  data['oos'] += data.pop(key)"
      ],
      "metadata": {
        "id": "9QrzPiSzOOPv"
      },
      "execution_count": 7,
      "outputs": []
    },
    {
      "cell_type": "code",
      "source": [
        "data['train'][:10]"
      ],
      "metadata": {
        "colab": {
          "base_uri": "https://localhost:8080/"
        },
        "id": "xmjNobSU967f",
        "outputId": "caf8070d-d4cc-4e43-d4fb-2d561f939d6e"
      },
      "execution_count": 8,
      "outputs": [
        {
          "output_type": "execute_result",
          "data": {
            "text/plain": [
              "[['what expression would i use to say i love you if i were an italian',\n",
              "  'translate'],\n",
              " [\"can you tell me how to say 'i do not speak much spanish', in spanish\",\n",
              "  'translate'],\n",
              " [\"what is the equivalent of, 'life is good' in french\", 'translate'],\n",
              " [\"tell me how to say, 'it is a beautiful morning' in italian\", 'translate'],\n",
              " ['if i were mongolian, how would i say that i am a tourist', 'translate'],\n",
              " [\"how do i say 'hotel' in finnish\", 'translate'],\n",
              " [\"i need you to translate the sentence, 'we will be there soon' into portuguese\",\n",
              "  'translate'],\n",
              " ['please tell me how to ask for a taxi in french', 'translate'],\n",
              " [\"can you tell me how i would say, 'more bread please' in french\",\n",
              "  'translate'],\n",
              " [\"what is the correct way to say 'i am a visitor' in french\", 'translate']]"
            ]
          },
          "metadata": {},
          "execution_count": 8
        }
      ]
    },
    {
      "cell_type": "code",
      "source": [
        "data['oos'][:10]"
      ],
      "metadata": {
        "colab": {
          "base_uri": "https://localhost:8080/"
        },
        "id": "jvdke6g4O1IR",
        "outputId": "1b63c7d1-3c55-462a-c9c9-68e28dd04fad"
      },
      "execution_count": 9,
      "outputs": [
        {
          "output_type": "execute_result",
          "data": {
            "text/plain": [
              "[['set a warning for when my bank account starts running low', 'oos'],\n",
              " ['a show on broadway', 'oos'],\n",
              " ['who has the best record in the nfl', 'oos'],\n",
              " ['how do i find the area of a circle', 'oos'],\n",
              " ['how many onions do i have on hand', 'oos'],\n",
              " ['what is the name of the 13th president', 'oos'],\n",
              " ['show me recent activity in my backyard', 'oos'],\n",
              " ['how long will it take me to pay off my card if i pay an extra $50 a month over the minimum',\n",
              "  'oos'],\n",
              " ['does our bank have free notary', 'oos'],\n",
              " ['what were the top stories this week', 'oos']]"
            ]
          },
          "metadata": {},
          "execution_count": 9
        }
      ]
    },
    {
      "cell_type": "code",
      "source": [
        "from transformers import AutoTokenizer, DataCollatorWithPadding\n",
        "\n",
        "checkpoint = \"roberta-base\"\n",
        "tokenizer = AutoTokenizer.from_pretrained(checkpoint)\n",
        "data_collator = DataCollatorWithPadding(tokenizer)"
      ],
      "metadata": {
        "id": "0HRmKobDILmH"
      },
      "execution_count": 10,
      "outputs": []
    },
    {
      "cell_type": "code",
      "source": [
        "from torch.utils.data import Dataset\n",
        "\n",
        "class HuggingFaceDataset(Dataset):\n",
        "  def __init__(self, label2id, tokenizer, texts, labels=None, subset=None):\n",
        "    self._dict = tokenizer(texts, truncation=True)\n",
        "    if labels is not None:\n",
        "      self._dict['labels'] = [label2id[label] for label in labels]\n",
        "\n",
        "  def __len__(self):\n",
        "        return len(self._dict[\"input_ids\"])\n",
        "\n",
        "  def __getitem__(self, idx):\n",
        "      return {k: v[idx] for k, v in self._dict.items()}\n",
        "\n",
        "label_names = sorted({label for _, label in data['train']})\n",
        "id2label = dict(enumerate(sorted(label_names)))\n",
        "label2id = {v: k for k, v in id2label.items()}\n",
        "\n",
        "datasets_hf = {}\n",
        "for key, dataset in data.items():\n",
        "  texts, labels = map(list,zip(*dataset))\n",
        "  if labels[0] == 'oos':\n",
        "    labels = None\n",
        "  datasets_hf[key] = HuggingFaceDataset(label2id, tokenizer, texts, labels) "
      ],
      "metadata": {
        "id": "-lmnAdNNEjqi"
      },
      "execution_count": 11,
      "outputs": []
    },
    {
      "cell_type": "code",
      "source": [
        "for key, dataset in datasets_hf.items():\n",
        "  print(key, len(dataset))"
      ],
      "metadata": {
        "colab": {
          "base_uri": "https://localhost:8080/"
        },
        "id": "TvZ2D0kpQVYk",
        "outputId": "874b6fc5-0c78-42ad-a473-1386d5b2d760"
      },
      "execution_count": 12,
      "outputs": [
        {
          "output_type": "stream",
          "name": "stdout",
          "text": [
            "val 3000\n",
            "train 15000\n",
            "test 4500\n",
            "oos 1200\n"
          ]
        }
      ]
    },
    {
      "cell_type": "code",
      "source": [
        "import matplotlib.pyplot as plt\n",
        "plt.hist([len(sample['input_ids']) for sample in datasets_hf['train']])"
      ],
      "metadata": {
        "colab": {
          "base_uri": "https://localhost:8080/",
          "height": 334
        },
        "id": "ueVQCkDht6Yk",
        "outputId": "b130b1e0-5ab3-479f-9899-b6bfc2965c91"
      },
      "execution_count": 13,
      "outputs": [
        {
          "output_type": "execute_result",
          "data": {
            "text/plain": [
              "(array([1.013e+03, 4.410e+03, 6.366e+03, 2.022e+03, 7.220e+02, 3.610e+02,\n",
              "        6.800e+01, 3.200e+01, 4.000e+00, 2.000e+00]),\n",
              " array([ 3. ,  6.4,  9.8, 13.2, 16.6, 20. , 23.4, 26.8, 30.2, 33.6, 37. ]),\n",
              " <a list of 10 Patch objects>)"
            ]
          },
          "metadata": {},
          "execution_count": 13
        },
        {
          "output_type": "display_data",
          "data": {
            "image/png": "[encoded data removed]",
            "text/plain": [
              "<Figure size 432x288 with 1 Axes>"
            ]
          },
          "metadata": {
            "needs_background": "light"
          }
        }
      ]
    },
    {
      "cell_type": "code",
      "source": [
        "from transformers import AutoModelForSequenceClassification\n",
        "\n",
        "model = AutoModelForSequenceClassification.from_pretrained(\n",
        "    checkpoint,\n",
        "    id2label=id2label,\n",
        "    label2id=label2id,\n",
        ")"
      ],
      "metadata": {
        "colab": {
          "base_uri": "https://localhost:8080/"
        },
        "id": "no8WjPFcRsKd",
        "outputId": "0d1bf1ac-df59-483c-ad07-d513823ab533"
      },
      "execution_count": 14,
      "outputs": [
        {
          "output_type": "stream",
          "name": "stderr",
          "text": [
            "Some weights of the model checkpoint at roberta-base were not used when initializing RobertaForSequenceClassification: ['lm_head.dense.bias', 'lm_head.dense.weight', 'lm_head.bias', 'roberta.pooler.dense.weight', 'roberta.pooler.dense.bias', 'lm_head.layer_norm.bias', 'lm_head.layer_norm.weight', 'lm_head.decoder.weight']\n",
            "- This IS expected if you are initializing RobertaForSequenceClassification from the checkpoint of a model trained on another task or with another architecture (e.g. initializing a BertForSequenceClassification model from a BertForPreTraining model).\n",
            "- This IS NOT expected if you are initializing RobertaForSequenceClassification from the checkpoint of a model that you expect to be exactly identical (initializing a BertForSequenceClassification model from a BertForSequenceClassification model).\n",
            "Some weights of RobertaForSequenceClassification were not initialized from the model checkpoint at roberta-base and are newly initialized: ['classifier.dense.weight', 'classifier.out_proj.bias', 'classifier.dense.bias', 'classifier.out_proj.weight']\n",
            "You should probably TRAIN this model on a down-stream task to be able to use it for predictions and inference.\n"
          ]
        }
      ]
    },
    {
      "cell_type": "code",
      "source": [
        "from transformers import TrainingArguments\n",
        "\n",
        "batch_size=32\n",
        "args = TrainingArguments(\n",
        "    \"inscope_text_classification\",\n",
        "    per_device_train_batch_size=batch_size,\n",
        "    per_device_eval_batch_size=batch_size,\n",
        "    evaluation_strategy=\"epoch\",\n",
        "    save_strategy=\"epoch\",\n",
        "    logging_strategy=\"epoch\",\n",
        "    learning_rate=5e-5,\n",
        "    num_train_epochs=10,\n",
        "    weight_decay=0.01,\n",
        "    group_by_length=True,\n",
        "    warmup_ratio=0.1,\n",
        "    load_best_model_at_end=True\n",
        ")\n"
      ],
      "metadata": {
        "id": "w1tvUeaNR4eo"
      },
      "execution_count": 15,
      "outputs": []
    },
    {
      "cell_type": "code",
      "source": [
        "from sklearn.metrics import precision_recall_fscore_support\n",
        "import numpy as np\n",
        "\n",
        "def compute_metrics(eval_pred):\n",
        "  \"\"\"Called to compute validation metrics at each evaluation step of training.\"\"\"\n",
        "  logits, labels = eval_pred\n",
        "  labels = labels.flatten()\n",
        "  predictions = np.argmax(logits, axis=-1).flatten()\n",
        "\n",
        "  precision, recall, f1, _ = precision_recall_fscore_support(\n",
        "      labels, predictions, average='macro', zero_division=0\n",
        "  )\n",
        "  metrics = {\"f1\": f1, \"precision\": precision, \"recall\": recall}\n",
        "  return metrics"
      ],
      "metadata": {
        "id": "N37ouBZxS4hs"
      },
      "execution_count": 16,
      "outputs": []
    },
    {
      "cell_type": "code",
      "source": [
        "from transformers import Trainer, DataCollatorWithPadding, EarlyStoppingCallback\n",
        "\n",
        "trainer = Trainer(\n",
        "    model=model,\n",
        "    args=args,\n",
        "    train_dataset=datasets_hf['train'],\n",
        "    eval_dataset=datasets_hf['val'],\n",
        "    data_collator=data_collator,\n",
        "    compute_metrics=compute_metrics,\n",
        "    callbacks=[EarlyStoppingCallback(early_stopping_patience=3)],\n",
        ")\n",
        "# trainer.train()"
      ],
      "metadata": {
        "id": "IStnRUjESgUZ"
      },
      "execution_count": 17,
      "outputs": []
    },
    {
      "cell_type": "code",
      "source": [
        "model = AutoModelForSequenceClassification.from_pretrained('/content/models/inscope_text_classification/checkpoint-3283')"
      ],
      "metadata": {
        "colab": {
          "base_uri": "https://localhost:8080/"
        },
        "id": "G-kch_koQ5LW",
        "outputId": "4185c904-23bc-45cf-c6b5-ef86bea17454"
      },
      "execution_count": 18,
      "outputs": [
        {
          "output_type": "stream",
          "name": "stderr",
          "text": [
            "loading configuration file /content/models/inscope_text_classification/checkpoint-3283/config.json\n",
            "Model config RobertaConfig {\n",
            "  \"_name_or_path\": \"/content/models/inscope_text_classification/checkpoint-3283\",\n",
            "  \"architectures\": [\n",
            "    \"RobertaForSequenceClassification\"\n",
            "  ],\n",
            "  \"attention_probs_dropout_prob\": 0.1,\n",
            "  \"bos_token_id\": 0,\n",
            "  \"classifier_dropout\": null,\n",
            "  \"eos_token_id\": 2,\n",
            "  \"hidden_act\": \"gelu\",\n",
            "  \"hidden_dropout_prob\": 0.1,\n",
            "  \"hidden_size\": 768,\n",
            "  \"id2label\": {\n",
            "    \"0\": \"accept_reservations\",\n",
            "    \"1\": \"account_blocked\",\n",
            "    \"2\": \"alarm\",\n",
            "    \"3\": \"application_status\",\n",
            "    \"4\": \"apr\",\n",
            "    \"5\": \"are_you_a_bot\",\n",
            "    \"6\": \"balance\",\n",
            "    \"7\": \"bill_balance\",\n",
            "    \"8\": \"bill_due\",\n",
            "    \"9\": \"book_flight\",\n",
            "    \"10\": \"book_hotel\",\n",
            "    \"11\": \"calculator\",\n",
            "    \"12\": \"calendar\",\n",
            "    \"13\": \"calendar_update\",\n",
            "    \"14\": \"calories\",\n",
            "    \"15\": \"cancel\",\n",
            "    \"16\": \"cancel_reservation\",\n",
            "    \"17\": \"car_rental\",\n",
            "    \"18\": \"card_declined\",\n",
            "    \"19\": \"carry_on\",\n",
            "    \"20\": \"change_accent\",\n",
            "    \"21\": \"change_ai_name\",\n",
            "    \"22\": \"change_language\",\n",
            "    \"23\": \"change_speed\",\n",
            "    \"24\": \"change_user_name\",\n",
            "    \"25\": \"change_volume\",\n",
            "    \"26\": \"confirm_reservation\",\n",
            "    \"27\": \"cook_time\",\n",
            "    \"28\": \"credit_limit\",\n",
            "    \"29\": \"credit_limit_change\",\n",
            "    \"30\": \"credit_score\",\n",
            "    \"31\": \"current_location\",\n",
            "    \"32\": \"damaged_card\",\n",
            "    \"33\": \"date\",\n",
            "    \"34\": \"definition\",\n",
            "    \"35\": \"direct_deposit\",\n",
            "    \"36\": \"directions\",\n",
            "    \"37\": \"distance\",\n",
            "    \"38\": \"do_you_have_pets\",\n",
            "    \"39\": \"exchange_rate\",\n",
            "    \"40\": \"expiration_date\",\n",
            "    \"41\": \"find_phone\",\n",
            "    \"42\": \"flight_status\",\n",
            "    \"43\": \"flip_coin\",\n",
            "    \"44\": \"food_last\",\n",
            "    \"45\": \"freeze_account\",\n",
            "    \"46\": \"fun_fact\",\n",
            "    \"47\": \"gas\",\n",
            "    \"48\": \"gas_type\",\n",
            "    \"49\": \"goodbye\",\n",
            "    \"50\": \"greeting\",\n",
            "    \"51\": \"how_busy\",\n",
            "    \"52\": \"how_old_are_you\",\n",
            "    \"53\": \"improve_credit_score\",\n",
            "    \"54\": \"income\",\n",
            "    \"55\": \"ingredient_substitution\",\n",
            "    \"56\": \"ingredients_list\",\n",
            "    \"57\": \"insurance\",\n",
            "    \"58\": \"insurance_change\",\n",
            "    \"59\": \"interest_rate\",\n",
            "    \"60\": \"international_fees\",\n",
            "    \"61\": \"international_visa\",\n",
            "    \"62\": \"jump_start\",\n",
            "    \"63\": \"last_maintenance\",\n",
            "    \"64\": \"lost_luggage\",\n",
            "    \"65\": \"make_call\",\n",
            "    \"66\": \"maybe\",\n",
            "    \"67\": \"meal_suggestion\",\n",
            "    \"68\": \"meaning_of_life\",\n",
            "    \"69\": \"measurement_conversion\",\n",
            "    \"70\": \"meeting_schedule\",\n",
            "    \"71\": \"min_payment\",\n",
            "    \"72\": \"mpg\",\n",
            "    \"73\": \"new_card\",\n",
            "    \"74\": \"next_holiday\",\n",
            "    \"75\": \"next_song\",\n",
            "    \"76\": \"no\",\n",
            "    \"77\": \"nutrition_info\",\n",
            "    \"78\": \"oil_change_how\",\n",
            "    \"79\": \"oil_change_when\",\n",
            "    \"80\": \"order\",\n",
            "    \"81\": \"order_checks\",\n",
            "    \"82\": \"order_status\",\n",
            "    \"83\": \"pay_bill\",\n",
            "    \"84\": \"payday\",\n",
            "    \"85\": \"pin_change\",\n",
            "    \"86\": \"play_music\",\n",
            "    \"87\": \"plug_type\",\n",
            "    \"88\": \"pto_balance\",\n",
            "    \"89\": \"pto_request\",\n",
            "    \"90\": \"pto_request_status\",\n",
            "    \"91\": \"pto_used\",\n",
            "    \"92\": \"recipe\",\n",
            "    \"93\": \"redeem_rewards\",\n",
            "    \"94\": \"reminder\",\n",
            "    \"95\": \"reminder_update\",\n",
            "    \"96\": \"repeat\",\n",
            "    \"97\": \"replacement_card_duration\",\n",
            "    \"98\": \"report_fraud\",\n",
            "    \"99\": \"report_lost_card\",\n",
            "    \"100\": \"reset_settings\",\n",
            "    \"101\": \"restaurant_reservation\",\n",
            "    \"102\": \"restaurant_reviews\",\n",
            "    \"103\": \"restaurant_suggestion\",\n",
            "    \"104\": \"rewards_balance\",\n",
            "    \"105\": \"roll_dice\",\n",
            "    \"106\": \"rollover_401k\",\n",
            "    \"107\": \"routing\",\n",
            "    \"108\": \"schedule_maintenance\",\n",
            "    \"109\": \"schedule_meeting\",\n",
            "    \"110\": \"share_location\",\n",
            "    \"111\": \"shopping_list\",\n",
            "    \"112\": \"shopping_list_update\",\n",
            "    \"113\": \"smart_home\",\n",
            "    \"114\": \"spelling\",\n",
            "    \"115\": \"spending_history\",\n",
            "    \"116\": \"sync_device\",\n",
            "    \"117\": \"taxes\",\n",
            "    \"118\": \"tell_joke\",\n",
            "    \"119\": \"text\",\n",
            "    \"120\": \"thank_you\",\n",
            "    \"121\": \"time\",\n",
            "    \"122\": \"timer\",\n",
            "    \"123\": \"timezone\",\n",
            "    \"124\": \"tire_change\",\n",
            "    \"125\": \"tire_pressure\",\n",
            "    \"126\": \"todo_list\",\n",
            "    \"127\": \"todo_list_update\",\n",
            "    \"128\": \"traffic\",\n",
            "    \"129\": \"transactions\",\n",
            "    \"130\": \"transfer\",\n",
            "    \"131\": \"translate\",\n",
            "    \"132\": \"travel_alert\",\n",
            "    \"133\": \"travel_notification\",\n",
            "    \"134\": \"travel_suggestion\",\n",
            "    \"135\": \"uber\",\n",
            "    \"136\": \"update_playlist\",\n",
            "    \"137\": \"user_name\",\n",
            "    \"138\": \"vaccines\",\n",
            "    \"139\": \"w2\",\n",
            "    \"140\": \"weather\",\n",
            "    \"141\": \"what_are_your_hobbies\",\n",
            "    \"142\": \"what_can_i_ask_you\",\n",
            "    \"143\": \"what_is_your_name\",\n",
            "    \"144\": \"what_song\",\n",
            "    \"145\": \"where_are_you_from\",\n",
            "    \"146\": \"whisper_mode\",\n",
            "    \"147\": \"who_do_you_work_for\",\n",
            "    \"148\": \"who_made_you\",\n",
            "    \"149\": \"yes\"\n",
            "  },\n",
            "  \"initializer_range\": 0.02,\n",
            "  \"intermediate_size\": 3072,\n",
            "  \"label2id\": {\n",
            "    \"accept_reservations\": 0,\n",
            "    \"account_blocked\": 1,\n",
            "    \"alarm\": 2,\n",
            "    \"application_status\": 3,\n",
            "    \"apr\": 4,\n",
            "    \"are_you_a_bot\": 5,\n",
            "    \"balance\": 6,\n",
            "    \"bill_balance\": 7,\n",
            "    \"bill_due\": 8,\n",
            "    \"book_flight\": 9,\n",
            "    \"book_hotel\": 10,\n",
            "    \"calculator\": 11,\n",
            "    \"calendar\": 12,\n",
            "    \"calendar_update\": 13,\n",
            "    \"calories\": 14,\n",
            "    \"cancel\": 15,\n",
            "    \"cancel_reservation\": 16,\n",
            "    \"car_rental\": 17,\n",
            "    \"card_declined\": 18,\n",
            "    \"carry_on\": 19,\n",
            "    \"change_accent\": 20,\n",
            "    \"change_ai_name\": 21,\n",
            "    \"change_language\": 22,\n",
            "    \"change_speed\": 23,\n",
            "    \"change_user_name\": 24,\n",
            "    \"change_volume\": 25,\n",
            "    \"confirm_reservation\": 26,\n",
            "    \"cook_time\": 27,\n",
            "    \"credit_limit\": 28,\n",
            "    \"credit_limit_change\": 29,\n",
            "    \"credit_score\": 30,\n",
            "    \"current_location\": 31,\n",
            "    \"damaged_card\": 32,\n",
            "    \"date\": 33,\n",
            "    \"definition\": 34,\n",
            "    \"direct_deposit\": 35,\n",
            "    \"directions\": 36,\n",
            "    \"distance\": 37,\n",
            "    \"do_you_have_pets\": 38,\n",
            "    \"exchange_rate\": 39,\n",
            "    \"expiration_date\": 40,\n",
            "    \"find_phone\": 41,\n",
            "    \"flight_status\": 42,\n",
            "    \"flip_coin\": 43,\n",
            "    \"food_last\": 44,\n",
            "    \"freeze_account\": 45,\n",
            "    \"fun_fact\": 46,\n",
            "    \"gas\": 47,\n",
            "    \"gas_type\": 48,\n",
            "    \"goodbye\": 49,\n",
            "    \"greeting\": 50,\n",
            "    \"how_busy\": 51,\n",
            "    \"how_old_are_you\": 52,\n",
            "    \"improve_credit_score\": 53,\n",
            "    \"income\": 54,\n",
            "    \"ingredient_substitution\": 55,\n",
            "    \"ingredients_list\": 56,\n",
            "    \"insurance\": 57,\n",
            "    \"insurance_change\": 58,\n",
            "    \"interest_rate\": 59,\n",
            "    \"international_fees\": 60,\n",
            "    \"international_visa\": 61,\n",
            "    \"jump_start\": 62,\n",
            "    \"last_maintenance\": 63,\n",
            "    \"lost_luggage\": 64,\n",
            "    \"make_call\": 65,\n",
            "    \"maybe\": 66,\n",
            "    \"meal_suggestion\": 67,\n",
            "    \"meaning_of_life\": 68,\n",
            "    \"measurement_conversion\": 69,\n",
            "    \"meeting_schedule\": 70,\n",
            "    \"min_payment\": 71,\n",
            "    \"mpg\": 72,\n",
            "    \"new_card\": 73,\n",
            "    \"next_holiday\": 74,\n",
            "    \"next_song\": 75,\n",
            "    \"no\": 76,\n",
            "    \"nutrition_info\": 77,\n",
            "    \"oil_change_how\": 78,\n",
            "    \"oil_change_when\": 79,\n",
            "    \"order\": 80,\n",
            "    \"order_checks\": 81,\n",
            "    \"order_status\": 82,\n",
            "    \"pay_bill\": 83,\n",
            "    \"payday\": 84,\n",
            "    \"pin_change\": 85,\n",
            "    \"play_music\": 86,\n",
            "    \"plug_type\": 87,\n",
            "    \"pto_balance\": 88,\n",
            "    \"pto_request\": 89,\n",
            "    \"pto_request_status\": 90,\n",
            "    \"pto_used\": 91,\n",
            "    \"recipe\": 92,\n",
            "    \"redeem_rewards\": 93,\n",
            "    \"reminder\": 94,\n",
            "    \"reminder_update\": 95,\n",
            "    \"repeat\": 96,\n",
            "    \"replacement_card_duration\": 97,\n",
            "    \"report_fraud\": 98,\n",
            "    \"report_lost_card\": 99,\n",
            "    \"reset_settings\": 100,\n",
            "    \"restaurant_reservation\": 101,\n",
            "    \"restaurant_reviews\": 102,\n",
            "    \"restaurant_suggestion\": 103,\n",
            "    \"rewards_balance\": 104,\n",
            "    \"roll_dice\": 105,\n",
            "    \"rollover_401k\": 106,\n",
            "    \"routing\": 107,\n",
            "    \"schedule_maintenance\": 108,\n",
            "    \"schedule_meeting\": 109,\n",
            "    \"share_location\": 110,\n",
            "    \"shopping_list\": 111,\n",
            "    \"shopping_list_update\": 112,\n",
            "    \"smart_home\": 113,\n",
            "    \"spelling\": 114,\n",
            "    \"spending_history\": 115,\n",
            "    \"sync_device\": 116,\n",
            "    \"taxes\": 117,\n",
            "    \"tell_joke\": 118,\n",
            "    \"text\": 119,\n",
            "    \"thank_you\": 120,\n",
            "    \"time\": 121,\n",
            "    \"timer\": 122,\n",
            "    \"timezone\": 123,\n",
            "    \"tire_change\": 124,\n",
            "    \"tire_pressure\": 125,\n",
            "    \"todo_list\": 126,\n",
            "    \"todo_list_update\": 127,\n",
            "    \"traffic\": 128,\n",
            "    \"transactions\": 129,\n",
            "    \"transfer\": 130,\n",
            "    \"translate\": 131,\n",
            "    \"travel_alert\": 132,\n",
            "    \"travel_notification\": 133,\n",
            "    \"travel_suggestion\": 134,\n",
            "    \"uber\": 135,\n",
            "    \"update_playlist\": 136,\n",
            "    \"user_name\": 137,\n",
            "    \"vaccines\": 138,\n",
            "    \"w2\": 139,\n",
            "    \"weather\": 140,\n",
            "    \"what_are_your_hobbies\": 141,\n",
            "    \"what_can_i_ask_you\": 142,\n",
            "    \"what_is_your_name\": 143,\n",
            "    \"what_song\": 144,\n",
            "    \"where_are_you_from\": 145,\n",
            "    \"whisper_mode\": 146,\n",
            "    \"who_do_you_work_for\": 147,\n",
            "    \"who_made_you\": 148,\n",
            "    \"yes\": 149\n",
            "  },\n",
            "  \"layer_norm_eps\": 1e-05,\n",
            "  \"max_position_embeddings\": 514,\n",
            "  \"model_type\": \"roberta\",\n",
            "  \"num_attention_heads\": 12,\n",
            "  \"num_hidden_layers\": 12,\n",
            "  \"pad_token_id\": 1,\n",
            "  \"position_embedding_type\": \"absolute\",\n",
            "  \"problem_type\": \"single_label_classification\",\n",
            "  \"torch_dtype\": \"float32\",\n",
            "  \"transformers_version\": \"4.16.2\",\n",
            "  \"type_vocab_size\": 1,\n",
            "  \"use_cache\": true,\n",
            "  \"vocab_size\": 50265\n",
            "}\n",
            "\n",
            "loading weights file /content/models/inscope_text_classification/checkpoint-3283/pytorch_model.bin\n",
            "All model checkpoint weights were used when initializing RobertaForSequenceClassification.\n",
            "\n",
            "All the weights of RobertaForSequenceClassification were initialized from the model checkpoint at /content/models/inscope_text_classification/checkpoint-3283.\n",
            "If your task is similar to the task the model of the checkpoint was trained on, you can already use RobertaForSequenceClassification for predictions without further training.\n"
          ]
        }
      ]
    },
    {
      "cell_type": "code",
      "source": [
        "import torch\n",
        "\n",
        "def get_model_outputs(dataset_hf, model, batch_size, device):\n",
        "  model.to(device)\n",
        "  model.eval()\n",
        "  dataloader = torch.utils.data.DataLoader(\n",
        "      dataset_hf, batch_size=batch_size, collate_fn=data_collator\n",
        "  )\n",
        "\n",
        "  latent_states = torch.zeros(len(dataset_hf), model.config.hidden_size)\n",
        "  logits = torch.zeros(len(dataset_hf), model.config.num_labels)\n",
        "  with torch.set_grad_enabled(False):\n",
        "      for idx, batch in zip(range(0, len(dataset_hf), batch_size), dataloader):\n",
        "          batch.pop(\"labels\", default=None)\n",
        "          batch = {k: v.to(device) for k, v in batch.items()}\n",
        "          output = model(**batch, output_hidden_states=True)\n",
        "          latent_states[idx:idx+batch_size] = output['hidden_states'][-1][:,0].detach()\n",
        "          logits[idx:idx+batch_size] = output['logits'].detach()\n",
        "  return logits, latent_states\n",
        "       "
      ],
      "metadata": {
        "id": "bqe12pbVRGIB"
      },
      "execution_count": 19,
      "outputs": []
    },
    {
      "cell_type": "code",
      "source": [
        "import random\n",
        "RANDOM_SEED = 23\n",
        "SUB_SAMPLE_SIZE=1000\n",
        "\n",
        "random.seed(RANDOM_SEED)\n",
        "sub_sample_data_train = random.sample(data['train'], SUB_SAMPLE_SIZE)\n",
        "texts, labels = map(list,zip(*sub_sample_data_train))\n",
        "datasets_hf['train'] = HuggingFaceDataset(label2id, tokenizer, texts)"
      ],
      "metadata": {
        "id": "gXJrD7ktePkE"
      },
      "execution_count": 20,
      "outputs": []
    },
    {
      "cell_type": "code",
      "source": [
        "device = 'cuda:0' if torch.cuda.is_available() else 'cpu'\n",
        "latent_states = {}\n",
        "logits = {}\n",
        "for key, dataset in datasets_hf.items():\n",
        "  logits[key], latent_states[key] = get_model_outputs(dataset, model, batch_size, device)"
      ],
      "metadata": {
        "id": "jrD34CXKTnAk"
      },
      "execution_count": 21,
      "outputs": []
    },
    {
      "cell_type": "code",
      "source": [
        "for k, (latent_state) in latent_states.items():\n",
        "  print(k, latent_state.size())"
      ],
      "metadata": {
        "colab": {
          "base_uri": "https://localhost:8080/"
        },
        "id": "CSeyyBeWZ5cL",
        "outputId": "302f4e55-33ff-4f89-96a0-55dc993841e4"
      },
      "execution_count": 22,
      "outputs": [
        {
          "output_type": "stream",
          "name": "stdout",
          "text": [
            "val torch.Size([3000, 768])\n",
            "train torch.Size([1000, 768])\n",
            "test torch.Size([4500, 768])\n",
            "oos torch.Size([1200, 768])\n"
          ]
        }
      ]
    },
    {
      "cell_type": "code",
      "source": [
        "from explainers.simplex import Simplex\n",
        "from utils.schedulers import ExponentialScheduler\n",
        "\n",
        "fit_keys=['val', 'test', 'oos']\n",
        "explainers = {}\n",
        "N_KEEP = 10\n",
        "\n",
        "model_name = 'Simplex'\n",
        "model_names={model_name}\n",
        "\n",
        "for key in fit_keys:\n",
        "  simplex = Simplex(latent_states['train'].to(device).detach())\n",
        "  latent_state = latent_states[key]\n",
        "  reg_factor_scheduler = ExponentialScheduler(0.1, 100, 10000)\n",
        "  simplex.fit(\n",
        "        latent_state.to(device).detach(), \n",
        "        n_epoch=10000,\n",
        "        reg_factor=0.1, \n",
        "        n_keep=N_KEEP,\n",
        "        reg_factor_scheduler=reg_factor_scheduler,\n",
        "      )\n",
        "  simplex.plot_hist()\n",
        "  explainers[f\"{model_name} {key}\"] = simplex\n",
        "  "
      ],
      "metadata": {
        "colab": {
          "base_uri": "https://localhost:8080/",
          "height": 1000
        },
        "id": "KdJCgnWTjG-a",
        "outputId": "dcd13503-9601-45dc-a60e-0f6cd2be7b9f"
      },
      "execution_count": 23,
      "outputs": [
        {
          "output_type": "stream",
          "name": "stdout",
          "text": [
            "Weight Fitting Epoch: 2000/10000 ; Error: 5.77e+05 ; Regulator: 1.76e+03 ; Reg Factor: 0.398\n",
            "Weight Fitting Epoch: 4000/10000 ; Error: 6.89e+04 ; Regulator: 414 ; Reg Factor: 1.58\n",
            "Weight Fitting Epoch: 6000/10000 ; Error: 4.8e+04 ; Regulator: 197 ; Reg Factor: 6.31\n",
            "Weight Fitting Epoch: 8000/10000 ; Error: 4.17e+04 ; Regulator: 85 ; Reg Factor: 25.1\n",
            "Weight Fitting Epoch: 10000/10000 ; Error: 3.97e+04 ; Regulator: 24.5 ; Reg Factor: 99.9\n"
          ]
        },
        {
          "output_type": "display_data",
          "data": {
            "image/png": "[encoded data removed]",
            "text/plain": [
              "<Figure size 432x288 with 2 Axes>"
            ]
          },
          "metadata": {}
        },
        {
          "output_type": "stream",
          "name": "stdout",
          "text": [
            "Weight Fitting Epoch: 2000/10000 ; Error: 8.67e+05 ; Regulator: 2.64e+03 ; Reg Factor: 0.398\n",
            "Weight Fitting Epoch: 4000/10000 ; Error: 1.03e+05 ; Regulator: 621 ; Reg Factor: 1.58\n",
            "Weight Fitting Epoch: 6000/10000 ; Error: 7.19e+04 ; Regulator: 296 ; Reg Factor: 6.31\n",
            "Weight Fitting Epoch: 8000/10000 ; Error: 6.25e+04 ; Regulator: 127 ; Reg Factor: 25.1\n",
            "Weight Fitting Epoch: 10000/10000 ; Error: 5.95e+04 ; Regulator: 36.7 ; Reg Factor: 99.9\n"
          ]
        },
        {
          "output_type": "display_data",
          "data": {
            "image/png": "[encoded data removed]",
            "text/plain": [
              "<Figure size 432x288 with 2 Axes>"
            ]
          },
          "metadata": {}
        },
        {
          "output_type": "stream",
          "name": "stdout",
          "text": [
            "Weight Fitting Epoch: 2000/10000 ; Error: 3.55e+05 ; Regulator: 869 ; Reg Factor: 0.398\n",
            "Weight Fitting Epoch: 4000/10000 ; Error: 2.58e+05 ; Regulator: 438 ; Reg Factor: 1.58\n",
            "Weight Fitting Epoch: 6000/10000 ; Error: 2.48e+05 ; Regulator: 212 ; Reg Factor: 6.31\n",
            "Weight Fitting Epoch: 8000/10000 ; Error: 2.44e+05 ; Regulator: 57.5 ; Reg Factor: 25.1\n",
            "Weight Fitting Epoch: 10000/10000 ; Error: 2.44e+05 ; Regulator: 7.71 ; Reg Factor: 99.9\n"
          ]
        },
        {
          "output_type": "display_data",
          "data": {
            "image/png": "[encoded data removed]",
            "text/plain": [
              "<Figure size 432x288 with 2 Axes>"
            ]
          },
          "metadata": {}
        }
      ]
    },
    {
      "cell_type": "code",
      "source": [
        "from explainers.nearest_neighbours import NearNeighLatent\n",
        "\n",
        "model_name = \"NN\"\n",
        "model_names.add(model_name)\n",
        "\n",
        "for key in fit_keys:\n",
        "  nn_dist = NearNeighLatent(\n",
        "      corpus_latent_reps=latent_states['train'].cpu(), \n",
        "      weights_type='distance'\n",
        "    )\n",
        "  latent_state = latent_states[key].cpu()\n",
        "  nn_dist.fit(test_latent_reps=latent_state,\n",
        "              n_keep=N_KEEP)\n",
        "  explainers[f\"{model_name} {key}\"] = nn_dist"
      ],
      "metadata": {
        "id": "ABeITUZKrZk7"
      },
      "execution_count": 24,
      "outputs": []
    },
    {
      "cell_type": "code",
      "source": [
        "from torch.nn.functional import pairwise_distance\n",
        "from sklearn.metrics import r2_score\n",
        "\n",
        "distances={}\n",
        "r2_scores={}\n",
        "\n",
        "for name, explainer in explainers.items():\n",
        "  latent_rep=explainer.test_latent_reps.cpu()\n",
        "  latent_approx=explainer.latent_approx().cpu()\n",
        "  distances[name]=pairwise_distance(latent_rep, latent_approx)\n",
        "  r2_scores[name]=r2_score(latent_rep, latent_approx)"
      ],
      "metadata": {
        "id": "3ualRLwlqiug"
      },
      "execution_count": 25,
      "outputs": []
    },
    {
      "cell_type": "code",
      "source": [
        "r2_scores"
      ],
      "metadata": {
        "colab": {
          "base_uri": "https://localhost:8080/"
        },
        "id": "w405RIMRj2r1",
        "outputId": "e5ec1edb-0da3-4098-f67e-06e4ab2d9d93"
      },
      "execution_count": 26,
      "outputs": [
        {
          "output_type": "execute_result",
          "data": {
            "text/plain": [
              "{'NN oos': 0.37565389178854,\n",
              " 'NN test': 0.9491254850903695,\n",
              " 'NN val': 0.9497541783320425,\n",
              " 'Simplex oos': 0.570337151756094,\n",
              " 'Simplex test': 0.9723829977429203,\n",
              " 'Simplex val': 0.9724334439267731}"
            ]
          },
          "metadata": {},
          "execution_count": 26
        }
      ]
    },
    {
      "cell_type": "code",
      "source": [
        "fig, ax = plt.subplots()\n",
        "ax.boxplot(distances.values())\n",
        "ax.set_xticklabels(distances.keys())\n",
        "ax.set_ylabel('Distance')\n",
        "plt.show()"
      ],
      "metadata": {
        "colab": {
          "base_uri": "https://localhost:8080/",
          "height": 358
        },
        "id": "4GvzJQKOnV1S",
        "outputId": "859cd284-5c90-4bd8-d597-06407720fc16"
      },
      "execution_count": 27,
      "outputs": [
        {
          "output_type": "stream",
          "name": "stderr",
          "text": [
            "/usr/local/lib/python3.7/dist-packages/matplotlib/cbook/__init__.py:1376: FutureWarning: The input object of type 'Tensor' is an array-like implementing one of the corresponding protocols (`__array__`, `__array_interface__` or `__array_struct__`); but not a sequence (or 0-D). In the future, this object will be coerced as if it was first converted using `np.array(obj)`. To retain the old behaviour, you have to either modify the type 'Tensor', or assign to an empty array created with `np.empty(correct_shape, dtype=object)`.\n",
            "  X = np.atleast_1d(X.T if isinstance(X, np.ndarray) else np.asarray(X))\n",
            "/usr/local/lib/python3.7/dist-packages/matplotlib/cbook/__init__.py:1376: VisibleDeprecationWarning: Creating an ndarray from ragged nested sequences (which is a list-or-tuple of lists-or-tuples-or ndarrays with different lengths or shapes) is deprecated. If you meant to do this, you must specify 'dtype=object' when creating the ndarray.\n",
            "  X = np.atleast_1d(X.T if isinstance(X, np.ndarray) else np.asarray(X))\n"
          ]
        },
        {
          "output_type": "display_data",
          "data": {
            "image/png": "[encoded data removed]",
            "text/plain": [
              "<Figure size 432x288 with 1 Axes>"
            ]
          },
          "metadata": {}
        }
      ]
    },
    {
      "cell_type": "code",
      "source": [
        "from scipy.stats import ks_2samp\n",
        "\n",
        "ks_2_samp_metrics = {}\n",
        "for model_name in model_names:\n",
        "  for fit_key in ['oos', 'test']:\n",
        "    key=f\"{model_name} {fit_key}\"\n",
        "    ks_2_samp_metrics[key] = ks_2samp(distances[f\"{model_name} val\"], distances[key])\n",
        "\n",
        "ks_2_samp_metrics"
      ],
      "metadata": {
        "colab": {
          "base_uri": "https://localhost:8080/"
        },
        "id": "ssCmS1HkuTZc",
        "outputId": "2909dba9-3f69-4076-8377-1d030ce675a4"
      },
      "execution_count": 28,
      "outputs": [
        {
          "output_type": "execute_result",
          "data": {
            "text/plain": [
              "{'NN oos': Ks_2sampResult(statistic=0.8271666666666667, pvalue=0.0),\n",
              " 'NN test': Ks_2sampResult(statistic=0.017888888888888888, pvalue=1.0),\n",
              " 'Simplex oos': Ks_2sampResult(statistic=0.8545, pvalue=0.0),\n",
              " 'Simplex test': Ks_2sampResult(statistic=0.013111111111111112, pvalue=1.0)}"
            ]
          },
          "metadata": {},
          "execution_count": 28
        }
      ]
    },
    {
      "cell_type": "code",
      "source": [
        "pdf_val = np.sort(distances['Simplex val'].numpy())\n",
        "pdf_test = np.sort(distances['Simplex test'].numpy())\n",
        "pdf_oos = np.sort(distances['Simplex oos'].numpy())\n",
        "fig, ax = plt.subplots()\n",
        "ax.hist(pdf_val, density=True)\n",
        "ax.hist(pdf_test, density=True)\n",
        "ax.hist(pdf_oos, density=True)"
      ],
      "metadata": {
        "colab": {
          "base_uri": "https://localhost:8080/",
          "height": 372
        },
        "id": "qsJu-hX_2d9L",
        "outputId": "13616102-5944-4d07-f224-679928f90d4c"
      },
      "execution_count": 29,
      "outputs": [
        {
          "output_type": "execute_result",
          "data": {
            "text/plain": [
              "(array([0.00916917, 0.01921159, 0.01877496, 0.03056389, 0.04191619,\n",
              "        0.05501503, 0.07990274, 0.13055148, 0.11526947, 0.02357787]),\n",
              " array([ 1.3526509,  3.261221 ,  5.169791 ,  7.0783615,  8.986932 ,\n",
              "        10.895502 , 12.804071 , 14.712642 , 16.621212 , 18.529783 ,\n",
              "        20.438353 ], dtype=float32),\n",
              " <a list of 10 Patch objects>)"
            ]
          },
          "metadata": {},
          "execution_count": 29
        },
        {
          "output_type": "display_data",
          "data": {
            "image/png": "[encoded data removed]",
            "text/plain": [
              "<Figure size 432x288 with 1 Axes>"
            ]
          },
          "metadata": {}
        }
      ]
    },
    {
      "cell_type": "code",
      "source": [
        "fig, ax = plt.subplots()\n",
        "plt.plot(pdf_val, np.linspace(0, 1, num=len(pdf_val)))\n",
        "plt.plot(pdf_test, np.linspace(0, 1, num=len(pdf_test)))\n",
        "plt.plot(pdf_oos, np.linspace(0, 1, num=len(pdf_oos)))"
      ],
      "metadata": {
        "colab": {
          "base_uri": "https://localhost:8080/",
          "height": 285
        },
        "id": "1Mndp0de2nRp",
        "outputId": "ea0b3d05-cc2a-4999-d0be-9cf3379c5903"
      },
      "execution_count": 30,
      "outputs": [
        {
          "output_type": "execute_result",
          "data": {
            "text/plain": [
              "[<matplotlib.lines.Line2D at 0x7fef69fb5d10>]"
            ]
          },
          "metadata": {},
          "execution_count": 30
        },
        {
          "output_type": "display_data",
          "data": {
            "image/png": "[encoded data removed]",
            "text/plain": [
              "<Figure size 432x288 with 1 Axes>"
            ]
          },
          "metadata": {}
        }
      ]
    },
    {
      "cell_type": "code",
      "source": [
        "def get_prob_pdf_has_greater_equal(value, pdf):\n",
        "  # TODO: Improve naive implementation with suboptimal time complexity\n",
        "  try:\n",
        "    idx = next(idx for idx, value_lookup in enumerate(pdf) if value_lookup >= value)\n",
        "  except StopIteration:\n",
        "    idx = len(pdf)\n",
        "  return 1-(idx/len(pdf))"
      ],
      "metadata": {
        "id": "S1g1cS6x5I75"
      },
      "execution_count": 31,
      "outputs": []
    },
    {
      "cell_type": "code",
      "source": [
        "prob_dist_from_val_distr = {}\n",
        "\n",
        "for model_name in model_names:\n",
        "  pdf = np.sort(distances[f\"{model_name} val\"].numpy())\n",
        "  for data_key in ['test', 'oos']:\n",
        "    prob_dist_from_val_distr[f\"{model_name} {data_key}\"] = np.array([get_prob_pdf_has_greater_equal(dist, pdf) for dist in distances[f\"{model_name} {data_key}\"]])"
      ],
      "metadata": {
        "id": "HS6VHLjd6-bS"
      },
      "execution_count": 32,
      "outputs": []
    },
    {
      "cell_type": "code",
      "source": [
        "def get_max_probs_from_logits(logits):\n",
        "  probs = torch.nn.Softmax(dim=-1)(logits)\n",
        "  max_probs = torch.max(probs, dim=-1)[0]\n",
        "  return max_probs"
      ],
      "metadata": {
        "id": "Fl2P-gzm7h_C"
      },
      "execution_count": 33,
      "outputs": []
    },
    {
      "cell_type": "code",
      "source": [
        "model_name = 'Logits'\n",
        "model_names.add(model_name)\n",
        "pdf = np.sort(1-get_max_probs_from_logits(logits['val']))\n",
        "for data_key in ['test', 'oos']:\n",
        "  max_probs = 1-get_max_probs_from_logits(logits[data_key])\n",
        "  prob_dist_from_val_distr[f\"{model_name} {data_key}\"] = np.array([get_prob_pdf_has_greater_equal(max_prob, pdf) for max_prob in max_probs])"
      ],
      "metadata": {
        "id": "eTfNlt-J1EPy"
      },
      "execution_count": 55,
      "outputs": []
    },
    {
      "cell_type": "code",
      "source": [
        "fig, ax = plt.subplots()\n",
        "ax.boxplot(prob_dist_from_val_distr.values())\n",
        "ax.set_xticklabels(prob_dist_from_val_distr.keys(), rotation=90)\n",
        "ax.set_ylabel('Probability')\n",
        "plt.show()"
      ],
      "metadata": {
        "colab": {
          "base_uri": "https://localhost:8080/",
          "height": 382
        },
        "id": "jjS1ALMZ8_1r",
        "outputId": "90ce2372-6bdb-4539-be30-9a21abf4cd27"
      },
      "execution_count": 56,
      "outputs": [
        {
          "output_type": "stream",
          "name": "stderr",
          "text": [
            "/usr/local/lib/python3.7/dist-packages/matplotlib/cbook/__init__.py:1376: VisibleDeprecationWarning: Creating an ndarray from ragged nested sequences (which is a list-or-tuple of lists-or-tuples-or ndarrays with different lengths or shapes) is deprecated. If you meant to do this, you must specify 'dtype=object' when creating the ndarray.\n",
            "  X = np.atleast_1d(X.T if isinstance(X, np.ndarray) else np.asarray(X))\n"
          ]
        },
        {
          "output_type": "display_data",
          "data": {
            "image/png": "[encoded data removed]",
            "text/plain": [
              "<Figure size 432x288 with 1 Axes>"
            ]
          },
          "metadata": {}
        }
      ]
    },
    {
      "cell_type": "code",
      "source": [
        "THRESHOLD = 0.05\n",
        "OOS_VALUE = 1\n",
        "INSCOPE_VALUE = 0\n",
        "threshold_OOD = {key: np.where(probs<=THRESHOLD,OOS_VALUE,INSCOPE_VALUE) for key, probs in prob_dist_from_val_distr.items()}"
      ],
      "metadata": {
        "id": "acTaeaUg9dvT"
      },
      "execution_count": 57,
      "outputs": []
    },
    {
      "cell_type": "code",
      "source": [
        "from sklearn.metrics import classification_report, confusion_matrix\n",
        "\n",
        "for name in model_names:\n",
        "  oos = threshold_OOD[f'{name} oos']\n",
        "  inscope = threshold_OOD[f'{name} test']\n",
        "  y_pred = np.append(oos, inscope)\n",
        "  y_true = np.append(np.ones(len(oos)), np.zeros(len(inscope)))\n",
        "  print(name)\n",
        "  print(confusion_matrix(y_true, y_pred))\n",
        "  print(precision_recall_fscore_support(y_true, y_pred, average='binary'))"
      ],
      "metadata": {
        "colab": {
          "base_uri": "https://localhost:8080/"
        },
        "id": "rCMwIoeK-VFy",
        "outputId": "fd5d71b3-1041-4d8f-89f4-5ad2188e0261"
      },
      "execution_count": 58,
      "outputs": [
        {
          "output_type": "stream",
          "name": "stdout",
          "text": [
            "Logits\n",
            "[[4278  222]\n",
            " [ 234  966]]\n",
            "(0.8131313131313131, 0.805, 0.8090452261306532, None)\n",
            "NN\n",
            "[[4267  233]\n",
            " [ 163 1037]]\n",
            "(0.8165354330708662, 0.8641666666666666, 0.8396761133603239, None)\n",
            "Simplex\n",
            "[[4271  229]\n",
            " [ 122 1078]]\n",
            "(0.8247895944912013, 0.8983333333333333, 0.8599920223374551, None)\n"
          ]
        }
      ]
    },
    {
      "cell_type": "code",
      "source": [
        "predictions_test = logits['test'].argmax(dim=-1)\n",
        "incorrect_OOD_preds = []\n",
        "incorrect_or_OOD_labels = np.zeros(len(threshold_OOD['Simplex test']))\n",
        "for idx, (sample, label_prediction, OOD_prediction) in enumerate(zip(datasets_hf['test'], predictions_test, threshold_OOD['Simplex test'])):\n",
        "  if sample['labels'] != label_prediction:\n",
        "    incorrect_OOD_preds.append(OOD_prediction)\n",
        "    incorrect_or_OOD_labels[idx] = OOS_VALUE\n"
      ],
      "metadata": {
        "id": "YCPTcLuRquyU"
      },
      "execution_count": 59,
      "outputs": []
    },
    {
      "cell_type": "code",
      "source": [
        "num_incorrect_labels = len(incorrect_OOD_preds)\n",
        "num_correct_labels = len(threshold_OOD['Simplex test']) - num_incorrect_labels\n",
        "num_OOD_predictions = sum(threshold_OOD['Simplex test'])"
      ],
      "metadata": {
        "id": "7E6dfvceyTW7"
      },
      "execution_count": 60,
      "outputs": []
    },
    {
      "cell_type": "code",
      "source": [
        "from scipy.stats import chi2_contingency\n",
        "\n",
        "pred_OOD_and_incorrect_label = sum(incorrect_OOD_preds)\n",
        "pred_OOD_and_correct_label = num_OOD_predictions - pred_OOD_and_incorrect_label\n",
        "not_pred_OOD_and_incorrect_label = num_incorrect_labels - pred_OOD_and_incorrect_label\n",
        "not_pred_OOD_and_correct_label = num_correct_labels - pred_OOD_and_correct_label\n",
        "\n",
        "chi2_contingency([[pred_OOD_and_incorrect_label, pred_OOD_and_correct_label], \n",
        "                  [not_pred_OOD_and_incorrect_label, not_pred_OOD_and_correct_label]])"
      ],
      "metadata": {
        "colab": {
          "base_uri": "https://localhost:8080/"
        },
        "id": "tGCrOv3Ws9N1",
        "outputId": "155a2d9e-a8bb-44ac-8418-d9d0e9030820"
      },
      "execution_count": 61,
      "outputs": [
        {
          "output_type": "execute_result",
          "data": {
            "text/plain": [
              "(1299.2277189049287,\n",
              " 1.6636013499880794e-284,\n",
              " 1,\n",
              " array([[   7.98955556,  221.01044444],\n",
              "        [ 149.01044444, 4121.98955556]]))"
            ]
          },
          "metadata": {},
          "execution_count": 61
        }
      ]
    },
    {
      "cell_type": "code",
      "source": [
        "for name in model_names:\n",
        "  y_pred = threshold_OOD[f'{name} test']\n",
        "  y_true = incorrect_or_OOD_labels\n",
        "  print(name)\n",
        "  print(confusion_matrix(y_true, y_pred))\n",
        "  print(precision_recall_fscore_support(y_true, y_pred, average='binary'))"
      ],
      "metadata": {
        "colab": {
          "base_uri": "https://localhost:8080/"
        },
        "id": "rb06ub4b267E",
        "outputId": "db53dad4-bd2d-477c-cb46-b81cbf2cf3d4"
      },
      "execution_count": 62,
      "outputs": [
        {
          "output_type": "stream",
          "name": "stdout",
          "text": [
            "Logits\n",
            "[[4218  125]\n",
            " [  60   97]]\n",
            "(0.4369369369369369, 0.6178343949044586, 0.5118733509234829, None)\n",
            "NN\n",
            "[[4205  138]\n",
            " [  62   95]]\n",
            "(0.40772532188841204, 0.6050955414012739, 0.4871794871794871, None)\n",
            "Simplex\n",
            "[[4220  123]\n",
            " [  51  106]]\n",
            "(0.462882096069869, 0.6751592356687898, 0.5492227979274612, None)\n"
          ]
        }
      ]
    },
    {
      "cell_type": "code",
      "source": [
        "stop"
      ],
      "metadata": {
        "colab": {
          "base_uri": "https://localhost:8080/",
          "height": 166
        },
        "id": "rDERwkH-m4kU",
        "outputId": "5daceebd-519c-4751-d6a7-69d8af79c861"
      },
      "execution_count": 63,
      "outputs": [
        {
          "output_type": "error",
          "ename": "NameError",
          "evalue": "ignored",
          "traceback": [
            "\u001b[0;31m---------------------------------------------------------------------------\u001b[0m",
            "\u001b[0;31mNameError\u001b[0m                                 Traceback (most recent call last)",
            "\u001b[0;32m<ipython-input-63-4f76a9dad686>\u001b[0m in \u001b[0;36m<module>\u001b[0;34m()\u001b[0m\n\u001b[0;32m----> 1\u001b[0;31m \u001b[0mstop\u001b[0m\u001b[0;34m\u001b[0m\u001b[0;34m\u001b[0m\u001b[0m\n\u001b[0m",
            "\u001b[0;31mNameError\u001b[0m: name 'stop' is not defined"
          ]
        }
      ]
    },
    {
      "cell_type": "code",
      "source": [
        "def get_model_outputs(dataset_hf, model, batch_size, device):\n",
        "  model.to(device)\n",
        "  model.eval()\n",
        "  dataloader = torch.utils.data.DataLoader(\n",
        "      dataset_hf, batch_size=batch_size, collate_fn=data_collator\n",
        "  )\n",
        "\n",
        "  latent_states = torch.zeros(len(dataset_hf), model.config.hidden_size)\n",
        "  labels = torch.zeros(len(dataset_hf))\n",
        "  logits = torch.zeros(len(dataset_hf), model.config.num_labels)\n",
        "  \n",
        "  with torch.set_grad_enabled(False):\n",
        "      for idx, batch in zip(range(0, len(dataset_hf), batch_size), dataloader):\n",
        "          batch_labels = batch.pop(\"labels\", default=None)\n",
        "          if batch_labels is not None:\n",
        "            labels[idx:idx+batch_size] = batch_labels\n",
        "          batch = {k: v.to(device) for k, v in batch.items()}\n",
        "          output = model(**batch, output_hidden_states=True)\n",
        "          \n",
        "          latent_states[idx:idx+batch_size] = output['hidden_states'][-1][:,0].detach()\n",
        "          logits[idx:idx+batch_size] = output['logits']\n",
        "  return latent_states, labels, logits"
      ],
      "metadata": {
        "id": "N4ItqFJpZaYO"
      },
      "execution_count": null,
      "outputs": []
    },
    {
      "cell_type": "code",
      "source": [
        "latent_states_val, labels_val, logits_val = get_model_outputs(datasets_hf['val'], model, batch_size, device)\n",
        "predictions_val = logits_val.argmax(dim=-1)"
      ],
      "metadata": {
        "id": "l8gVS2yxaxq9"
      },
      "execution_count": null,
      "outputs": []
    },
    {
      "cell_type": "code",
      "source": [
        "predictions_val.size()"
      ],
      "metadata": {
        "id": "Jh4Ycp5TbHJo"
      },
      "execution_count": null,
      "outputs": []
    },
    {
      "cell_type": "code",
      "source": [
        "correct = []\n",
        "incorrect = []\n",
        "for latent_state, label, prediction in zip(latent_states_val, labels_val, predictions_val):\n",
        "  if label != prediction:\n",
        "    incorrect.append(latent_state)\n",
        "  else:\n",
        "    correct.append(latent_state)\n",
        "correct = torch.vstack(correct)\n",
        "incorrect = torch.vstack(incorrect)"
      ],
      "metadata": {
        "id": "D2yhBFfYbQn_"
      },
      "execution_count": null,
      "outputs": []
    },
    {
      "cell_type": "code",
      "source": [
        "correct.size()"
      ],
      "metadata": {
        "id": "F8sGoHifbm5z"
      },
      "execution_count": null,
      "outputs": []
    },
    {
      "cell_type": "code",
      "source": [
        "fit_keys=['val', 'test', 'oos']\n",
        "explainers = {}\n",
        "N_KEEP = 10\n",
        "\n",
        "model_name = 'Simplex'\n",
        "for name, latent_state in zip(['correct', 'incorrect'], [correct, incorrect]):\n",
        "  simplex = Simplex(latent_states['train'].to(device).detach())\n",
        "  reg_factor_scheduler = ExponentialScheduler(0.1, 100, 10000)\n",
        "  simplex.fit(\n",
        "        latent_state.to(device).detach(), \n",
        "        n_epoch=10000,\n",
        "        reg_factor=0.1, \n",
        "        n_keep=N_KEEP,\n",
        "        reg_factor_scheduler=reg_factor_scheduler,\n",
        "      )\n",
        "  simplex.plot_hist()\n",
        "  explainers[f\"{name} {key}\"] = simplex"
      ],
      "metadata": {
        "id": "Vg4HOVzrbqCL"
      },
      "execution_count": null,
      "outputs": []
    },
    {
      "cell_type": "code",
      "source": [
        "errors={}\n",
        "r2_scores={}\n",
        "\n",
        "for name, explainer in explainers.items():\n",
        "  latent_rep=explainer.test_latent_reps.cpu()\n",
        "  latent_approx=explainer.latent_approx().cpu()\n",
        "  errors[name]=pairwise_distance(latent_rep, latent_approx)\n",
        "  r2_scores[name]=r2_score(latent_rep, latent_approx)"
      ],
      "metadata": {
        "id": "K3duN19ufRIr"
      },
      "execution_count": null,
      "outputs": []
    },
    {
      "cell_type": "code",
      "source": [
        "r2_scores"
      ],
      "metadata": {
        "id": "mro3_GqcfRI0"
      },
      "execution_count": null,
      "outputs": []
    },
    {
      "cell_type": "code",
      "source": [
        "correct_max_logits = []\n",
        "incorrect_max_logits = []\n",
        "probs = torch.nn.Softmax(dim=-1)(logits_val)\n",
        "max_probs = torch.max(probs, dim=-1)[0]\n",
        "for max_prob, label, prediction in zip(max_probs, labels_val, predictions_val):\n",
        "  if label != prediction:\n",
        "    incorrect_max_logits.append(max_prob)\n",
        "  else:\n",
        "    correct_max_logits.append(max_prob)"
      ],
      "metadata": {
        "id": "2R9dI0hBg20z"
      },
      "execution_count": null,
      "outputs": []
    },
    {
      "cell_type": "code",
      "source": [
        "latent_states_oos, labels_oos, logits_oos = get_model_outputs(datasets_hf['oos'], model, batch_size, device)\n",
        "probs_oos = torch.nn.Softmax(dim=-1)(logits_val)\n",
        "max_probs_oos = torch.max(probs_oos, dim=-1)[0]"
      ],
      "metadata": {
        "id": "pXb6BFTAlA8s"
      },
      "execution_count": null,
      "outputs": []
    },
    {
      "cell_type": "code",
      "source": [
        "fig, ax = plt.subplots()\n",
        "ax.boxplot([correct_max_logits, incorrect_max_logits, max_probs_oos.numpy()])\n",
        "plt.show()"
      ],
      "metadata": {
        "id": "vEfQnPPjiIsw"
      },
      "execution_count": null,
      "outputs": []
    },
    {
      "cell_type": "code",
      "source": [
        "ks_2samp(incorrect_max_logits, correct_max_logits)"
      ],
      "metadata": {
        "id": "y--wiyDRjzRj"
      },
      "execution_count": null,
      "outputs": []
    },
    {
      "cell_type": "code",
      "source": [
        "fig, ax = plt.subplots()\n",
        "ax.boxplot([error.numpy() for error in errors.values()])\n",
        "ax.set_xticklabels(errors.keys())\n",
        "ax.set_ylabel('Distance')\n",
        "plt.show()"
      ],
      "metadata": {
        "id": "I7DKQ41tfRI1"
      },
      "execution_count": null,
      "outputs": []
    },
    {
      "cell_type": "code",
      "source": [
        "ks_2samp(errors['correct Simplex test'], errors['incorrect Simplex test'])"
      ],
      "metadata": {
        "id": "AbYJkrPsgFo6"
      },
      "execution_count": null,
      "outputs": []
    },
    {
      "cell_type": "code",
      "source": [
        ""
      ],
      "metadata": {
        "id": "HKVI-QFqgloM"
      },
      "execution_count": null,
      "outputs": []
    }
  ]
}