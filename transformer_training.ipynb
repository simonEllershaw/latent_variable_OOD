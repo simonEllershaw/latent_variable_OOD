{
  "nbformat": 4,
  "nbformat_minor": 0,
  "metadata": {
    "colab": {
      "name": "transformer_training.ipynb",
      "provenance": [],
      "collapsed_sections": [],
      "mount_file_id": "1QdLo9cxIYtSWlnDsTYo6NccHxD_NbNt1",
      "authorship_tag": "ABX9TyOXI+LMZ0Tm7XKLEwcHzZzJ",
      "include_colab_link": true
    },
    "kernelspec": {
      "name": "python3",
      "display_name": "Python 3"
    },
    "language_info": {
      "name": "python"
    },
    "accelerator": "GPU"
  },
  "cells": [
    {
      "cell_type": "markdown",
      "metadata": {
        "id": "view-in-github",
        "colab_type": "text"
      },
      "source": [
        "<a href=\"https://colab.research.google.com/github/simonEllershaw/latent_variable_OOD/blob/main/transformer_training.ipynb\" target=\"_parent\"><img src=\"https://colab.research.google.com/assets/colab-badge.svg\" alt=\"Open In Colab\"/></a>"
      ]
    },
    {
      "cell_type": "code",
      "execution_count": 1,
      "metadata": {
        "colab": {
          "base_uri": "https://localhost:8080/"
        },
        "id": "DvBiYfvE6O1G",
        "outputId": "36a15720-bdfd-4026-b637-1cc7dcad54bc"
      },
      "outputs": [
        {
          "output_type": "stream",
          "name": "stdout",
          "text": [
            "Requirement already satisfied: pip in /usr/local/lib/python3.7/dist-packages (21.1.3)\n",
            "Requirement already satisfied: transformers in /usr/local/lib/python3.7/dist-packages (4.16.2)\n",
            "Requirement already satisfied: torch in /usr/local/lib/python3.7/dist-packages (1.10.0+cu111)\n",
            "Requirement already satisfied: requests in /usr/local/lib/python3.7/dist-packages (from transformers) (2.23.0)\n",
            "Requirement already satisfied: regex!=2019.12.17 in /usr/local/lib/python3.7/dist-packages (from transformers) (2019.12.20)\n",
            "Requirement already satisfied: tqdm>=4.27 in /usr/local/lib/python3.7/dist-packages (from transformers) (4.62.3)\n",
            "Requirement already satisfied: huggingface-hub<1.0,>=0.1.0 in /usr/local/lib/python3.7/dist-packages (from transformers) (0.4.0)\n",
            "Requirement already satisfied: importlib-metadata in /usr/local/lib/python3.7/dist-packages (from transformers) (4.11.0)\n",
            "Requirement already satisfied: packaging>=20.0 in /usr/local/lib/python3.7/dist-packages (from transformers) (21.3)\n",
            "Requirement already satisfied: pyyaml>=5.1 in /usr/local/lib/python3.7/dist-packages (from transformers) (6.0)\n",
            "Requirement already satisfied: numpy>=1.17 in /usr/local/lib/python3.7/dist-packages (from transformers) (1.21.5)\n",
            "Requirement already satisfied: filelock in /usr/local/lib/python3.7/dist-packages (from transformers) (3.4.2)\n",
            "Requirement already satisfied: sacremoses in /usr/local/lib/python3.7/dist-packages (from transformers) (0.0.47)\n",
            "Requirement already satisfied: tokenizers!=0.11.3,>=0.10.1 in /usr/local/lib/python3.7/dist-packages (from transformers) (0.11.5)\n",
            "Requirement already satisfied: typing-extensions>=3.7.4.3 in /usr/local/lib/python3.7/dist-packages (from huggingface-hub<1.0,>=0.1.0->transformers) (3.10.0.2)\n",
            "Requirement already satisfied: pyparsing!=3.0.5,>=2.0.2 in /usr/local/lib/python3.7/dist-packages (from packaging>=20.0->transformers) (3.0.7)\n",
            "Requirement already satisfied: zipp>=0.5 in /usr/local/lib/python3.7/dist-packages (from importlib-metadata->transformers) (3.7.0)\n",
            "Requirement already satisfied: chardet<4,>=3.0.2 in /usr/local/lib/python3.7/dist-packages (from requests->transformers) (3.0.4)\n",
            "Requirement already satisfied: idna<3,>=2.5 in /usr/local/lib/python3.7/dist-packages (from requests->transformers) (2.10)\n",
            "Requirement already satisfied: urllib3!=1.25.0,!=1.25.1,<1.26,>=1.21.1 in /usr/local/lib/python3.7/dist-packages (from requests->transformers) (1.24.3)\n",
            "Requirement already satisfied: certifi>=2017.4.17 in /usr/local/lib/python3.7/dist-packages (from requests->transformers) (2021.10.8)\n",
            "Requirement already satisfied: click in /usr/local/lib/python3.7/dist-packages (from sacremoses->transformers) (7.1.2)\n",
            "Requirement already satisfied: six in /usr/local/lib/python3.7/dist-packages (from sacremoses->transformers) (1.15.0)\n",
            "Requirement already satisfied: joblib in /usr/local/lib/python3.7/dist-packages (from sacremoses->transformers) (1.1.0)\n"
          ]
        }
      ],
      "source": [
        "! pip install pip transformers torch\n",
        "# ! pip install -q kaggle"
      ]
    },
    {
      "cell_type": "code",
      "source": [
        "# ! mkdir ~/.kaggle\n",
        "# ! cp kaggle.json ~/.kaggle/\n",
        "# ! chmod 600 ~/.kaggle/kaggle.json"
      ],
      "metadata": {
        "id": "v1HaE2L98QYs"
      },
      "execution_count": 2,
      "outputs": []
    },
    {
      "cell_type": "code",
      "source": [
        "# ! kaggle datasets download tboyle10/medicaltranscriptions -p data/\n",
        "# ! unzip data/clinc150_uci.zip -d data"
      ],
      "metadata": {
        "id": "L_m6ZPt-9ZD1"
      },
      "execution_count": 3,
      "outputs": []
    },
    {
      "cell_type": "code",
      "source": [
        "import json\n",
        "with open('/content/data/clinc150_uci/data_full.json') as f:\n",
        "  data = json.load(f)"
      ],
      "metadata": {
        "id": "2KCl3NUu8Ovl"
      },
      "execution_count": 4,
      "outputs": []
    },
    {
      "cell_type": "code",
      "source": [
        "data.keys()"
      ],
      "metadata": {
        "colab": {
          "base_uri": "https://localhost:8080/"
        },
        "id": "fcxfnd8N9BSh",
        "outputId": "bc18c3b4-d8f8-4187-e9a1-8f97eda39d38"
      },
      "execution_count": 5,
      "outputs": [
        {
          "output_type": "execute_result",
          "data": {
            "text/plain": [
              "dict_keys(['oos_val', 'val', 'train', 'oos_test', 'test', 'oos_train'])"
            ]
          },
          "metadata": {},
          "execution_count": 5
        }
      ]
    },
    {
      "cell_type": "code",
      "source": [
        "data['oos_train'][:10]"
      ],
      "metadata": {
        "colab": {
          "base_uri": "https://localhost:8080/"
        },
        "id": "VVgCH5yjPBGk",
        "outputId": "0b7b5918-461b-4202-c49e-e6d3b20725be"
      },
      "execution_count": 6,
      "outputs": [
        {
          "output_type": "execute_result",
          "data": {
            "text/plain": [
              "[['how much is an overdraft fee for bank', 'oos'],\n",
              " ['why are exponents preformed before multiplication in the order of operations',\n",
              "  'oos'],\n",
              " ['what size wipers does this car take', 'oos'],\n",
              " ['where is the dipstick', 'oos'],\n",
              " ['how much is 1 share of aapl', 'oos'],\n",
              " ['how is glue made', 'oos'],\n",
              " ['any headlines from my area', 'oos'],\n",
              " ['what is the largest state in the us', 'oos'],\n",
              " ['what is the current market trend', 'oos'],\n",
              " ['what is the most popular airline', 'oos']]"
            ]
          },
          "metadata": {},
          "execution_count": 6
        }
      ]
    },
    {
      "cell_type": "code",
      "source": [
        "ood_keys = [key for key in data.keys() if 'oos' in key]\n",
        "data['oos'] = []\n",
        "for key in ood_keys:\n",
        "  data['oos'] += data.pop(key)"
      ],
      "metadata": {
        "id": "9QrzPiSzOOPv"
      },
      "execution_count": 7,
      "outputs": []
    },
    {
      "cell_type": "code",
      "source": [
        "data['train'][:10]"
      ],
      "metadata": {
        "colab": {
          "base_uri": "https://localhost:8080/"
        },
        "id": "xmjNobSU967f",
        "outputId": "e617d29e-f8d5-4b87-e2d0-586c2695bb0e"
      },
      "execution_count": 8,
      "outputs": [
        {
          "output_type": "execute_result",
          "data": {
            "text/plain": [
              "[['what expression would i use to say i love you if i were an italian',\n",
              "  'translate'],\n",
              " [\"can you tell me how to say 'i do not speak much spanish', in spanish\",\n",
              "  'translate'],\n",
              " [\"what is the equivalent of, 'life is good' in french\", 'translate'],\n",
              " [\"tell me how to say, 'it is a beautiful morning' in italian\", 'translate'],\n",
              " ['if i were mongolian, how would i say that i am a tourist', 'translate'],\n",
              " [\"how do i say 'hotel' in finnish\", 'translate'],\n",
              " [\"i need you to translate the sentence, 'we will be there soon' into portuguese\",\n",
              "  'translate'],\n",
              " ['please tell me how to ask for a taxi in french', 'translate'],\n",
              " [\"can you tell me how i would say, 'more bread please' in french\",\n",
              "  'translate'],\n",
              " [\"what is the correct way to say 'i am a visitor' in french\", 'translate']]"
            ]
          },
          "metadata": {},
          "execution_count": 8
        }
      ]
    },
    {
      "cell_type": "code",
      "source": [
        "data['oos'][:10]"
      ],
      "metadata": {
        "colab": {
          "base_uri": "https://localhost:8080/"
        },
        "id": "jvdke6g4O1IR",
        "outputId": "1ff8b09f-694b-4b5d-ad68-7995c161f111"
      },
      "execution_count": 9,
      "outputs": [
        {
          "output_type": "execute_result",
          "data": {
            "text/plain": [
              "[['set a warning for when my bank account starts running low', 'oos'],\n",
              " ['a show on broadway', 'oos'],\n",
              " ['who has the best record in the nfl', 'oos'],\n",
              " ['how do i find the area of a circle', 'oos'],\n",
              " ['how many onions do i have on hand', 'oos'],\n",
              " ['what is the name of the 13th president', 'oos'],\n",
              " ['show me recent activity in my backyard', 'oos'],\n",
              " ['how long will it take me to pay off my card if i pay an extra $50 a month over the minimum',\n",
              "  'oos'],\n",
              " ['does our bank have free notary', 'oos'],\n",
              " ['what were the top stories this week', 'oos']]"
            ]
          },
          "metadata": {},
          "execution_count": 9
        }
      ]
    },
    {
      "cell_type": "code",
      "source": [
        "from transformers import AutoTokenizer, DataCollatorWithPadding\n",
        "\n",
        "checkpoint = \"roberta-base\"\n",
        "tokenizer = AutoTokenizer.from_pretrained(checkpoint)\n",
        "data_collator = DataCollatorWithPadding(tokenizer)"
      ],
      "metadata": {
        "id": "0HRmKobDILmH"
      },
      "execution_count": 10,
      "outputs": []
    },
    {
      "cell_type": "code",
      "source": [
        "from torch.utils.data import Dataset\n",
        "\n",
        "class HuggingFaceDataset(Dataset):\n",
        "  def __init__(self, label2id, tokenizer, texts, labels=None, subset=None):\n",
        "    self._dict = tokenizer(texts, truncation=True)\n",
        "    if labels is not None:\n",
        "      self._dict['labels'] = [label2id[label] for label in labels]\n",
        "\n",
        "  def __len__(self):\n",
        "        return len(self._dict[\"input_ids\"])\n",
        "\n",
        "  def __getitem__(self, idx):\n",
        "      return {k: v[idx] for k, v in self._dict.items()}\n",
        "\n",
        "label_names = sorted({label for _, label in data['train']})\n",
        "id2label = dict(enumerate(sorted(label_names)))\n",
        "label2id = {v: k for k, v in id2label.items()}\n",
        "\n",
        "datasets_hf = {}\n",
        "for key, dataset in data.items():\n",
        "  texts, labels = map(list,zip(*dataset))\n",
        "  if labels[0] == 'oos':\n",
        "    labels = None\n",
        "  datasets_hf[key] = HuggingFaceDataset(label2id, tokenizer, texts, labels) "
      ],
      "metadata": {
        "id": "-lmnAdNNEjqi"
      },
      "execution_count": 11,
      "outputs": []
    },
    {
      "cell_type": "code",
      "source": [
        "for key, dataset in datasets_hf.items():\n",
        "  print(key, len(dataset))"
      ],
      "metadata": {
        "colab": {
          "base_uri": "https://localhost:8080/"
        },
        "id": "TvZ2D0kpQVYk",
        "outputId": "f4be125d-96b9-49a2-fb24-a4d0433c4b5b"
      },
      "execution_count": 12,
      "outputs": [
        {
          "output_type": "stream",
          "name": "stdout",
          "text": [
            "val 3000\n",
            "train 15000\n",
            "test 4500\n",
            "oos 1200\n"
          ]
        }
      ]
    },
    {
      "cell_type": "code",
      "source": [
        "import matplotlib.pyplot as plt\n",
        "plt.hist([len(sample['input_ids']) for sample in datasets_hf['train']])"
      ],
      "metadata": {
        "colab": {
          "base_uri": "https://localhost:8080/",
          "height": 334
        },
        "id": "ueVQCkDht6Yk",
        "outputId": "9145e415-a33c-4f86-df88-e6094ea9f9ac"
      },
      "execution_count": 13,
      "outputs": [
        {
          "output_type": "execute_result",
          "data": {
            "text/plain": [
              "(array([1.013e+03, 4.410e+03, 6.366e+03, 2.022e+03, 7.220e+02, 3.610e+02,\n",
              "        6.800e+01, 3.200e+01, 4.000e+00, 2.000e+00]),\n",
              " array([ 3. ,  6.4,  9.8, 13.2, 16.6, 20. , 23.4, 26.8, 30.2, 33.6, 37. ]),\n",
              " <a list of 10 Patch objects>)"
            ]
          },
          "metadata": {},
          "execution_count": 13
        },
        {
          "output_type": "display_data",
          "data": {
            "image/png": "[encoded data removed]",
            "text/plain": [
              "<Figure size 432x288 with 1 Axes>"
            ]
          },
          "metadata": {
            "needs_background": "light"
          }
        }
      ]
    },
    {
      "cell_type": "code",
      "source": [
        "from transformers import AutoModelForSequenceClassification\n",
        "\n",
        "model = AutoModelForSequenceClassification.from_pretrained(\n",
        "    checkpoint,\n",
        "    id2label=id2label,\n",
        "    label2id=label2id,\n",
        ")"
      ],
      "metadata": {
        "colab": {
          "base_uri": "https://localhost:8080/"
        },
        "id": "no8WjPFcRsKd",
        "outputId": "e12460ca-1c34-4994-b3ec-6509d1b5d51c"
      },
      "execution_count": 14,
      "outputs": [
        {
          "output_type": "stream",
          "name": "stderr",
          "text": [
            "Some weights of the model checkpoint at roberta-base were not used when initializing RobertaForSequenceClassification: ['roberta.pooler.dense.bias', 'lm_head.dense.weight', 'lm_head.decoder.weight', 'lm_head.dense.bias', 'lm_head.layer_norm.weight', 'lm_head.layer_norm.bias', 'lm_head.bias', 'roberta.pooler.dense.weight']\n",
            "- This IS expected if you are initializing RobertaForSequenceClassification from the checkpoint of a model trained on another task or with another architecture (e.g. initializing a BertForSequenceClassification model from a BertForPreTraining model).\n",
            "- This IS NOT expected if you are initializing RobertaForSequenceClassification from the checkpoint of a model that you expect to be exactly identical (initializing a BertForSequenceClassification model from a BertForSequenceClassification model).\n",
            "Some weights of RobertaForSequenceClassification were not initialized from the model checkpoint at roberta-base and are newly initialized: ['classifier.out_proj.bias', 'classifier.dense.weight', 'classifier.out_proj.weight', 'classifier.dense.bias']\n",
            "You should probably TRAIN this model on a down-stream task to be able to use it for predictions and inference.\n"
          ]
        }
      ]
    },
    {
      "cell_type": "code",
      "source": [
        "from transformers import TrainingArguments\n",
        "\n",
        "batch_size=32\n",
        "args = TrainingArguments(\n",
        "    \"inscope_text_classification\",\n",
        "    per_device_train_batch_size=batch_size,\n",
        "    per_device_eval_batch_size=batch_size,\n",
        "    evaluation_strategy=\"epoch\",\n",
        "    save_strategy=\"epoch\",\n",
        "    logging_strategy=\"epoch\",\n",
        "    learning_rate=5e-5,\n",
        "    num_train_epochs=10,\n",
        "    weight_decay=0.01,\n",
        "    group_by_length=True,\n",
        "    warmup_ratio=0.1,\n",
        "    load_best_model_at_end=True\n",
        ")\n"
      ],
      "metadata": {
        "id": "w1tvUeaNR4eo"
      },
      "execution_count": 15,
      "outputs": []
    },
    {
      "cell_type": "code",
      "source": [
        "from sklearn.metrics import precision_recall_fscore_support\n",
        "import numpy as np\n",
        "\n",
        "def compute_metrics(eval_pred):\n",
        "  \"\"\"Called to compute validation metrics at each evaluation step of training.\"\"\"\n",
        "  logits, labels = eval_pred\n",
        "  labels = labels.flatten()\n",
        "  predictions = np.argmax(logits, axis=-1).flatten()\n",
        "\n",
        "  precision, recall, f1, _ = precision_recall_fscore_support(\n",
        "      labels, predictions, average='macro', zero_division=0\n",
        "  )\n",
        "  metrics = {\"f1\": f1, \"precision\": precision, \"recall\": recall}\n",
        "  return metrics"
      ],
      "metadata": {
        "id": "N37ouBZxS4hs"
      },
      "execution_count": 16,
      "outputs": []
    },
    {
      "cell_type": "code",
      "source": [
        "from transformers import Trainer, DataCollatorWithPadding, EarlyStoppingCallback\n",
        "\n",
        "trainer = Trainer(\n",
        "    model=model,\n",
        "    args=args,\n",
        "    train_dataset=datasets_hf['train'],\n",
        "    eval_dataset=datasets_hf['val'],\n",
        "    data_collator=data_collator,\n",
        "    compute_metrics=compute_metrics,\n",
        "    callbacks=[EarlyStoppingCallback(early_stopping_patience=3)],\n",
        ")\n",
        "# trainer.train()"
      ],
      "metadata": {
        "id": "IStnRUjESgUZ"
      },
      "execution_count": 17,
      "outputs": []
    },
    {
      "cell_type": "code",
      "source": [
        "model = AutoModelForSequenceClassification.from_pretrained('/content/models/inscope_text_classification/checkpoint-3283')"
      ],
      "metadata": {
        "colab": {
          "base_uri": "https://localhost:8080/"
        },
        "id": "G-kch_koQ5LW",
        "outputId": "3cf45c53-1d1c-4141-9f79-3f7c724c0701"
      },
      "execution_count": 18,
      "outputs": [
        {
          "output_type": "stream",
          "name": "stderr",
          "text": [
            "loading configuration file /content/models/inscope_text_classification/checkpoint-3283/config.json\n",
            "Model config RobertaConfig {\n",
            "  \"_name_or_path\": \"/content/models/inscope_text_classification/checkpoint-3283\",\n",
            "  \"architectures\": [\n",
            "    \"RobertaForSequenceClassification\"\n",
            "  ],\n",
            "  \"attention_probs_dropout_prob\": 0.1,\n",
            "  \"bos_token_id\": 0,\n",
            "  \"classifier_dropout\": null,\n",
            "  \"eos_token_id\": 2,\n",
            "  \"hidden_act\": \"gelu\",\n",
            "  \"hidden_dropout_prob\": 0.1,\n",
            "  \"hidden_size\": 768,\n",
            "  \"id2label\": {\n",
            "    \"0\": \"accept_reservations\",\n",
            "    \"1\": \"account_blocked\",\n",
            "    \"2\": \"alarm\",\n",
            "    \"3\": \"application_status\",\n",
            "    \"4\": \"apr\",\n",
            "    \"5\": \"are_you_a_bot\",\n",
            "    \"6\": \"balance\",\n",
            "    \"7\": \"bill_balance\",\n",
            "    \"8\": \"bill_due\",\n",
            "    \"9\": \"book_flight\",\n",
            "    \"10\": \"book_hotel\",\n",
            "    \"11\": \"calculator\",\n",
            "    \"12\": \"calendar\",\n",
            "    \"13\": \"calendar_update\",\n",
            "    \"14\": \"calories\",\n",
            "    \"15\": \"cancel\",\n",
            "    \"16\": \"cancel_reservation\",\n",
            "    \"17\": \"car_rental\",\n",
            "    \"18\": \"card_declined\",\n",
            "    \"19\": \"carry_on\",\n",
            "    \"20\": \"change_accent\",\n",
            "    \"21\": \"change_ai_name\",\n",
            "    \"22\": \"change_language\",\n",
            "    \"23\": \"change_speed\",\n",
            "    \"24\": \"change_user_name\",\n",
            "    \"25\": \"change_volume\",\n",
            "    \"26\": \"confirm_reservation\",\n",
            "    \"27\": \"cook_time\",\n",
            "    \"28\": \"credit_limit\",\n",
            "    \"29\": \"credit_limit_change\",\n",
            "    \"30\": \"credit_score\",\n",
            "    \"31\": \"current_location\",\n",
            "    \"32\": \"damaged_card\",\n",
            "    \"33\": \"date\",\n",
            "    \"34\": \"definition\",\n",
            "    \"35\": \"direct_deposit\",\n",
            "    \"36\": \"directions\",\n",
            "    \"37\": \"distance\",\n",
            "    \"38\": \"do_you_have_pets\",\n",
            "    \"39\": \"exchange_rate\",\n",
            "    \"40\": \"expiration_date\",\n",
            "    \"41\": \"find_phone\",\n",
            "    \"42\": \"flight_status\",\n",
            "    \"43\": \"flip_coin\",\n",
            "    \"44\": \"food_last\",\n",
            "    \"45\": \"freeze_account\",\n",
            "    \"46\": \"fun_fact\",\n",
            "    \"47\": \"gas\",\n",
            "    \"48\": \"gas_type\",\n",
            "    \"49\": \"goodbye\",\n",
            "    \"50\": \"greeting\",\n",
            "    \"51\": \"how_busy\",\n",
            "    \"52\": \"how_old_are_you\",\n",
            "    \"53\": \"improve_credit_score\",\n",
            "    \"54\": \"income\",\n",
            "    \"55\": \"ingredient_substitution\",\n",
            "    \"56\": \"ingredients_list\",\n",
            "    \"57\": \"insurance\",\n",
            "    \"58\": \"insurance_change\",\n",
            "    \"59\": \"interest_rate\",\n",
            "    \"60\": \"international_fees\",\n",
            "    \"61\": \"international_visa\",\n",
            "    \"62\": \"jump_start\",\n",
            "    \"63\": \"last_maintenance\",\n",
            "    \"64\": \"lost_luggage\",\n",
            "    \"65\": \"make_call\",\n",
            "    \"66\": \"maybe\",\n",
            "    \"67\": \"meal_suggestion\",\n",
            "    \"68\": \"meaning_of_life\",\n",
            "    \"69\": \"measurement_conversion\",\n",
            "    \"70\": \"meeting_schedule\",\n",
            "    \"71\": \"min_payment\",\n",
            "    \"72\": \"mpg\",\n",
            "    \"73\": \"new_card\",\n",
            "    \"74\": \"next_holiday\",\n",
            "    \"75\": \"next_song\",\n",
            "    \"76\": \"no\",\n",
            "    \"77\": \"nutrition_info\",\n",
            "    \"78\": \"oil_change_how\",\n",
            "    \"79\": \"oil_change_when\",\n",
            "    \"80\": \"order\",\n",
            "    \"81\": \"order_checks\",\n",
            "    \"82\": \"order_status\",\n",
            "    \"83\": \"pay_bill\",\n",
            "    \"84\": \"payday\",\n",
            "    \"85\": \"pin_change\",\n",
            "    \"86\": \"play_music\",\n",
            "    \"87\": \"plug_type\",\n",
            "    \"88\": \"pto_balance\",\n",
            "    \"89\": \"pto_request\",\n",
            "    \"90\": \"pto_request_status\",\n",
            "    \"91\": \"pto_used\",\n",
            "    \"92\": \"recipe\",\n",
            "    \"93\": \"redeem_rewards\",\n",
            "    \"94\": \"reminder\",\n",
            "    \"95\": \"reminder_update\",\n",
            "    \"96\": \"repeat\",\n",
            "    \"97\": \"replacement_card_duration\",\n",
            "    \"98\": \"report_fraud\",\n",
            "    \"99\": \"report_lost_card\",\n",
            "    \"100\": \"reset_settings\",\n",
            "    \"101\": \"restaurant_reservation\",\n",
            "    \"102\": \"restaurant_reviews\",\n",
            "    \"103\": \"restaurant_suggestion\",\n",
            "    \"104\": \"rewards_balance\",\n",
            "    \"105\": \"roll_dice\",\n",
            "    \"106\": \"rollover_401k\",\n",
            "    \"107\": \"routing\",\n",
            "    \"108\": \"schedule_maintenance\",\n",
            "    \"109\": \"schedule_meeting\",\n",
            "    \"110\": \"share_location\",\n",
            "    \"111\": \"shopping_list\",\n",
            "    \"112\": \"shopping_list_update\",\n",
            "    \"113\": \"smart_home\",\n",
            "    \"114\": \"spelling\",\n",
            "    \"115\": \"spending_history\",\n",
            "    \"116\": \"sync_device\",\n",
            "    \"117\": \"taxes\",\n",
            "    \"118\": \"tell_joke\",\n",
            "    \"119\": \"text\",\n",
            "    \"120\": \"thank_you\",\n",
            "    \"121\": \"time\",\n",
            "    \"122\": \"timer\",\n",
            "    \"123\": \"timezone\",\n",
            "    \"124\": \"tire_change\",\n",
            "    \"125\": \"tire_pressure\",\n",
            "    \"126\": \"todo_list\",\n",
            "    \"127\": \"todo_list_update\",\n",
            "    \"128\": \"traffic\",\n",
            "    \"129\": \"transactions\",\n",
            "    \"130\": \"transfer\",\n",
            "    \"131\": \"translate\",\n",
            "    \"132\": \"travel_alert\",\n",
            "    \"133\": \"travel_notification\",\n",
            "    \"134\": \"travel_suggestion\",\n",
            "    \"135\": \"uber\",\n",
            "    \"136\": \"update_playlist\",\n",
            "    \"137\": \"user_name\",\n",
            "    \"138\": \"vaccines\",\n",
            "    \"139\": \"w2\",\n",
            "    \"140\": \"weather\",\n",
            "    \"141\": \"what_are_your_hobbies\",\n",
            "    \"142\": \"what_can_i_ask_you\",\n",
            "    \"143\": \"what_is_your_name\",\n",
            "    \"144\": \"what_song\",\n",
            "    \"145\": \"where_are_you_from\",\n",
            "    \"146\": \"whisper_mode\",\n",
            "    \"147\": \"who_do_you_work_for\",\n",
            "    \"148\": \"who_made_you\",\n",
            "    \"149\": \"yes\"\n",
            "  },\n",
            "  \"initializer_range\": 0.02,\n",
            "  \"intermediate_size\": 3072,\n",
            "  \"label2id\": {\n",
            "    \"accept_reservations\": 0,\n",
            "    \"account_blocked\": 1,\n",
            "    \"alarm\": 2,\n",
            "    \"application_status\": 3,\n",
            "    \"apr\": 4,\n",
            "    \"are_you_a_bot\": 5,\n",
            "    \"balance\": 6,\n",
            "    \"bill_balance\": 7,\n",
            "    \"bill_due\": 8,\n",
            "    \"book_flight\": 9,\n",
            "    \"book_hotel\": 10,\n",
            "    \"calculator\": 11,\n",
            "    \"calendar\": 12,\n",
            "    \"calendar_update\": 13,\n",
            "    \"calories\": 14,\n",
            "    \"cancel\": 15,\n",
            "    \"cancel_reservation\": 16,\n",
            "    \"car_rental\": 17,\n",
            "    \"card_declined\": 18,\n",
            "    \"carry_on\": 19,\n",
            "    \"change_accent\": 20,\n",
            "    \"change_ai_name\": 21,\n",
            "    \"change_language\": 22,\n",
            "    \"change_speed\": 23,\n",
            "    \"change_user_name\": 24,\n",
            "    \"change_volume\": 25,\n",
            "    \"confirm_reservation\": 26,\n",
            "    \"cook_time\": 27,\n",
            "    \"credit_limit\": 28,\n",
            "    \"credit_limit_change\": 29,\n",
            "    \"credit_score\": 30,\n",
            "    \"current_location\": 31,\n",
            "    \"damaged_card\": 32,\n",
            "    \"date\": 33,\n",
            "    \"definition\": 34,\n",
            "    \"direct_deposit\": 35,\n",
            "    \"directions\": 36,\n",
            "    \"distance\": 37,\n",
            "    \"do_you_have_pets\": 38,\n",
            "    \"exchange_rate\": 39,\n",
            "    \"expiration_date\": 40,\n",
            "    \"find_phone\": 41,\n",
            "    \"flight_status\": 42,\n",
            "    \"flip_coin\": 43,\n",
            "    \"food_last\": 44,\n",
            "    \"freeze_account\": 45,\n",
            "    \"fun_fact\": 46,\n",
            "    \"gas\": 47,\n",
            "    \"gas_type\": 48,\n",
            "    \"goodbye\": 49,\n",
            "    \"greeting\": 50,\n",
            "    \"how_busy\": 51,\n",
            "    \"how_old_are_you\": 52,\n",
            "    \"improve_credit_score\": 53,\n",
            "    \"income\": 54,\n",
            "    \"ingredient_substitution\": 55,\n",
            "    \"ingredients_list\": 56,\n",
            "    \"insurance\": 57,\n",
            "    \"insurance_change\": 58,\n",
            "    \"interest_rate\": 59,\n",
            "    \"international_fees\": 60,\n",
            "    \"international_visa\": 61,\n",
            "    \"jump_start\": 62,\n",
            "    \"last_maintenance\": 63,\n",
            "    \"lost_luggage\": 64,\n",
            "    \"make_call\": 65,\n",
            "    \"maybe\": 66,\n",
            "    \"meal_suggestion\": 67,\n",
            "    \"meaning_of_life\": 68,\n",
            "    \"measurement_conversion\": 69,\n",
            "    \"meeting_schedule\": 70,\n",
            "    \"min_payment\": 71,\n",
            "    \"mpg\": 72,\n",
            "    \"new_card\": 73,\n",
            "    \"next_holiday\": 74,\n",
            "    \"next_song\": 75,\n",
            "    \"no\": 76,\n",
            "    \"nutrition_info\": 77,\n",
            "    \"oil_change_how\": 78,\n",
            "    \"oil_change_when\": 79,\n",
            "    \"order\": 80,\n",
            "    \"order_checks\": 81,\n",
            "    \"order_status\": 82,\n",
            "    \"pay_bill\": 83,\n",
            "    \"payday\": 84,\n",
            "    \"pin_change\": 85,\n",
            "    \"play_music\": 86,\n",
            "    \"plug_type\": 87,\n",
            "    \"pto_balance\": 88,\n",
            "    \"pto_request\": 89,\n",
            "    \"pto_request_status\": 90,\n",
            "    \"pto_used\": 91,\n",
            "    \"recipe\": 92,\n",
            "    \"redeem_rewards\": 93,\n",
            "    \"reminder\": 94,\n",
            "    \"reminder_update\": 95,\n",
            "    \"repeat\": 96,\n",
            "    \"replacement_card_duration\": 97,\n",
            "    \"report_fraud\": 98,\n",
            "    \"report_lost_card\": 99,\n",
            "    \"reset_settings\": 100,\n",
            "    \"restaurant_reservation\": 101,\n",
            "    \"restaurant_reviews\": 102,\n",
            "    \"restaurant_suggestion\": 103,\n",
            "    \"rewards_balance\": 104,\n",
            "    \"roll_dice\": 105,\n",
            "    \"rollover_401k\": 106,\n",
            "    \"routing\": 107,\n",
            "    \"schedule_maintenance\": 108,\n",
            "    \"schedule_meeting\": 109,\n",
            "    \"share_location\": 110,\n",
            "    \"shopping_list\": 111,\n",
            "    \"shopping_list_update\": 112,\n",
            "    \"smart_home\": 113,\n",
            "    \"spelling\": 114,\n",
            "    \"spending_history\": 115,\n",
            "    \"sync_device\": 116,\n",
            "    \"taxes\": 117,\n",
            "    \"tell_joke\": 118,\n",
            "    \"text\": 119,\n",
            "    \"thank_you\": 120,\n",
            "    \"time\": 121,\n",
            "    \"timer\": 122,\n",
            "    \"timezone\": 123,\n",
            "    \"tire_change\": 124,\n",
            "    \"tire_pressure\": 125,\n",
            "    \"todo_list\": 126,\n",
            "    \"todo_list_update\": 127,\n",
            "    \"traffic\": 128,\n",
            "    \"transactions\": 129,\n",
            "    \"transfer\": 130,\n",
            "    \"translate\": 131,\n",
            "    \"travel_alert\": 132,\n",
            "    \"travel_notification\": 133,\n",
            "    \"travel_suggestion\": 134,\n",
            "    \"uber\": 135,\n",
            "    \"update_playlist\": 136,\n",
            "    \"user_name\": 137,\n",
            "    \"vaccines\": 138,\n",
            "    \"w2\": 139,\n",
            "    \"weather\": 140,\n",
            "    \"what_are_your_hobbies\": 141,\n",
            "    \"what_can_i_ask_you\": 142,\n",
            "    \"what_is_your_name\": 143,\n",
            "    \"what_song\": 144,\n",
            "    \"where_are_you_from\": 145,\n",
            "    \"whisper_mode\": 146,\n",
            "    \"who_do_you_work_for\": 147,\n",
            "    \"who_made_you\": 148,\n",
            "    \"yes\": 149\n",
            "  },\n",
            "  \"layer_norm_eps\": 1e-05,\n",
            "  \"max_position_embeddings\": 514,\n",
            "  \"model_type\": \"roberta\",\n",
            "  \"num_attention_heads\": 12,\n",
            "  \"num_hidden_layers\": 12,\n",
            "  \"pad_token_id\": 1,\n",
            "  \"position_embedding_type\": \"absolute\",\n",
            "  \"problem_type\": \"single_label_classification\",\n",
            "  \"torch_dtype\": \"float32\",\n",
            "  \"transformers_version\": \"4.16.2\",\n",
            "  \"type_vocab_size\": 1,\n",
            "  \"use_cache\": true,\n",
            "  \"vocab_size\": 50265\n",
            "}\n",
            "\n",
            "loading weights file /content/models/inscope_text_classification/checkpoint-3283/pytorch_model.bin\n",
            "All model checkpoint weights were used when initializing RobertaForSequenceClassification.\n",
            "\n",
            "All the weights of RobertaForSequenceClassification were initialized from the model checkpoint at /content/models/inscope_text_classification/checkpoint-3283.\n",
            "If your task is similar to the task the model of the checkpoint was trained on, you can already use RobertaForSequenceClassification for predictions without further training.\n"
          ]
        }
      ]
    },
    {
      "cell_type": "code",
      "source": [
        "import torch\n",
        "\n",
        "def get_final_class_token_state(dataset_hf, model, batch_size, device):\n",
        "  model.to(device)\n",
        "  model.eval()\n",
        "  dataloader = torch.utils.data.DataLoader(\n",
        "      dataset_hf, batch_size=batch_size, collate_fn=data_collator\n",
        "  )\n",
        "\n",
        "  latent_states = torch.zeros(len(dataset_hf), model.config.hidden_size)\n",
        "  with torch.set_grad_enabled(False):\n",
        "      for idx, batch in zip(range(0, len(dataset_hf), batch_size), dataloader):\n",
        "          batch.pop(\"labels\", default=None)\n",
        "          batch = {k: v.to(device) for k, v in batch.items()}\n",
        "          output = model(**batch, output_hidden_states=True)\n",
        "          latent_states[idx:idx+batch_size] = output['hidden_states'][-1][:,0].detach()\n",
        "  \n",
        "  return latent_states\n",
        "       "
      ],
      "metadata": {
        "id": "bqe12pbVRGIB"
      },
      "execution_count": 19,
      "outputs": []
    },
    {
      "cell_type": "code",
      "source": [
        "import random\n",
        "RANDOM_SEED = 23\n",
        "SUB_SAMPLE_SIZE=1000\n",
        "\n",
        "with open('/content/data/clinc150_uci/data_full.json') as f:\n",
        "  data = json.load(f)\n",
        "ood_keys = [key for key in data.keys() if 'oos' in key]\n",
        "data['oos'] = []\n",
        "for key in ood_keys:\n",
        "  data['oos'] += data.pop(key)\n",
        "\n",
        "random.seed(RANDOM_SEED)\n",
        "sub_sample_data_train = random.sample(data['train'], SUB_SAMPLE_SIZE)\n",
        "texts, labels = map(list,zip(*sub_sample_data_train))\n",
        "datasets_hf['train'] = HuggingFaceDataset(label2id, tokenizer, texts)"
      ],
      "metadata": {
        "id": "gXJrD7ktePkE"
      },
      "execution_count": 24,
      "outputs": []
    },
    {
      "cell_type": "code",
      "source": [
        "device = 'cuda:0' if torch.cuda.is_available() else 'cpu'\n",
        "latent_states = {k: get_final_class_token_state(dataset, model, batch_size, device) for k, dataset in datasets_hf.items()}"
      ],
      "metadata": {
        "id": "jrD34CXKTnAk"
      },
      "execution_count": 25,
      "outputs": []
    },
    {
      "cell_type": "code",
      "source": [
        "for k, state in latent_states.items():\n",
        "  print(k, state.size())"
      ],
      "metadata": {
        "colab": {
          "base_uri": "https://localhost:8080/"
        },
        "id": "CSeyyBeWZ5cL",
        "outputId": "fe6aae09-c8fb-4435-e315-d12365ddeb26"
      },
      "execution_count": 26,
      "outputs": [
        {
          "output_type": "stream",
          "name": "stdout",
          "text": [
            "val torch.Size([3000, 768])\n",
            "train torch.Size([1000, 768])\n",
            "test torch.Size([4500, 768])\n",
            "oos torch.Size([1200, 768])\n"
          ]
        }
      ]
    },
    {
      "cell_type": "code",
      "source": [
        "from explainers.simplex import Simplex\n",
        "from utils.schedulers import ExponentialScheduler\n",
        "\n",
        "fit_keys=['val', 'test', 'oos']\n",
        "explainers = {}\n",
        "N_KEEP = 10\n",
        "\n",
        "model_name = 'Simplex'\n",
        "model_names=[model_name]\n",
        "\n",
        "for key in fit_keys:\n",
        "  simplex = Simplex(latent_states['train'].to(device).detach())\n",
        "  latent_state = latent_states[key]\n",
        "  reg_factor_scheduler = ExponentialScheduler(0.1, 100, 10000)\n",
        "  simplex.fit(\n",
        "        latent_state.to(device).detach(), \n",
        "        n_epoch=10000,\n",
        "        reg_factor=0.1, \n",
        "        n_keep=N_KEEP,\n",
        "        reg_factor_scheduler=reg_factor_scheduler,\n",
        "      )\n",
        "  simplex.plot_hist()\n",
        "  explainers[f\"{model_name} {key}\"] = simplex\n",
        "  "
      ],
      "metadata": {
        "colab": {
          "base_uri": "https://localhost:8080/",
          "height": 1000
        },
        "id": "KdJCgnWTjG-a",
        "outputId": "594daf7e-90fe-467c-d97b-526c51fb1cae"
      },
      "execution_count": 27,
      "outputs": [
        {
          "output_type": "stream",
          "name": "stdout",
          "text": [
            "0\n",
            "500\n",
            "1000\n",
            "1500\n",
            "Weight Fitting Epoch: 2000/10000 ; Error: 5.77e+05 ; Regulator: 1.76e+03 ; Reg Factor: 0.398\n",
            "2000\n",
            "2500\n",
            "3000\n",
            "3500\n",
            "Weight Fitting Epoch: 4000/10000 ; Error: 6.89e+04 ; Regulator: 414 ; Reg Factor: 1.58\n",
            "4000\n",
            "4500\n",
            "5000\n",
            "5500\n",
            "Weight Fitting Epoch: 6000/10000 ; Error: 4.8e+04 ; Regulator: 197 ; Reg Factor: 6.31\n",
            "6000\n",
            "6500\n",
            "7000\n",
            "7500\n",
            "Weight Fitting Epoch: 8000/10000 ; Error: 4.17e+04 ; Regulator: 85 ; Reg Factor: 25.1\n",
            "8000\n",
            "8500\n",
            "9000\n",
            "9500\n",
            "Weight Fitting Epoch: 10000/10000 ; Error: 3.97e+04 ; Regulator: 24.5 ; Reg Factor: 99.9\n"
          ]
        },
        {
          "output_type": "display_data",
          "data": {
            "image/png": "[encoded data removed]",
            "text/plain": [
              "<Figure size 432x288 with 2 Axes>"
            ]
          },
          "metadata": {}
        },
        {
          "output_type": "stream",
          "name": "stdout",
          "text": [
            "0\n",
            "500\n",
            "1000\n",
            "1500\n",
            "Weight Fitting Epoch: 2000/10000 ; Error: 8.67e+05 ; Regulator: 2.64e+03 ; Reg Factor: 0.398\n",
            "2000\n",
            "2500\n",
            "3000\n",
            "3500\n",
            "Weight Fitting Epoch: 4000/10000 ; Error: 1.03e+05 ; Regulator: 621 ; Reg Factor: 1.58\n",
            "4000\n",
            "4500\n",
            "5000\n",
            "5500\n",
            "Weight Fitting Epoch: 6000/10000 ; Error: 7.19e+04 ; Regulator: 296 ; Reg Factor: 6.31\n",
            "6000\n",
            "6500\n",
            "7000\n",
            "7500\n",
            "Weight Fitting Epoch: 8000/10000 ; Error: 6.25e+04 ; Regulator: 127 ; Reg Factor: 25.1\n",
            "8000\n",
            "8500\n",
            "9000\n",
            "9500\n",
            "Weight Fitting Epoch: 10000/10000 ; Error: 5.95e+04 ; Regulator: 36.7 ; Reg Factor: 99.9\n"
          ]
        },
        {
          "output_type": "display_data",
          "data": {
            "image/png": "[encoded data removed]",
            "text/plain": [
              "<Figure size 432x288 with 2 Axes>"
            ]
          },
          "metadata": {}
        },
        {
          "output_type": "stream",
          "name": "stdout",
          "text": [
            "0\n",
            "500\n",
            "1000\n",
            "1500\n",
            "Weight Fitting Epoch: 2000/10000 ; Error: 3.55e+05 ; Regulator: 869 ; Reg Factor: 0.398\n",
            "2000\n",
            "2500\n",
            "3000\n",
            "3500\n",
            "Weight Fitting Epoch: 4000/10000 ; Error: 2.58e+05 ; Regulator: 438 ; Reg Factor: 1.58\n",
            "4000\n",
            "4500\n",
            "5000\n",
            "5500\n",
            "Weight Fitting Epoch: 6000/10000 ; Error: 2.48e+05 ; Regulator: 212 ; Reg Factor: 6.31\n",
            "6000\n",
            "6500\n",
            "7000\n",
            "7500\n",
            "Weight Fitting Epoch: 8000/10000 ; Error: 2.44e+05 ; Regulator: 57.5 ; Reg Factor: 25.1\n",
            "8000\n",
            "8500\n",
            "9000\n",
            "9500\n",
            "Weight Fitting Epoch: 10000/10000 ; Error: 2.44e+05 ; Regulator: 7.71 ; Reg Factor: 99.9\n"
          ]
        },
        {
          "output_type": "display_data",
          "data": {
            "image/png": "[encoded data removed]",
            "text/plain": [
              "<Figure size 432x288 with 2 Axes>"
            ]
          },
          "metadata": {}
        }
      ]
    },
    {
      "cell_type": "code",
      "source": [
        "from explainers.nearest_neighbours import NearNeighLatent\n",
        "\n",
        "model_name = \"NN\"\n",
        "model_names.append(model_name)\n",
        "\n",
        "for key in fit_keys:\n",
        "  nn_dist = NearNeighLatent(\n",
        "      corpus_latent_reps=latent_states['train'].cpu(), \n",
        "      weights_type='distance'\n",
        "    )\n",
        "  latent_state = latent_states[key].cpu()\n",
        "  nn_dist.fit(test_latent_reps=latent_state,\n",
        "              n_keep=N_KEEP)\n",
        "  explainers[f\"{model_name} {key}\"] = nn_dist"
      ],
      "metadata": {
        "id": "ABeITUZKrZk7"
      },
      "execution_count": 28,
      "outputs": []
    },
    {
      "cell_type": "code",
      "source": [
        "from torch.nn.functional import pairwise_distance\n",
        "from sklearn.metrics import r2_score\n",
        "\n",
        "errors={}\n",
        "r2_scores={}\n",
        "\n",
        "for name, explainer in explainers.items():\n",
        "  latent_rep=explainer.test_latent_reps.cpu()\n",
        "  latent_approx=explainer.latent_approx().cpu()\n",
        "  errors[name]=pairwise_distance(latent_rep, latent_approx)\n",
        "  r2_scores[name]=r2_score(latent_rep, latent_approx)"
      ],
      "metadata": {
        "id": "3ualRLwlqiug"
      },
      "execution_count": 30,
      "outputs": []
    },
    {
      "cell_type": "code",
      "source": [
        "r2_scores"
      ],
      "metadata": {
        "colab": {
          "base_uri": "https://localhost:8080/"
        },
        "id": "w405RIMRj2r1",
        "outputId": "e85e46c7-3d22-47e9-c571-98a812541efc"
      },
      "execution_count": 31,
      "outputs": [
        {
          "output_type": "execute_result",
          "data": {
            "text/plain": [
              "{'NN oos': 0.37565389178854,\n",
              " 'NN test': 0.9491254850903695,\n",
              " 'NN val': 0.9497541783320425,\n",
              " 'Simplex oos': 0.570337151756094,\n",
              " 'Simplex test': 0.9723829977429203,\n",
              " 'Simplex val': 0.9724334439267731}"
            ]
          },
          "metadata": {},
          "execution_count": 31
        }
      ]
    },
    {
      "cell_type": "code",
      "source": [
        "fig, ax = plt.subplots()\n",
        "ax.boxplot([error.numpy() for error in errors.values()])\n",
        "ax.set_xticklabels(errors.keys())\n",
        "ax.set_ylabel('Distance')\n",
        "plt.show()"
      ],
      "metadata": {
        "colab": {
          "base_uri": "https://localhost:8080/",
          "height": 324
        },
        "id": "4GvzJQKOnV1S",
        "outputId": "70619421-e30d-4688-a9fe-cec3a0bf2e71"
      },
      "execution_count": 32,
      "outputs": [
        {
          "output_type": "stream",
          "name": "stderr",
          "text": [
            "/usr/local/lib/python3.7/dist-packages/matplotlib/cbook/__init__.py:1376: VisibleDeprecationWarning: Creating an ndarray from ragged nested sequences (which is a list-or-tuple of lists-or-tuples-or ndarrays with different lengths or shapes) is deprecated. If you meant to do this, you must specify 'dtype=object' when creating the ndarray.\n",
            "  X = np.atleast_1d(X.T if isinstance(X, np.ndarray) else np.asarray(X))\n"
          ]
        },
        {
          "output_type": "display_data",
          "data": {
            "image/png": "[encoded data removed]",
            "text/plain": [
              "<Figure size 432x288 with 1 Axes>"
            ]
          },
          "metadata": {}
        }
      ]
    },
    {
      "cell_type": "code",
      "source": [
        "from scipy.stats import ks_2samp\n",
        "model_names = ['NN', 'Simplex']\n",
        "ks_2_samp_metrics = {}\n",
        "for model_name in model_names:\n",
        "  for fit_key in ['oos', 'test']:\n",
        "    key=f\"{model_name} {fit_key}\"\n",
        "    ks_2_samp_metrics[key] = ks_2samp(errors[f\"{model_name} val\"], errors[key])\n",
        "\n",
        "ks_2_samp_metrics"
      ],
      "metadata": {
        "colab": {
          "base_uri": "https://localhost:8080/"
        },
        "id": "ssCmS1HkuTZc",
        "outputId": "819a5145-bb79-4f7e-b7fe-646c15db4d91"
      },
      "execution_count": 44,
      "outputs": [
        {
          "output_type": "execute_result",
          "data": {
            "text/plain": [
              "{'NN oos': Ks_2sampResult(statistic=0.8271666666666667, pvalue=0.0),\n",
              " 'NN test': Ks_2sampResult(statistic=0.017888888888888888, pvalue=1.0),\n",
              " 'Simplex oos': Ks_2sampResult(statistic=0.8545, pvalue=0.0),\n",
              " 'Simplex test': Ks_2sampResult(statistic=0.013111111111111112, pvalue=1.0)}"
            ]
          },
          "metadata": {},
          "execution_count": 44
        }
      ]
    },
    {
      "cell_type": "code",
      "source": [
        "pdf = np.sort(errors['Simplex val'].numpy())\n",
        "plt.hist(pdf, density=True)"
      ],
      "metadata": {
        "colab": {
          "base_uri": "https://localhost:8080/",
          "height": 372
        },
        "id": "qsJu-hX_2d9L",
        "outputId": "bbcdbb12-bcac-4878-85d6-1d4d8e3e749c"
      },
      "execution_count": 63,
      "outputs": [
        {
          "output_type": "execute_result",
          "data": {
            "text/plain": [
              "(array([0.33114041, 0.13802155, 0.03932873, 0.02096295, 0.01020321,\n",
              "        0.00779154, 0.00352474, 0.00259718, 0.00185513, 0.00111308]),\n",
              " array([ 0.48928648,  2.2861073 ,  4.082928  ,  5.879749  ,  7.67657   ,\n",
              "         9.473391  , 11.270211  , 13.067032  , 14.863853  , 16.660673  ,\n",
              "        18.457495  ], dtype=float32),\n",
              " <a list of 10 Patch objects>)"
            ]
          },
          "metadata": {},
          "execution_count": 63
        },
        {
          "output_type": "display_data",
          "data": {
            "image/png": "[encoded data removed]",
            "text/plain": [
              "<Figure size 432x288 with 1 Axes>"
            ]
          },
          "metadata": {}
        }
      ]
    },
    {
      "cell_type": "code",
      "source": [
        "plt.plot(pdf, np.linspace(0, 1, num=len(pdf)))"
      ],
      "metadata": {
        "colab": {
          "base_uri": "https://localhost:8080/",
          "height": 285
        },
        "id": "1Mndp0de2nRp",
        "outputId": "4b13f6ad-2316-419e-93fd-cf5b9e077b46"
      },
      "execution_count": 64,
      "outputs": [
        {
          "output_type": "execute_result",
          "data": {
            "text/plain": [
              "[<matplotlib.lines.Line2D at 0x7f564de269d0>]"
            ]
          },
          "metadata": {},
          "execution_count": 64
        },
        {
          "output_type": "display_data",
          "data": {
            "image/png": "[encoded data removed]",
            "text/plain": [
              "<Figure size 432x288 with 1 Axes>"
            ]
          },
          "metadata": {}
        }
      ]
    },
    {
      "cell_type": "code",
      "source": [
        "def get_prob_dist_greater_equal(dist, pdf):\n",
        "  try:\n",
        "    idx = next(idx for idx, dist_lookup in enumerate(pdf) if dist_lookup >= dist)\n",
        "  except StopIteration:\n",
        "    idx = len(pdf)\n",
        "  return 1-(idx/len(pdf))"
      ],
      "metadata": {
        "colab": {
          "base_uri": "https://localhost:8080/"
        },
        "id": "S1g1cS6x5I75",
        "outputId": "ff1ca19d-7a68-4bc1-dddc-744edd1d3c36"
      },
      "execution_count": 70,
      "outputs": [
        {
          "output_type": "execute_result",
          "data": {
            "text/plain": [
              "0.0"
            ]
          },
          "metadata": {},
          "execution_count": 70
        }
      ]
    },
    {
      "cell_type": "code",
      "source": [
        "model_names = ['NN', 'Simplex']\n",
        "thresholding = {}\n",
        "for model_name in model_names:\n",
        "  pdf = np.sort(errors[f\"{model_name} val\"].numpy())\n",
        "  for fit_key in ['oos', 'test']:\n",
        "    key=f\"{model_name} {fit_key}\"\n",
        "    print(key)\n",
        "    thresholding[key] = np.array([get_prob_dist_greater_equal(dist, pdf) for dist in errors[f\"{model_name} {fit_key}\"]])"
      ],
      "metadata": {
        "colab": {
          "base_uri": "https://localhost:8080/"
        },
        "id": "HS6VHLjd6-bS",
        "outputId": "2170059a-a515-41b0-b4db-364122f73989"
      },
      "execution_count": 74,
      "outputs": [
        {
          "output_type": "stream",
          "name": "stdout",
          "text": [
            "NN oos\n",
            "NN test\n",
            "Simplex oos\n",
            "Simplex test\n"
          ]
        }
      ]
    },
    {
      "cell_type": "code",
      "source": [
        "fig, ax = plt.subplots()\n",
        "ax.boxplot(thresholding.values())\n",
        "ax.set_xticklabels(thresholding.keys())\n",
        "ax.set_ylabel('Probability')\n",
        "plt.show()"
      ],
      "metadata": {
        "colab": {
          "base_uri": "https://localhost:8080/",
          "height": 323
        },
        "id": "jjS1ALMZ8_1r",
        "outputId": "185dec05-5e65-452a-f36d-c0f53e00b3c7"
      },
      "execution_count": 79,
      "outputs": [
        {
          "output_type": "stream",
          "name": "stderr",
          "text": [
            "/usr/local/lib/python3.7/dist-packages/matplotlib/cbook/__init__.py:1376: VisibleDeprecationWarning: Creating an ndarray from ragged nested sequences (which is a list-or-tuple of lists-or-tuples-or ndarrays with different lengths or shapes) is deprecated. If you meant to do this, you must specify 'dtype=object' when creating the ndarray.\n",
            "  X = np.atleast_1d(X.T if isinstance(X, np.ndarray) else np.asarray(X))\n"
          ]
        },
        {
          "output_type": "display_data",
          "data": {
            "image/png": "[encoded data removed]",
            "text/plain": [
              "<Figure size 432x288 with 1 Axes>"
            ]
          },
          "metadata": {}
        }
      ]
    },
    {
      "cell_type": "code",
      "source": [
        "thresholding_95 = {key: np.where(probs<0.05,1,0) for key, probs in thresholding.items()}"
      ],
      "metadata": {
        "id": "acTaeaUg9dvT"
      },
      "execution_count": 80,
      "outputs": []
    },
    {
      "cell_type": "code",
      "source": [
        "from sklearn.metrics import classification_report, confusion_matrix\n",
        "\n",
        "oos = thresholding_95['Simplex oos']\n",
        "inscope = thresholding_95['Simplex test']\n",
        "y_pred = np.append(oos, inscope)\n",
        "y_true = np.append(np.ones(len(oos)), np.zeros(len(inscope)))\n",
        "\n",
        "print(confusion_matrix(y_true, y_pred))\n",
        "precision_recall_fscore_support(y_true, y_pred, average='binary')"
      ],
      "metadata": {
        "colab": {
          "base_uri": "https://localhost:8080/"
        },
        "id": "rCMwIoeK-VFy",
        "outputId": "ed004c4f-9ca5-45db-80f1-ad0a97cdbb05"
      },
      "execution_count": 82,
      "outputs": [
        {
          "output_type": "stream",
          "name": "stdout",
          "text": [
            "[[4271  229]\n",
            " [ 122 1078]]\n"
          ]
        },
        {
          "output_type": "execute_result",
          "data": {
            "text/plain": [
              "(0.8247895944912013, 0.8983333333333333, 0.8599920223374551, None)"
            ]
          },
          "metadata": {},
          "execution_count": 82
        }
      ]
    },
    {
      "cell_type": "code",
      "source": [
        "oos = thresholding_95['NN oos']\n",
        "inscope = thresholding_95['NN test']\n",
        "y_pred = np.append(oos, inscope)\n",
        "y_true = np.append(np.ones(len(oos)), np.zeros(len(inscope)))\n",
        "\n",
        "print(confusion_matrix(y_true, y_pred))\n",
        "precision_recall_fscore_support(y_true, y_pred, average='binary')"
      ],
      "metadata": {
        "colab": {
          "base_uri": "https://localhost:8080/"
        },
        "id": "-324L1C9BhHp",
        "outputId": "96f207b8-3001-4a46-d790-af4f2e7adefe"
      },
      "execution_count": 83,
      "outputs": [
        {
          "output_type": "stream",
          "name": "stdout",
          "text": [
            "[[4267  233]\n",
            " [ 163 1037]]\n"
          ]
        },
        {
          "output_type": "execute_result",
          "data": {
            "text/plain": [
              "(0.8165354330708662, 0.8641666666666666, 0.8396761133603239, None)"
            ]
          },
          "metadata": {},
          "execution_count": 83
        }
      ]
    }
  ]
}